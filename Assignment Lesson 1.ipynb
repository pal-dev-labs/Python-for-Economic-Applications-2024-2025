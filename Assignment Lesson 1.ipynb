{
 "cells": [
  {
   "cell_type": "markdown",
   "id": "6d8901a8-8bc0-4ff7-b725-d2a415dffd37",
   "metadata": {},
   "source": [
    "## INSTRUCTIONS\n",
    "- Try to write the code by yourself based on basic instructions provided in the notebook Lesson 1.\n",
    "- Run the cell and, in case, try to fix the error comparing with code in notebook Lesson 1. This phase is IMPORTANT to fix in memory commands and syntax\n",
    "- If you still have problems, go to ChatGPT and write \"create a python code that perform ..exercise..instructions\". Cut and paste the code in a new notebook cell \n",
    "- Customize the code if necessary and run it. \n",
    "- IMPORTANT: go through each single instructions of the new code and try to execute mentally the code in order to understand the flow of the program and the meaning of the commands. There are 2 goals here. First: fix commands meaning and syntax. Second: understand solution strategy\n",
    "- COMPARE the new code with previous code in order to understand the errors you made\n",
    "\n",
    "You can also go to stackoverflow to ask question about python code."
   ]
  },
  {
   "cell_type": "markdown",
   "id": "09699309-0cb2-4d49-af46-99cdd847628b",
   "metadata": {},
   "source": [
    "# EXERCISES"
   ]
  },
  {
   "cell_type": "markdown",
   "id": "d9b6423e-d791-4585-bd9f-9bc4b1b8876a",
   "metadata": {},
   "source": [
    "Exercise 1: Write a program that asks the user for their name and then greets them by name.\n",
    "\n"
   ]
  },
  {
   "cell_type": "markdown",
   "id": "b0f826f4-80e9-4c6a-b364-4e053b4f8e1b",
   "metadata": {},
   "source": [
    "Exercise 2: Write a program that calculates the area of a triangle. The user should be asked to enter the base and height of the triangle."
   ]
  },
  {
   "cell_type": "markdown",
   "id": "a3929ee5-9e30-4f9c-8081-1681f9e41f05",
   "metadata": {},
   "source": [
    "Exercise 3: Write a program that converts a temperature from Celsius to Fahrenheit. The user should be asked to enter a temperature in Celsius."
   ]
  },
  {
   "cell_type": "markdown",
   "id": "55accf9d-6ef6-487c-a1bf-1eb4f5aa23bf",
   "metadata": {},
   "source": [
    "Exercise 4: Write a function that takes two numbers as input and returns their sum.\n",
    "\n"
   ]
  },
  {
   "cell_type": "markdown",
   "id": "09a546b6-cb00-49b4-8e19-24b68418d6ea",
   "metadata": {},
   "source": [
    "Exercise 5: Write a function that takes a list of numbers as input and returns the average of the numbers.\n",
    "\n"
   ]
  },
  {
   "cell_type": "markdown",
   "id": "a2abc505-ce1c-49c1-acab-17a32f654bb1",
   "metadata": {},
   "source": [
    "Exercise 6: Write a function that takes a string as input and returns the number of words in the string.\n",
    "\n"
   ]
  },
  {
   "cell_type": "markdown",
   "id": "eae2e456-8d48-4af8-b95a-7993f9d8abd6",
   "metadata": {},
   "source": [
    "Exercise 7: Write a function that doubles a number.\n",
    "\n"
   ]
  },
  {
   "cell_type": "markdown",
   "id": "ac39f703-3f28-479d-938a-b329221de32d",
   "metadata": {},
   "source": [
    "Exercise 8: Create a list and add some elements to the list (use method **.append()**)\n"
   ]
  },
  {
   "cell_type": "markdown",
   "id": "dd5e56f7-4bf4-453b-b47d-61ee8e6b45c9",
   "metadata": {},
   "source": [
    "Exercise 9: Write a function that takes a list of numbers and returns the largest number in the list. (use function max(list)\n",
    "\n"
   ]
  },
  {
   "cell_type": "markdown",
   "id": "236c09e8-ee15-4bce-87eb-c8835d8e14ef",
   "metadata": {
    "tags": []
   },
   "source": [
    "Exercise 10: Write a program that squares the elements of a list using the map() function. (try to understand with chatGPT how map function works)\n",
    "\n"
   ]
  },
  {
   "cell_type": "markdown",
   "id": "e94690d0-7785-4255-9df4-216398e0b0b1",
   "metadata": {
    "tags": []
   },
   "source": [
    "Exercise 11: Write a program that adds a prefix \"Hello,\" to each element in a list of names using the map() function."
   ]
  },
  {
   "cell_type": "markdown",
   "id": "2e3a2553-68a4-4e4d-ae47-b14031f30bc8",
   "metadata": {},
   "source": [
    "# FIX THE ERRORS"
   ]
  },
  {
   "cell_type": "markdown",
   "id": "6e4a5b27-46d5-449d-a7c6-17faa14e62c2",
   "metadata": {},
   "source": [
    "Here are 3 Python exercises with common errors, designed to help students identify and correct issues in the code. Each exercise includes at least one syntax or logic error.  \n",
    "\n",
    "**IMPORTANT**: Run the cell code and **READ THE ERROR MESSAGE**  \n",
    "If you can't find the error, insert the code in chatGPT and ask to fix the error"
   ]
  },
  {
   "cell_type": "markdown",
   "id": "6982eb9d-49ed-468f-be14-5d6d01847673",
   "metadata": {},
   "source": [
    "## Exercise 1\n",
    "The following function **convert_to_uppercase** is supposed to take a string and return it with all uppercase letters.  \n",
    "Goal: Identify and correct the error."
   ]
  },
  {
   "cell_type": "code",
   "execution_count": null,
   "id": "bdcc13e3-268e-49e6-a515-275726a63e75",
   "metadata": {},
   "outputs": [],
   "source": [
    "# to uppercase letters you can use upper() method\n",
    "text = \"hello world\"\n",
    "text.upper()"
   ]
  },
  {
   "cell_type": "code",
   "execution_count": null,
   "id": "f975c9db-7b2d-4488-9a2a-15bb6f2e1d76",
   "metadata": {},
   "outputs": [],
   "source": [
    "def convert_to_uppercase(text):\n",
    "    text.upper\n",
    "    return text\n",
    "\n",
    "print(convert_to_uppercase(\"hello world\"))"
   ]
  },
  {
   "cell_type": "markdown",
   "id": "15fbf994-8b74-4b1f-b67a-0c31742b06f5",
   "metadata": {},
   "source": [
    "## Exercise 2\n",
    "The following code is intended to remove all spaces at the beginning and end of a string.  \n",
    "Goal: Identify and correct the error.\n",
    "\n"
   ]
  },
  {
   "cell_type": "code",
   "execution_count": null,
   "id": "d681ff3d-131d-49d0-857f-7a2a8ed60052",
   "metadata": {},
   "outputs": [],
   "source": [
    "def remove_spaces(string):\n",
    "    return string.remove(\" \")\n",
    "\n",
    "text = \"   hello world   \"\n",
    "print(remove_spaces(text))\n"
   ]
  },
  {
   "cell_type": "markdown",
   "id": "d5309189-c1ce-436f-9be6-74bff25b75d1",
   "metadata": {},
   "source": [
    "## Exercise 3\n",
    "This code is supposed to concatenate two lists but generates an error.  \n",
    "Goal: Identify and correct the error.\n",
    "\n"
   ]
  },
  {
   "cell_type": "code",
   "execution_count": null,
   "id": "337de28d-0be0-44a1-9b23-90944577dbd0",
   "metadata": {},
   "outputs": [],
   "source": [
    "def concatenate_lists(list1, list2):\n",
    "    return list1 + list2\n",
    "\n",
    "list_a = [1, 2, 3]\n",
    "list_b = [4, 5, 6]\n",
    "print(concatenate_lists(list_a, list_b, [7, 8, 9]))\n"
   ]
  }
 ],
 "metadata": {
  "kernelspec": {
   "display_name": "Python 3 (ipykernel)",
   "language": "python",
   "name": "python3"
  },
  "language_info": {
   "codemirror_mode": {
    "name": "ipython",
    "version": 3
   },
   "file_extension": ".py",
   "mimetype": "text/x-python",
   "name": "python",
   "nbconvert_exporter": "python",
   "pygments_lexer": "ipython3",
   "version": "3.12.4"
  }
 },
 "nbformat": 4,
 "nbformat_minor": 5
}
