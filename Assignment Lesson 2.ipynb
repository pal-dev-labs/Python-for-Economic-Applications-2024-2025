{
 "cells": [
  {
   "cell_type": "markdown",
   "id": "9296605d-39e9-4c12-9f1c-35b35b85221d",
   "metadata": {},
   "source": [
    "# PHYTON FOR ECONOMIC APPLICATION - ASSIGNMENT LESSON 2"
   ]
  },
  {
   "cell_type": "markdown",
   "id": "1efe9936-d459-43ff-a04f-8ed7a03a9f76",
   "metadata": {},
   "source": [
    "## INSTRUCTIONS\n",
    "- Try to write the code by yourself based on basic instructions provided in the notebook Lesson 1.\n",
    "- Run the cell and, in case, try to fix the error comparing with code in notebook Lesson 1-2. This phase is IMPORTANT to fix in memory commands and syntax\n",
    "- If you still have problems, go to ChatGPT and write \"create a python code that perform ..exercise..instructions\". Cut and paste the code in a new notebook cell \n",
    "- Customize the code if necessary and run it. \n",
    "- IMPORTANT: go through each single instructions of the new code and try to execute mentally the code in order to understand the flow of the program and the meaning of the commands. There are 2 goals here. First: fix commands meaning and syntax. Second: understand solution strategy\n",
    "- COMPARE the new code with previous code in order to understand the errors you made\n",
    "\n",
    "You can also go to stackoverflow to ask question about python code."
   ]
  },
  {
   "cell_type": "markdown",
   "id": "f40fbce5-3535-42e7-b222-23b54fb72b9a",
   "metadata": {},
   "source": [
    "## Exercise 1: Calculate Total Revenue\n",
    "Write a function `calculate_revenue(prices, quantities)` that:\n",
    "1. Takes two lists as input: `prices` (list of item prices) and `quantities` (list of quantities sold for each item).\n",
    "2. Uses a `for` loop to calculate the total revenue for each item (price * quantity).\n",
    "3. Returns a list of total revenues.\n",
    "\n",
    "Example:\n",
    "Input: prices = [10, 20, 15], quantities = [2, 3, 5]\n",
    "Output: [20, 60, 75]\n",
    "\n",
    "---\n",
    "\n",
    "## Exercise 2: Identify Profitable Products\n",
    "Write a function `identify_profitable(costs, revenues, threshold)` that:\n",
    "1. Takes three inputs: `costs` (list of production costs), `revenues` (list of revenues), and `threshold` (minimum profit).\n",
    "2. Uses a `for` loop and `if-else` statements to calculate the profit for each product (revenue - cost).\n",
    "3. Returns a list of booleans indicating whether each product's profit exceeds the threshold.\n",
    "\n",
    "Example:\n",
    "Input: costs = [50, 60, 40], revenues = [100, 80, 60], threshold = 20\n",
    "Output: [True, False, True]\n",
    "\n",
    "---\n",
    "\n",
    "## Exercise 3: Apply Taxes to Incomes\n",
    "Write a function `apply_taxes(incomes, tax_rate)` that:\n",
    "1. Takes two inputs: `incomes` (list of individual incomes) and `tax_rate` (percentage).\n",
    "2. Uses a `for` loop to calculate the tax for each income and subtracts it to find the after-tax income.\n",
    "3. Returns a list of after-tax incomes.\n",
    "\n",
    "Example:\n",
    "Input: incomes = [50000, 60000, 30000], tax_rate = 20\n",
    "Output: [40000.0, 48000.0, 24000.0]\n",
    "\n",
    "---\n",
    "\n",
    "## Exercise 4: Classify Expense Categories\n",
    "Write a function `classify_expenses(expenses, high_threshold)` that:\n",
    "1. Takes two inputs: `expenses` (list of expense amounts) and `high_threshold` (a threshold value for high expenses).\n",
    "2. Uses a `for` loop and `if-else` to classify each expense as `\"High\"` or `\"Low\"`.\n",
    "3. Returns a list of strings (`\"High\"` or `\"Low\"`) corresponding to each expense.\n",
    "\n",
    "Example:\n",
    "Input: expenses = [100, 50, 300, 150], high_threshold = 150\n",
    "Output: [\"Low\", \"Low\", \"High\", \"High\"]\n",
    "\n",
    "---\n",
    "\n",
    "## Exercise 5: Detect Sales Trends\n",
    "Write a function `detect_sales_trends(sales)` that:\n",
    "1. Takes a list of daily sales numbers as input.\n",
    "2. Uses a `for` loop to compare each day’s sales to the previous day.\n",
    "3. Returns a list of strings: `\"Increase\"`, `\"Decrease\"`, or `\"No Change\"`, representing the trend for each day (except the first).\n",
    "\n",
    "Example:\n",
    "Input: sales = [100, 120, 110, 110, 150]\n",
    "Output: [\"Increase\", \"Decrease\", \"No Change\", \"Increase\"]\n"
   ]
  }
 ],
 "metadata": {
  "kernelspec": {
   "display_name": "Python 3 (ipykernel)",
   "language": "python",
   "name": "python3"
  },
  "language_info": {
   "codemirror_mode": {
    "name": "ipython",
    "version": 3
   },
   "file_extension": ".py",
   "mimetype": "text/x-python",
   "name": "python",
   "nbconvert_exporter": "python",
   "pygments_lexer": "ipython3",
   "version": "3.12.4"
  }
 },
 "nbformat": 4,
 "nbformat_minor": 5
}
