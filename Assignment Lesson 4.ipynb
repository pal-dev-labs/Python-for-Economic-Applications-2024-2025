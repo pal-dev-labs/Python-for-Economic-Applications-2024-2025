{
 "cells": [
  {
   "cell_type": "markdown",
   "id": "1d63a8de-91f0-4604-a15c-5ea7724f3f1f",
   "metadata": {},
   "source": [
    "## INSTRUCTIONS\n",
    "- Try to write the code by yourself based on basic instructions provided in the notebook Lesson 1.\n",
    "- Run the cell and, in case, try to fix the error comparing with code in notebook Lesson 4. This phase is IMPORTANT to fix in memory commands and syntax\n",
    "- If you still have problems, go to ChatGPT and write \"create a python code that perform ..exercise..instructions\". Cut and paste the code in a new notebook cell \n",
    "- Customize the code if necessary and run it. \n",
    "- IMPORTANT: go through each single instructions of the new code and try to execute mentally the code in order to understand the flow of the program and the meaning of the commands. There are 2 goals here. First: fix commands meaning and syntax. Second: understand solution strategy\n",
    "- COMPARE the new code with previous code in order to understand the errors you made\n",
    "\n",
    "You can also go to stackoverflow to ask question about python code."
   ]
  },
  {
   "cell_type": "markdown",
   "id": "3ea105fa-0c7c-4406-81c0-501523545323",
   "metadata": {},
   "source": [
    "# NumPy Exercises: Boolean Masking and Filtering\n",
    "\n",
    "## **Exercise 1: Filter Even Numbers**\n",
    "Generate a NumPy array of random integers between 1 and 100 (size 20). Use boolean masking to create a new array containing only the even numbers.\n",
    "\n",
    "### **Instructions:**\n",
    "1. Generate the initial array using `np.random.randint`.\n",
    "2. Use a boolean expression to identify even numbers.\n",
    "3. Filter the initial array to get the even numbers.\n",
    "\n",
    "---\n",
    "\n",
    "## **Exercise 2: Elements Greater Than the Mean**\n",
    "Create a NumPy array of random numbers (size 15) uniformly distributed between 0 and 1. Filter the elements that are greater than the mean of all the array elements.\n",
    "\n",
    "### **Instructions:**\n",
    "1. Generate the array using `np.random.rand`.\n",
    "2. Calculate the mean of the elements using `np.mean`.\n",
    "3. Use boolean masking to select only the elements greater than the mean.\n",
    "\n",
    "---\n",
    "\n",
    "## **Exercise 3: Replace Values Outside a Range**\n",
    "Create an array of random integers between 10 and 50 (size 30). Use boolean masking to find the elements that are outside the range `[20, 40]` and replace them with the mean of the valid elements within the range.\n",
    "\n",
    "### **Instructions:**\n",
    "1. Generate the initial array using `np.random.randint`.\n",
    "2. Use boolean masking to identify elements outside the range.\n",
    "3. Replace these values with the mean of the elements within the range `[20, 40]`.\n",
    "\n"
   ]
  },
  {
   "cell_type": "code",
   "execution_count": null,
   "id": "b4c09f6d-54f2-4400-a2fc-7acc88e924e1",
   "metadata": {},
   "outputs": [],
   "source": []
  },
  {
   "cell_type": "markdown",
   "id": "625e61bf-6bc1-47d3-9e9c-c9b89bf3d880",
   "metadata": {
    "tags": []
   },
   "source": [
    "# PANDAS"
   ]
  },
  {
   "cell_type": "markdown",
   "id": "bad29619-f6e6-4746-867c-d9ed50f2da00",
   "metadata": {},
   "source": [
    "## Exercises\n",
    "Import the pandas library.\n",
    "Load the \"Titanic\" dataset using the commands  \n",
    "url = 'https://raw.githubusercontent.com/pal-dev-labs/Python-for-Economic-Applications-2024-2025/refs/heads/main/Data/titanic.csv'\n",
    "df = pd.read_csv(url)\n",
    "\n",
    "- Print the information on the table\n",
    "- Extract the column of survived and print it\n",
    "- count the total number of survived\n",
    "- Extract the column of fares. extract the row from 10 to 100 and print it on the screen. Sort the column and extract the first 30 more expensive tickets. Calculate the total amount of the tickets\n",
    "- Using filters print the passengers above and below 18. \n",
    "- Using filters print the male and female passengers\n",
    "- In the column of fares create a filter that cut the fares below the average fare. use the filter to print all the name of the passenger that have a ticket above the average fare.\n",
    "- Check for missing values in the dataset.\n",
    "- Impute missing values in numerical columns (e.g., Age) using a suitable method (e.g., mean, median).\n",
    "- Check for duplicates in the dataset.\n",
    "- Drop duplicate rows if necessary."
   ]
  }
 ],
 "metadata": {
  "kernelspec": {
   "display_name": "Python 3 (ipykernel)",
   "language": "python",
   "name": "python3"
  },
  "language_info": {
   "codemirror_mode": {
    "name": "ipython",
    "version": 3
   },
   "file_extension": ".py",
   "mimetype": "text/x-python",
   "name": "python",
   "nbconvert_exporter": "python",
   "pygments_lexer": "ipython3",
   "version": "3.12.4"
  }
 },
 "nbformat": 4,
 "nbformat_minor": 5
}
