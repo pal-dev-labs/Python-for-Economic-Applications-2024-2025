{
 "cells": [
  {
   "cell_type": "markdown",
   "id": "9b6135e1-cc1a-46a5-8f2d-385d0413c2d6",
   "metadata": {
    "tags": []
   },
   "source": [
    "# Welcome to PYTHON PROGRAMMING LANGUAGE"
   ]
  },
  {
   "cell_type": "markdown",
   "id": "f10bbf1a-ed1f-4a22-b8dd-cd4df3964716",
   "metadata": {},
   "source": [
    "# The interface: JUPYTER NOTEBOOK\n",
    "\n",
    "Jupyter notebook works with **CELLS**   \n",
    "We have 2 kind of cells\n",
    "- **COMMAND CELLS**: contains python commands to be executed\n",
    "- **TEXT CELLS**: contains formatted text to be red"
   ]
  },
  {
   "cell_type": "markdown",
   "id": "ba9b5148-f4af-4a4c-81cc-d8e99399cc07",
   "metadata": {},
   "source": [
    "# Command Cell"
   ]
  },
  {
   "cell_type": "code",
   "execution_count": 91,
   "id": "698e7e31-b9f0-4732-b9ab-9b66f2779fcb",
   "metadata": {},
   "outputs": [
    {
     "name": "stdout",
     "output_type": "stream",
     "text": [
      "Hello World\n"
     ]
    }
   ],
   "source": [
    "# this is a comment in a code cell\n",
    "# a cell code can be executed\n",
    "print(\"Hello World\")"
   ]
  },
  {
   "cell_type": "markdown",
   "id": "589688d3-596b-4e89-a9d9-26582de969e2",
   "metadata": {},
   "source": [
    "# Text Cell"
   ]
  },
  {
   "cell_type": "markdown",
   "id": "12674456-f155-41c7-8b2c-41981f23b6d0",
   "metadata": {},
   "source": [
    "This is comment in a text cell. Text cells are usuful to print **formatted** text\n",
    "## You can also print  \n",
    "math symbols like $\\frac{1}{\\pi}*\\int f(x) \\, dx$"
   ]
  },
  {
   "cell_type": "markdown",
   "id": "ebf362da-8077-4fc9-a976-65f9fdeb9db9",
   "metadata": {},
   "source": [
    "# CONCEPT 1: PYTHON OBJECTS  \n",
    "In Python, objects are central to everything, as Python is an object-oriented programming language  \n",
    "\n",
    "1) OBJECTS IN PYTHON **STORE INFORMATION (IN FIELD)** AND **PERFORM ACTIONS (WITH METHODS)**\n",
    "2) AN OBJECT IN PYTHON HAS A SPECIFIC **TYPE** (the kind of the object)"
   ]
  },
  {
   "cell_type": "markdown",
   "id": "99bbb527-5c77-4ac8-8fef-631c714549e9",
   "metadata": {},
   "source": [
    "## NUMERICAL OBJECTS"
   ]
  },
  {
   "cell_type": "markdown",
   "id": "b0575e4e-d2f8-46f2-bee9-1ad4632fccfe",
   "metadata": {},
   "source": [
    "Let's create (technically **build**) some **numerical objects** and perform arithmetic operations"
   ]
  },
  {
   "cell_type": "code",
   "execution_count": 41,
   "id": "c46fc011-f470-4eb6-87ee-3992cc314ac7",
   "metadata": {},
   "outputs": [
    {
     "data": {
      "text/plain": [
       "5"
      ]
     },
     "execution_count": 41,
     "metadata": {},
     "output_type": "execute_result"
    }
   ],
   "source": [
    "# if you run this cell you build a \"type\" INT object (AN INTEGER NUMBER) that store the value 5\n",
    "5"
   ]
  },
  {
   "cell_type": "code",
   "execution_count": 19,
   "id": "71243cf7-e564-4214-ba67-1515e1b4d3d5",
   "metadata": {},
   "outputs": [
    {
     "data": {
      "text/plain": [
       "int"
      ]
     },
     "execution_count": 19,
     "metadata": {},
     "output_type": "execute_result"
    }
   ],
   "source": [
    "# Let's check the TYPE of the object with function type\n",
    "type(5)"
   ]
  },
  {
   "cell_type": "code",
   "execution_count": 49,
   "id": "b2a7c1a7-356c-439e-a999-07565c72bf80",
   "metadata": {},
   "outputs": [
    {
     "data": {
      "text/plain": [
       "3.2"
      ]
     },
     "execution_count": 49,
     "metadata": {},
     "output_type": "execute_result"
    }
   ],
   "source": [
    "# if you run this cell you create a \"type\" FLOAT object (A REAL NUMBER) that store the value 3.2\n",
    "3.2"
   ]
  },
  {
   "cell_type": "code",
   "execution_count": 27,
   "id": "273817a0-0ea0-4eaa-9ecc-4c5389f6c96d",
   "metadata": {},
   "outputs": [
    {
     "data": {
      "text/plain": [
       "float"
      ]
     },
     "execution_count": 27,
     "metadata": {},
     "output_type": "execute_result"
    }
   ],
   "source": [
    "type(3.2)"
   ]
  },
  {
   "cell_type": "markdown",
   "id": "86fd871b-7161-48e7-8c20-7a7b9cf24d32",
   "metadata": {},
   "source": [
    "## OPERATORS: Operators perform actions between objects  \n",
    "Operator **+** takes 2 numerical objects that contains value 5 and 3 and then calculate their sum  \n",
    "Take care that the operator takes 2 objects of the **same type**"
   ]
  },
  {
   "cell_type": "code",
   "execution_count": 28,
   "id": "766f5922-dea4-4c06-9145-8daf848581ff",
   "metadata": {},
   "outputs": [
    {
     "data": {
      "text/plain": [
       "8"
      ]
     },
     "execution_count": 28,
     "metadata": {},
     "output_type": "execute_result"
    }
   ],
   "source": [
    "# operator + takes 2 numerical objects that contains value 5 and 3 and then calculate their sum\n",
    "# take care that operator takes 2 objects of the same type\n",
    "5+3"
   ]
  },
  {
   "cell_type": "markdown",
   "id": "ed5bfd9d-44c4-4b62-962f-015036fd046d",
   "metadata": {},
   "source": [
    "Operator + also is able to calculate with objects of different type (but always numerical)"
   ]
  },
  {
   "cell_type": "code",
   "execution_count": 59,
   "id": "067f193b-53ad-4b5a-b6d2-5dbb2cc543e3",
   "metadata": {},
   "outputs": [
    {
     "data": {
      "text/plain": [
       "5.2"
      ]
     },
     "execution_count": 59,
     "metadata": {},
     "output_type": "execute_result"
    }
   ],
   "source": [
    "2+3.2"
   ]
  },
  {
   "cell_type": "code",
   "execution_count": 163,
   "id": "fb3e6d53-f4cf-41eb-ab9e-31f971db9290",
   "metadata": {},
   "outputs": [
    {
     "data": {
      "text/plain": [
       "0.5"
      ]
     },
     "execution_count": 163,
     "metadata": {},
     "output_type": "execute_result"
    }
   ],
   "source": [
    "(5-4)/2"
   ]
  },
  {
   "cell_type": "markdown",
   "id": "8454ade7-20cb-486c-bcfb-b6b1d6d218d4",
   "metadata": {},
   "source": [
    "Let's now see some operators"
   ]
  },
  {
   "cell_type": "markdown",
   "id": "7aea7f72-23bb-48be-948c-753edf76c344",
   "metadata": {},
   "source": [
    "## Arithmetics Operators\n",
    "\n",
    "| Operator     | Name           | Description                                            |\n",
    "|--------------|----------------|--------------------------------------------------------|\n",
    "| ``a + b``    | Addition       | Sum of ``a`` and ``b``                                 |\n",
    "| ``a - b``    | Subtraction    | Difference of ``a`` and ``b``                          |\n",
    "| ``a * b``    | Multiplication | Product of ``a`` and ``b``                             |\n",
    "| ``a / b``    | True division  | Quotient of ``a`` and ``b``                            |\n",
    "| ``a // b``   | Floor division | Quotient of ``a`` and ``b``, removing fractional parts |\n",
    "| ``a % b``    | Modulus        | Integer remainder after division of ``a`` by ``b``     |\n",
    "| ``a ** b``   | Exponentiation | ``a`` raised to the power of ``b``                     |\n",
    "| ``-a``       | Negation       | The negative of ``a``                                  |"
   ]
  },
  {
   "cell_type": "markdown",
   "id": "b490176b-f39b-4563-9af9-e9083f36d127",
   "metadata": {},
   "source": [
    "Operators have their own **precedence rules** (similar to those in mathematics). To change these precedences, parentheses are used. An important difference is that in Python **only round parentheses** are used for this purpose: we can open as many as we want, one inside the other: we just need to remember to close them! Forgetting to close an open parenthesis is a rather common mistake.\n",
    "Let's see some examples:"
   ]
  },
  {
   "cell_type": "markdown",
   "id": "36d226ee-9f8a-431f-99d5-96ffa3a62a06",
   "metadata": {},
   "source": [
    "| **Math** | **Python** |  |\n",
    "|----------------|------------|--|\n",
    "| $( 3(2+5) )$   | `3 * (2 + 5)`  | It is necessary to write the `*` even when it is implicit in mathematics |\n",
    "| $(\\frac{5}{4^2 - 6})$   | `5 / (4 ** 2 - 6)` | Division has a higher priority than subtraction so parentheses are needed. |\n",
    "| $(\\left( \\frac{1}{4} + 2 \\left[ \\frac{1}{5} - \\left( 1 + \\frac{1}{3} \\right) \\right] \\right)^2 )$   | `(1 / 4 + 2 * (1 / 5 - (1 + 1 / 3))) ** 2` | Three open and three closed round brackets |\n",
    "| A circular platform rotates through an angle of 165° 12 times in a row. What angle will it finally form with respect to the starting position?| `(165 * 12) % 360` | The `%` operator is often used for numbers that can only take on a limited set of values ​​(e.g. angles, hours of day, etc.) |\n"
   ]
  },
  {
   "cell_type": "markdown",
   "id": "2eb8ee4d-4d17-4992-9c26-9bec73d8837c",
   "metadata": {},
   "source": [
    "## EXERCISE\n",
    "Try to calculate the expressions in the left column above "
   ]
  },
  {
   "cell_type": "code",
   "execution_count": null,
   "id": "6d2f1d14-d000-418e-b388-542d0b1db129",
   "metadata": {},
   "outputs": [],
   "source": []
  },
  {
   "cell_type": "code",
   "execution_count": 180,
   "id": "93ca4fbc-53ac-479c-9fcc-ed9b0127d749",
   "metadata": {},
   "outputs": [
    {
     "data": {
      "text/plain": [
       "4.066944444444444"
      ]
     },
     "execution_count": 180,
     "metadata": {},
     "output_type": "execute_result"
    }
   ],
   "source": [
    "(1 / 4 + 2 * (1 / 5 - (1 + 1 / 3))) ** 2"
   ]
  },
  {
   "cell_type": "markdown",
   "id": "cd628dd5-2fa9-4ace-a2f0-af140f836108",
   "metadata": {},
   "source": [
    "# CONCEPT 2: VARIABLES\n",
    "A **variable** is a symbolic name TO point to **AN OBJECT** created and stored in memory.   \n",
    "Variables allow you **to access data and methods of the object** and reuse it throughout your code.   \n",
    "When you create a variable, you assign it a value using the **=** operator (**ASSIGNMENT OPERATION**)"
   ]
  },
  {
   "cell_type": "markdown",
   "id": "9e13ba54-28d1-493b-bc4f-e31b61ba7dad",
   "metadata": {},
   "source": [
    "## Python Variables Are Pointers\n",
    "\n",
    "Assigning variables in Python is as easy as putting a variable name to the left of the equals (``=``) sign:\n",
    "\n",
    "```python\n",
    "# assign 4 to the variable x\n",
    "x = 4\n",
    "```\n",
    "\n",
    "It seems as we create a space in memory, named x, and insert directly the value 4 in that space.\n",
    "\n",
    "This is NOT the way in which Python works.\n",
    "\n",
    "In Python variables are best thought of not as containers but as **POINTERS**.\n",
    "So in Python, when you write\n",
    "\n",
    "```python\n",
    "x = 4\n",
    "```\n",
    "\n",
    "you are essentially defining a *pointer* named ``x`` that points to an object in memory that contains the value ``4``. The right part of the assignment instruction above, creates an int object in memory and assignes the address memory of that object to the pointer ``x``. \n",
    "\n",
    "\n",
    "In this way, variable a is able to accesso all the information of the object, including value, fields and methods.\n"
   ]
  },
  {
   "cell_type": "markdown",
   "id": "4cf63cbc-ca92-46ba-a62f-303d1dcc7d5e",
   "metadata": {},
   "source": [
    "https://github.com/pal-dev-labs/Python-for-Economic-Applications-2024-2025/blob/main/Images/fig-variable-object-3.png"
   ]
  },
  {
   "cell_type": "code",
   "execution_count": 108,
   "id": "2b2daaa6-899f-4f3f-a83c-bd97a957f28d",
   "metadata": {},
   "outputs": [],
   "source": [
    "x = 4      # a is the name of the VARIABLE, a=10 is an ASSIGNMENT"
   ]
  },
  {
   "cell_type": "code",
   "execution_count": 102,
   "id": "bf618074-f315-42b4-befe-b580d8cf8822",
   "metadata": {},
   "outputs": [
    {
     "data": {
      "text/plain": [
       "int"
      ]
     },
     "execution_count": 102,
     "metadata": {},
     "output_type": "execute_result"
    }
   ],
   "source": [
    "type(x)"
   ]
  },
  {
   "cell_type": "code",
   "execution_count": 104,
   "id": "95b659af-5a5e-49bb-8e44-b956fc774b75",
   "metadata": {},
   "outputs": [
    {
     "name": "stdout",
     "output_type": "stream",
     "text": [
      "18.0\n"
     ]
    }
   ],
   "source": [
    "b = 10*2.2-4  # 10*2-4 is an EXPRESSION, In this case b point to an object that is the result of the expressionT\n",
    "print(b)"
   ]
  },
  {
   "cell_type": "code",
   "execution_count": 106,
   "id": "09e6ec91-b7fd-4158-925a-b9b19b4b05b7",
   "metadata": {},
   "outputs": [
    {
     "data": {
      "text/plain": [
       "float"
      ]
     },
     "execution_count": 106,
     "metadata": {},
     "output_type": "execute_result"
    }
   ],
   "source": [
    "type(b)"
   ]
  },
  {
   "cell_type": "code",
   "execution_count": 37,
   "id": "6a189d9b-1a04-4ebc-93eb-6e177be5fce4",
   "metadata": {},
   "outputs": [
    {
     "name": "stdout",
     "output_type": "stream",
     "text": [
      "100.0\n"
     ]
    }
   ],
   "source": [
    "# let's calculate the area of a triangle\n",
    "base = 10\n",
    "high = 20\n",
    "area = base * high /2\n",
    "print (area)"
   ]
  },
  {
   "cell_type": "markdown",
   "id": "39cd8df9-4bf6-48e1-bb9c-d89f9278e647",
   "metadata": {},
   "source": [
    "## STRING OBJECT (and operations)\n",
    "In Python, a string object is a **sequence of characters** used to represent text. \n",
    "Strings are one of Python's fundamental data types, and like all data types in Python, they are objects.  \n",
    "This means that strings come with a variety of methods and properties that make them easy to work with"
   ]
  },
  {
   "cell_type": "markdown",
   "id": "664cdd5e-1698-42ab-b1fc-fa6fb525c470",
   "metadata": {},
   "source": [
    "You can also assign to a variable a set of **CHARACTERS** that form a **STRING**"
   ]
  },
  {
   "cell_type": "code",
   "execution_count": 112,
   "id": "1397ab82-3f5e-4fe8-880a-eced7ceb0c51",
   "metadata": {},
   "outputs": [
    {
     "name": "stdout",
     "output_type": "stream",
     "text": [
      "University of Tor Vergata\n"
     ]
    }
   ],
   "source": [
    "school = \"University of Tor Vergata\"   # I assign the string \"University of Tor Vergata\" to the variable school\n",
    "print (school)"
   ]
  },
  {
   "cell_type": "code",
   "execution_count": 114,
   "id": "2fe1ecb0-d735-476d-9a91-c4b8edd9a08e",
   "metadata": {},
   "outputs": [
    {
     "data": {
      "text/plain": [
       "str"
      ]
     },
     "execution_count": 114,
     "metadata": {},
     "output_type": "execute_result"
    }
   ],
   "source": [
    "# let's check the type of variable school\n",
    "type(school)"
   ]
  },
  {
   "cell_type": "markdown",
   "id": "6f2bfcb2-1e73-44db-9a20-099a9dcb5605",
   "metadata": {},
   "source": [
    "You can perform operations between strings. The **+** operator **concatenates** two strings"
   ]
  },
  {
   "cell_type": "code",
   "execution_count": 116,
   "id": "9ef63636-4ff7-4469-bc5c-ae906ecd9318",
   "metadata": {},
   "outputs": [
    {
     "name": "stdout",
     "output_type": "stream",
     "text": [
      "The name of this course is: Coding for Economic Applications\n"
     ]
    }
   ],
   "source": [
    "a = \"The name of this course is: \"\n",
    "b = \"Coding for Economic Applications\"\n",
    "c = a + b\n",
    "print(c)"
   ]
  },
  {
   "cell_type": "markdown",
   "id": "503cb371-99a5-4f1f-9f66-7b4ffd8c6094",
   "metadata": {},
   "source": [
    "The * operator repeats a string n times"
   ]
  },
  {
   "cell_type": "code",
   "execution_count": 123,
   "id": "0f33318e-4207-4f87-8433-f674f48c82c3",
   "metadata": {},
   "outputs": [
    {
     "name": "stdout",
     "output_type": "stream",
     "text": [
      "Echo! Echo! Echo! \n"
     ]
    }
   ],
   "source": [
    "# You can repeat a string using the `*` operator.\n",
    "repeated_string = \"Echo! \" * 3                # Repeat \"Echo! \" three times\n",
    "print(repeated_string)                        # Output: Echo! Echo! Echo! "
   ]
  },
  {
   "cell_type": "markdown",
   "id": "ace995d1-a1f4-4ffd-92ad-dd77b2db7d04",
   "metadata": {},
   "source": [
    "## Exercise\n",
    "Write the code to print the volume of a cilinder given the radius and high   \n",
    "$V = 3.14 * r^2 *h$\n"
   ]
  },
  {
   "cell_type": "markdown",
   "id": "e47bd7d2-3885-45ae-bcf1-4af4dad1b778",
   "metadata": {},
   "source": [
    "## Exercise: Write the code to print  \n",
    "'m m m m m '  \n",
    "'MammaMammaMammaMaMaMaMaMa'  \n",
    "'cane cane cane canecanecane' "
   ]
  },
  {
   "cell_type": "code",
   "execution_count": null,
   "id": "bde8523a-d7af-479b-8909-250bff10f5f4",
   "metadata": {},
   "outputs": [],
   "source": []
  },
  {
   "cell_type": "markdown",
   "id": "03771659-949a-4ff5-9b96-b54e9168aab8",
   "metadata": {},
   "source": [
    "# Speed up coding with chatGPT \n",
    "Go to chatGPT and write in the prompt: \" write the python code to print the volume of a cylinder\" \n"
   ]
  },
  {
   "cell_type": "code",
   "execution_count": null,
   "id": "db6c7176-833d-4234-89ee-ba2e6900f13d",
   "metadata": {},
   "outputs": [],
   "source": []
  },
  {
   "cell_type": "markdown",
   "id": "eb665b7d-b9d2-4586-ac6a-812edcb8c669",
   "metadata": {},
   "source": [
    "## BOOLEAN OBJECT\n",
    "A boolean object can assume only 2 values: **True** or **False**"
   ]
  },
  {
   "cell_type": "code",
   "execution_count": 128,
   "id": "e2f3a71b-3c0d-4048-b4a0-a4d147b10c0c",
   "metadata": {},
   "outputs": [],
   "source": [
    "a = True\n",
    "b = False"
   ]
  },
  {
   "cell_type": "code",
   "execution_count": 130,
   "id": "780291b3-cd6b-4504-99ef-72f78200e9e1",
   "metadata": {},
   "outputs": [
    {
     "data": {
      "text/plain": [
       "True"
      ]
     },
     "execution_count": 130,
     "metadata": {},
     "output_type": "execute_result"
    }
   ],
   "source": [
    "a"
   ]
  },
  {
   "cell_type": "code",
   "execution_count": 132,
   "id": "dcfa0cce-5a95-47f4-a165-8ee7a0a4bc60",
   "metadata": {},
   "outputs": [
    {
     "data": {
      "text/plain": [
       "bool"
      ]
     },
     "execution_count": 132,
     "metadata": {},
     "output_type": "execute_result"
    }
   ],
   "source": [
    "type(a)"
   ]
  },
  {
   "cell_type": "markdown",
   "id": "9a0d227a-33bf-4790-9ae0-0eee33b9c20d",
   "metadata": {},
   "source": [
    "## Types RECAP\n",
    "Objects have type information attached. \n",
    "\n",
    "There are built-in simple types offered by Python and several compound types.\n",
    "\n",
    "Python's simple types are summarized in the following table:\n",
    "\n",
    "<center>**Python Scalar Types**</center>\n",
    "\n",
    "| Type        | Example        | Description                                                  |\n",
    "|-------------|----------------|--------------------------------------------------------------|\n",
    "| ``int``     | ``1``      | integers (i.e., whole numbers)                               |\n",
    "| ``float``   | ``1.0``    | floating-point numbers (i.e., real numbers)                  |\n",
    "| ``complex`` | ``1 + 2j`` | Complex numbers (i.e., numbers with real and imaginary part) |\n",
    "| ``bool``    | ``True``   | Boolean: True/False values                                   |\n",
    "| ``str``     | ``'Ab$'``  | String: characters or text                                   |\n",
    "| ``NoneType``| ``None``   | Special object indicating nulls                              |\n"
   ]
  },
  {
   "cell_type": "markdown",
   "id": "83b63ffb-47b2-4f89-b22f-50838248c9f6",
   "metadata": {},
   "source": [
    "## COMPARISON OPERATIONS\n",
    "\n",
    "Another type of operation which can be very useful is comparison of different values.\n",
    "For this, Python implements standard comparison operators, which **return Boolean values** ``True`` and ``False``.\n",
    "The comparison operations are listed in the following table:\n",
    "\n",
    "| ``a == b``| ``a`` equal to ``b``      \n",
    "| ``a != b`` | ``a`` not equal to ``b``             \n",
    "| ``a < b``| ``a`` less than ``b``         \n",
    "| ``a > b``| ``a`` greater than ``b``             \n",
    "| ``a <= b``| ``a`` less than or equal to ``b``\n",
    "|``a >= b`` | ``a`` greater than or equal to ``b``\n",
    "\n",
    "\n",
    "\n",
    "These comparison operators can be combined with the arithmetic and bitwise operators to express a virtually limitless range of tests for the numbers.\n",
    "For example, we can check if a number is odd by checking that the modulus with 2 returns 1:"
   ]
  },
  {
   "cell_type": "code",
   "execution_count": 47,
   "id": "6431fe18-e9b0-433f-950b-c23344f28b5b",
   "metadata": {},
   "outputs": [
    {
     "data": {
      "text/plain": [
       "False"
      ]
     },
     "execution_count": 47,
     "metadata": {},
     "output_type": "execute_result"
    }
   ],
   "source": [
    "2 < 1"
   ]
  },
  {
   "cell_type": "code",
   "execution_count": 51,
   "id": "bb6211ee-f028-4ba7-a7a9-fb6f4fa38ede",
   "metadata": {},
   "outputs": [
    {
     "data": {
      "text/plain": [
       "False"
      ]
     },
     "execution_count": 51,
     "metadata": {},
     "output_type": "execute_result"
    }
   ],
   "source": [
    "# 25 is odd\n",
    "25 * 2 == 1"
   ]
  },
  {
   "cell_type": "code",
   "execution_count": 141,
   "id": "662cc819-1709-4c18-ab0d-432bf8c3540c",
   "metadata": {},
   "outputs": [
    {
     "data": {
      "text/plain": [
       "True"
      ]
     },
     "execution_count": 141,
     "metadata": {},
     "output_type": "execute_result"
    }
   ],
   "source": [
    "# check if a is between 15 and 30\n",
    "a = 25\n",
    "15 < a < 30"
   ]
  },
  {
   "cell_type": "code",
   "execution_count": null,
   "id": "bb335cc8-c25d-4420-9bea-304ff33224d5",
   "metadata": {},
   "outputs": [],
   "source": []
  },
  {
   "cell_type": "markdown",
   "id": "1e5c26ea-20f6-4c0f-9634-0f5d64a15816",
   "metadata": {},
   "source": [
    "## BOOLEAN OPERATORS\n",
    "When working with Boolean values, Python provides operators to combine the values using the standard concepts of \"and\", \"or\", and \"not\".\n",
    "Predictably, these operators are expressed using the words ``and``, ``or``, and ``not``:"
   ]
  },
  {
   "cell_type": "markdown",
   "id": "d6b9a91a-78d2-49b9-a24b-b1361f652435",
   "metadata": {},
   "source": [
    "**and** operator gives back TRUE if both arguments are TRUE, otherwise is FALSE\n",
    "(True) and (True) ----> True\n"
   ]
  },
  {
   "cell_type": "code",
   "execution_count": 143,
   "id": "7a8161b3-f2b0-4987-9f7e-a485ccd8bd13",
   "metadata": {},
   "outputs": [
    {
     "data": {
      "text/plain": [
       "False"
      ]
     },
     "execution_count": 143,
     "metadata": {},
     "output_type": "execute_result"
    }
   ],
   "source": [
    "True and False"
   ]
  },
  {
   "cell_type": "code",
   "execution_count": 145,
   "id": "a8059f8c-078c-48bf-94d6-f0ad3b31cba7",
   "metadata": {},
   "outputs": [
    {
     "data": {
      "text/plain": [
       "True"
      ]
     },
     "execution_count": 145,
     "metadata": {},
     "output_type": "execute_result"
    }
   ],
   "source": [
    "x = 4\n",
    "(x > 2) and (x < 6)"
   ]
  },
  {
   "cell_type": "markdown",
   "id": "cadaf4a6-80a9-4ee3-ae85-1a9e96029954",
   "metadata": {},
   "source": [
    "**or** operator gives back FALSE if both arguments are FALSE, otherwise is TRUE\n",
    "(False) or (False) ----> True"
   ]
  },
  {
   "cell_type": "code",
   "execution_count": 84,
   "id": "b8fd2a0b-d91d-4a1a-9a01-f08bea6e5c7b",
   "metadata": {},
   "outputs": [
    {
     "data": {
      "text/plain": [
       "True"
      ]
     },
     "execution_count": 84,
     "metadata": {},
     "output_type": "execute_result"
    }
   ],
   "source": [
    "True or False"
   ]
  },
  {
   "cell_type": "code",
   "execution_count": 79,
   "id": "4615e860-05c5-4f33-9b15-d14b9c842966",
   "metadata": {},
   "outputs": [
    {
     "data": {
      "text/plain": [
       "True"
      ]
     },
     "execution_count": 79,
     "metadata": {},
     "output_type": "execute_result"
    }
   ],
   "source": [
    "(x > 10) or (x % 2 == 0)"
   ]
  },
  {
   "cell_type": "markdown",
   "id": "5fb2cc3b-1346-489d-aeb5-c3c8838436b4",
   "metadata": {},
   "source": [
    "**not** operator gives back the opposite of the argument    \n",
    "not (False) ----> True  \n",
    "not (True) ----> False  "
   ]
  },
  {
   "cell_type": "code",
   "execution_count": 94,
   "id": "2d0b6db3-8fb8-42b6-ab8c-63a1b3cd916a",
   "metadata": {},
   "outputs": [
    {
     "data": {
      "text/plain": [
       "True"
      ]
     },
     "execution_count": 94,
     "metadata": {},
     "output_type": "execute_result"
    }
   ],
   "source": [
    "not(False)"
   ]
  },
  {
   "cell_type": "code",
   "execution_count": 96,
   "id": "a75e0b8c-8774-4e79-a9ad-131ad029a7ee",
   "metadata": {},
   "outputs": [
    {
     "data": {
      "text/plain": [
       "False"
      ]
     },
     "execution_count": 96,
     "metadata": {},
     "output_type": "execute_result"
    }
   ],
   "source": [
    "not (x < 6)"
   ]
  },
  {
   "cell_type": "markdown",
   "id": "6e5e8b35-c63b-4fff-a2ae-b45a95f22c3a",
   "metadata": {},
   "source": [
    "These sorts of Boolean operations will become extremely useful when we begin discussing *control flow statements* such as conditionals and loops."
   ]
  },
  {
   "cell_type": "markdown",
   "id": "e8bf46f4-cc7a-44a7-823b-2db55f1bfa04",
   "metadata": {},
   "source": []
  },
  {
   "cell_type": "markdown",
   "id": "d322a852-635b-437c-96ab-313ba2b6ea34",
   "metadata": {},
   "source": [
    "## LIST OBJECT\n",
    "Let's see a more comples object: an object that **contains other objects** (a Data Structures).  \n",
    "\n",
    "List object can be built with **[]** operator"
   ]
  },
  {
   "cell_type": "code",
   "execution_count": null,
   "id": "68680a69-e668-48de-aefb-adfc21f82f8e",
   "metadata": {},
   "outputs": [],
   "source": []
  },
  {
   "cell_type": "code",
   "execution_count": 16,
   "id": "728bc11d-415d-496e-9bc6-930d4db81bdd",
   "metadata": {
    "tags": []
   },
   "outputs": [],
   "source": [
    "# Lists can contain any type of objects and they can contain as many objects as you wish.\n",
    "# Lists can also be iterated over in a very simple manner (will see ahead)\n",
    "# Here is an example of how to build a list.\n",
    "list_example = [1, 4, 9, 2.3, True, \"Hello\"]"
   ]
  },
  {
   "cell_type": "code",
   "execution_count": 8,
   "id": "9ede91f0-c294-48d1-ad9b-fc37d1a26e72",
   "metadata": {
    "tags": []
   },
   "outputs": [
    {
     "name": "stdout",
     "output_type": "stream",
     "text": [
      "[1, 4, 9, 2.3, True, 'Hello']\n"
     ]
    }
   ],
   "source": [
    "print(list_example)"
   ]
  },
  {
   "cell_type": "code",
   "execution_count": 10,
   "id": "0ea7e520-b366-49f3-8879-13f2f1dd04f4",
   "metadata": {},
   "outputs": [
    {
     "data": {
      "text/plain": [
       "list"
      ]
     },
     "execution_count": 10,
     "metadata": {},
     "output_type": "execute_result"
    }
   ],
   "source": [
    "type(list_example)"
   ]
  },
  {
   "cell_type": "markdown",
   "id": "96ea5c59-f01a-4b2e-a069-3f229226fe26",
   "metadata": {},
   "source": [
    "We can also use variables inside the [] operator"
   ]
  },
  {
   "cell_type": "code",
   "execution_count": 32,
   "id": "cf2b450c-8a00-443c-860d-dd3494ea6342",
   "metadata": {},
   "outputs": [
    {
     "name": "stdout",
     "output_type": "stream",
     "text": [
      "[10, 'Hello', [1, 4, 9, 16, 25, 36]]\n"
     ]
    }
   ],
   "source": [
    "a = 10\n",
    "b=\"Hello\"\n",
    "squares=[1,4,9,16,25,36]\n",
    "list2 = [a,b,squares]   # i can insert into list \n",
    "print(list2)"
   ]
  },
  {
   "cell_type": "code",
   "execution_count": 36,
   "id": "5ae923d7-2b15-4f31-85c0-66853c5c6ee1",
   "metadata": {
    "tags": []
   },
   "outputs": [
    {
     "name": "stdout",
     "output_type": "stream",
     "text": [
      "[1, 4, 9, 16, 25, 36]\n",
      "1\n",
      "[1, 4, 9]\n",
      "36\n",
      "[4, 9, 16, 25]\n"
     ]
    }
   ],
   "source": [
    "# Lists can be indexed and sliced:\n",
    "print(squares)\n",
    "print(squares[0])  # indexing returns the item\n",
    "print(squares[0:3]) # slicing returns a new list\n",
    "print(squares[-1]) # start from the last element\n",
    "print(squares[1:-1]) # print without the first and the last element\n",
    "\n",
    "# All slice operations return a new list containing the requested elements."
   ]
  },
  {
   "cell_type": "code",
   "execution_count": 38,
   "id": "6fe62dff-4fd0-451b-8ba2-a8a502e333c2",
   "metadata": {
    "tags": []
   },
   "outputs": [
    {
     "name": "stdout",
     "output_type": "stream",
     "text": [
      "[1, 4, 9, 16, 25, 36, 36, 49, 64, 81, 100]\n"
     ]
    }
   ],
   "source": [
    "# Lists also support operations like concatenation:\n",
    "print(squares + [36, 49, 64, 81, 100])\n"
   ]
  },
  {
   "cell_type": "code",
   "execution_count": 42,
   "id": "18dfe493-73ef-41c9-bcae-92beba9902a6",
   "metadata": {
    "tags": []
   },
   "outputs": [
    {
     "name": "stdout",
     "output_type": "stream",
     "text": [
      "[1, 8, 27, 64, 125]\n"
     ]
    }
   ],
   "source": [
    "# Unlike strings, which are immutable, lists are a mutable type, i.e. it\n",
    "# is possible to change their content:\n",
    "cubes = [1, 8, 27, 65, 125]  # something's wrong here, the cube of 4 is 64!\n",
    "cubes[3] = 64  # replace the wrong value\n",
    "print( cubes )"
   ]
  },
  {
   "cell_type": "code",
   "execution_count": null,
   "id": "532e6f52-0922-4f65-ac4a-24829c7fcb5e",
   "metadata": {},
   "outputs": [],
   "source": []
  },
  {
   "cell_type": "code",
   "execution_count": null,
   "id": "b6082def-c32e-44ef-bca5-5accf5ea199d",
   "metadata": {},
   "outputs": [],
   "source": []
  },
  {
   "cell_type": "markdown",
   "id": "9d17e163-770e-48b4-ae49-d111683b0b19",
   "metadata": {
    "tags": []
   },
   "source": [
    "# CONCEPT 3 - FUNCTION OBJECT\n",
    "In Python a function is a particular OBJECT that is able to receive in input one or more arguments, perform some actions and produce an output."
   ]
  },
  {
   "cell_type": "markdown",
   "id": "35e9309b-870c-4e3d-a994-3f8ae33b38d7",
   "metadata": {},
   "source": [
    "We have already seen some defined python functions:  \n"
   ]
  },
  {
   "cell_type": "code",
   "execution_count": 47,
   "id": "37b2dc13-7c7d-4bc6-a1d7-852d6fdb00bd",
   "metadata": {},
   "outputs": [
    {
     "name": "stdout",
     "output_type": "stream",
     "text": [
      "Hello\n"
     ]
    },
    {
     "data": {
      "text/plain": [
       "int"
      ]
     },
     "execution_count": 47,
     "metadata": {},
     "output_type": "execute_result"
    }
   ],
   "source": [
    "print(\"Hello\")  # print to the screen the argument \"Hello\"\n",
    "a= 10   \n",
    "type(a) # type function return the type of a variable/object given as argument"
   ]
  },
  {
   "cell_type": "code",
   "execution_count": 49,
   "id": "5f2ce7ce-c1f8-409c-b133-ddd4a37d15c6",
   "metadata": {},
   "outputs": [],
   "source": [
    "a=\"10\"\n",
    "b = float(a)   # float function convert a string object a into a FLOAT object b"
   ]
  },
  {
   "cell_type": "code",
   "execution_count": 51,
   "id": "4fc3b450-599d-418f-8c71-3366b2905f6e",
   "metadata": {},
   "outputs": [
    {
     "name": "stdout",
     "output_type": "stream",
     "text": [
      "1010\n",
      "20.0\n"
     ]
    }
   ],
   "source": [
    "print(a+a)\n",
    "print(b+b)"
   ]
  },
  {
   "cell_type": "code",
   "execution_count": 55,
   "id": "913a66dd-b0d2-4413-9cba-b2d57f31b7ab",
   "metadata": {},
   "outputs": [
    {
     "name": "stdin",
     "output_type": "stream",
     "text": [
      "Insert a number ciao\n"
     ]
    }
   ],
   "source": [
    "a = input(\"Insert a number\")  # input function wait for an input from keyboard and store it in a string "
   ]
  },
  {
   "cell_type": "code",
   "execution_count": 57,
   "id": "fb711f23-c5a2-4eb8-931f-8ff10aeb1603",
   "metadata": {},
   "outputs": [
    {
     "name": "stdout",
     "output_type": "stream",
     "text": [
      "ciao\n"
     ]
    }
   ],
   "source": [
    "print(a)"
   ]
  },
  {
   "cell_type": "code",
   "execution_count": 61,
   "id": "bbdba8c2-3316-4d34-8311-4c220ba8939f",
   "metadata": {},
   "outputs": [
    {
     "name": "stdin",
     "output_type": "stream",
     "text": [
      "Insert a number 10\n"
     ]
    },
    {
     "name": "stdout",
     "output_type": "stream",
     "text": [
      "50.0\n"
     ]
    }
   ],
   "source": [
    "c = input(\"Insert a number\")\n",
    "b = float(c)*5\n",
    "print(b)"
   ]
  },
  {
   "cell_type": "markdown",
   "id": "d30c8cec-68c2-4507-b0d2-2ae6fb62bb91",
   "metadata": {},
   "source": [
    "## Create a function by definition\n",
    "Let's try to create $f(x) = 2x + 4$\n"
   ]
  },
  {
   "cell_type": "code",
   "execution_count": 189,
   "id": "a8a758a9",
   "metadata": {
    "tags": []
   },
   "outputs": [],
   "source": [
    "def f(x):    # we use the 'def' command followed by the name of the function; we also use () to specify one or more input arguments\n",
    "    result = 2 * x + 4  # we specify the form of the function\n",
    "                   # TAKE CARE: instructions are indented. It's python syntax to create a block of code\n",
    "    return result\n",
    "# Take care: objects created inside a function are not accessible from outside \n",
    "# In this case, you cannot access the value of internal variables z from the outside program (SCOPING)"
   ]
  },
  {
   "cell_type": "code",
   "execution_count": 191,
   "id": "1e80e48b",
   "metadata": {
    "tags": []
   },
   "outputs": [
    {
     "data": {
      "text/plain": [
       "18"
      ]
     },
     "execution_count": 191,
     "metadata": {},
     "output_type": "execute_result"
    }
   ],
   "source": [
    "# to call a function just write the function and its arguments\n",
    "f(7)"
   ]
  },
  {
   "cell_type": "code",
   "execution_count": 179,
   "id": "9dad475b",
   "metadata": {
    "tags": []
   },
   "outputs": [],
   "source": [
    "# Let's define functions with more variables\n",
    "def g(x,y):\n",
    "    z = 2 * x-3 *y\n",
    "    return z"
   ]
  },
  {
   "cell_type": "code",
   "execution_count": 181,
   "id": "62c0f9cc",
   "metadata": {
    "tags": []
   },
   "outputs": [
    {
     "data": {
      "text/plain": [
       "-19"
      ]
     },
     "execution_count": 181,
     "metadata": {},
     "output_type": "execute_result"
    }
   ],
   "source": [
    "g(4,9)"
   ]
  },
  {
   "cell_type": "markdown",
   "id": "6b7c13e4-2631-4803-b24d-3a7553c966ca",
   "metadata": {},
   "source": [
    "The nice thing in Python is that it manages automatically the type of variable "
   ]
  },
  {
   "cell_type": "code",
   "execution_count": 166,
   "id": "a9240312-1f7a-4d48-87e6-817c345be227",
   "metadata": {
    "tags": []
   },
   "outputs": [],
   "source": [
    "def sumaguments(x,y):\n",
    "    z = x+y\n",
    "    # print(\"The result of the operation is: \",z)\n",
    "    return z       # return is mandatory when you have to give back to the caller some results\n"
   ]
  },
  {
   "cell_type": "code",
   "execution_count": 183,
   "id": "c42a6fe5-992e-40ae-a5b6-d718268951e7",
   "metadata": {
    "tags": []
   },
   "outputs": [
    {
     "data": {
      "text/plain": [
       "5"
      ]
     },
     "execution_count": 183,
     "metadata": {},
     "output_type": "execute_result"
    }
   ],
   "source": [
    "sumaguments(2,3)"
   ]
  },
  {
   "cell_type": "code",
   "execution_count": 185,
   "id": "166fbc59-803d-4484-b4b7-6806883c6096",
   "metadata": {},
   "outputs": [
    {
     "data": {
      "text/plain": [
       "'Hello from Torvergata'"
      ]
     },
     "execution_count": 185,
     "metadata": {},
     "output_type": "execute_result"
    }
   ],
   "source": [
    "sumaguments(\"Hello\",\" from Torvergata\")"
   ]
  },
  {
   "cell_type": "code",
   "execution_count": 187,
   "id": "f20f660a-f074-4e10-8f14-6fca71f60909",
   "metadata": {},
   "outputs": [
    {
     "name": "stdout",
     "output_type": "stream",
     "text": [
      "Result is:  8\n"
     ]
    }
   ],
   "source": [
    "# of course we can also assign the result to a variable\n",
    "result = sumaguments(5,3)\n",
    "print(\"Result is: \", result)"
   ]
  },
  {
   "cell_type": "code",
   "execution_count": null,
   "id": "4e79e22f-c366-43d0-ae7f-eda24e90691e",
   "metadata": {},
   "outputs": [],
   "source": []
  },
  {
   "cell_type": "markdown",
   "id": "f1e1fba6-50de-4701-bf06-70f546f9a322",
   "metadata": {},
   "source": [
    "# CONCEPT 4: OBJECT METHODS\n",
    "OBJECTS IN PYTHON **STORE INFORMATION (IN FIELD)** AND **PERFORM ACTIONS (WITH METHODS)** \n",
    "\n",
    "**METHODS** are functions associated with object that are automatically available when the object is created"
   ]
  },
  {
   "cell_type": "markdown",
   "id": "21589da2-c1ce-4fdf-9bcc-a9d6a60b1cfc",
   "metadata": {},
   "source": [
    "Let's create an object list and the pointer (list1 variable) to this object"
   ]
  },
  {
   "cell_type": "code",
   "execution_count": 91,
   "id": "0ed49750-826c-4b85-813b-bca45e62fc86",
   "metadata": {},
   "outputs": [],
   "source": [
    "list1 = [3,5,6,7,8,8,9,3,4,5,6,7,8,5,12,54,32]"
   ]
  },
  {
   "cell_type": "markdown",
   "id": "d059e406-a158-4d6d-ab81-1d4dca1d5287",
   "metadata": {},
   "source": [
    "With the object list1 we have many methods (functions) available.\n",
    "We can call a method with the **dot notation** **\"list1.\"**  \n",
    "For example let's try with **list1.sort()**\n"
   ]
  },
  {
   "cell_type": "code",
   "execution_count": 115,
   "id": "7df45436-6684-4e09-993b-5f1ba1c06b83",
   "metadata": {},
   "outputs": [
    {
     "data": {
      "text/plain": [
       "[3, 3, 4, 5, 5, 5, 6, 6, 7, 7, 8, 8, 8, 9, 12, 32, 54]"
      ]
     },
     "execution_count": 115,
     "metadata": {},
     "output_type": "execute_result"
    }
   ],
   "source": [
    "list1.sort()\n",
    "list1"
   ]
  },
  {
   "cell_type": "code",
   "execution_count": 117,
   "id": "db9898c6-9deb-4fa1-8144-1b99bafd6e7d",
   "metadata": {},
   "outputs": [
    {
     "data": {
      "text/plain": [
       "[54, 32, 12, 9, 8, 8, 8, 7, 7, 6, 6, 5, 5, 5, 4, 3, 3]"
      ]
     },
     "execution_count": 117,
     "metadata": {},
     "output_type": "execute_result"
    }
   ],
   "source": [
    "list1.reverse()\n",
    "list1"
   ]
  },
  {
   "cell_type": "markdown",
   "id": "7603d283-30ac-4189-ae4f-f9e65f08ecbb",
   "metadata": {},
   "source": [
    "We can see all methods available pressing **TAB key** after list1."
   ]
  },
  {
   "cell_type": "code",
   "execution_count": null,
   "id": "1c3e8e10-00cf-43bb-9d62-6c004ab8f96e",
   "metadata": {},
   "outputs": [],
   "source": [
    "liat1."
   ]
  },
  {
   "cell_type": "markdown",
   "id": "2e7ad71a-5dbc-44f6-8eb5-4f84843f46a2",
   "metadata": {},
   "source": [
    "# EXERCISES"
   ]
  },
  {
   "cell_type": "code",
   "execution_count": null,
   "id": "283cc276-9ce9-40ea-ad32-6fe7fd544c1b",
   "metadata": {},
   "outputs": [],
   "source": []
  },
  {
   "cell_type": "markdown",
   "id": "c86285ca-a475-44da-aae2-f8cc38eeab2d",
   "metadata": {},
   "source": [
    "## Exercise 1: String Manipulation  \n",
    "Write a function called **repeat_and_concat(s,n)** that takes a string and an integer n as arguments. The function should repeat the string n times and return the result as a single concatenated string."
   ]
  },
  {
   "cell_type": "code",
   "execution_count": null,
   "id": "f857fc22-9a61-401d-94c8-4ad649970db1",
   "metadata": {},
   "outputs": [],
   "source": []
  },
  {
   "cell_type": "markdown",
   "id": "cc6173bf-4c18-43bc-b607-2a93607c293d",
   "metadata": {},
   "source": [
    "## Exercise 2: List Slicing  \n",
    "Write a function called **middle_elements(numbers)** that takes a list of numbers as an argument and returns a new list containing all elements except the first and last ones."
   ]
  },
  {
   "cell_type": "code",
   "execution_count": null,
   "id": "aacce7fe-15e3-4ff2-87be-1e7f6449b9bb",
   "metadata": {},
   "outputs": [],
   "source": []
  },
  {
   "cell_type": "markdown",
   "id": "ebdaaf1f-98c5-453a-9ca9-0dd23f558c21",
   "metadata": {},
   "source": [
    "## Exercise 3: Boolean Logic with Functions  \n",
    "Create a function called **all_true(a,b,c)** that takes three boolean values as arguments. It should return True if all values are True, and False otherwise."
   ]
  },
  {
   "cell_type": "code",
   "execution_count": null,
   "id": "c0caa9d4-b14b-4015-9eaf-1bc02753a549",
   "metadata": {},
   "outputs": [],
   "source": []
  },
  {
   "cell_type": "markdown",
   "id": "58e5a4ad-b0b3-4c46-a8f4-773ca15f139a",
   "metadata": {},
   "source": [
    "## Exercise 4: Angle Reducer\n",
    "Write a function **reduce_angle(alpha)** that take an angle (bigger than 360°) as input from keyboard, and reduce the angle to an angle smaller than a full rotation"
   ]
  },
  {
   "cell_type": "code",
   "execution_count": null,
   "id": "0ee162aa-383f-46f1-affd-5adae6484a06",
   "metadata": {},
   "outputs": [],
   "source": []
  },
  {
   "cell_type": "code",
   "execution_count": null,
   "id": "59ba275c-adbf-49c7-be2d-2ff38185805b",
   "metadata": {},
   "outputs": [],
   "source": []
  },
  {
   "cell_type": "markdown",
   "id": "1e1d2d46-5d29-4352-b01c-4edf09fe8794",
   "metadata": {},
   "source": [
    "## Exercise 5: Temperature Converter\n",
    "Create a function called **temp_converter (temp)** that take a celsius degree temperature as input from keyboard and convert it into temperature in kelvin and Fahrenheit\n"
   ]
  },
  {
   "cell_type": "code",
   "execution_count": null,
   "id": "1efc1a17-2747-4e2c-8d06-aeba569abe5b",
   "metadata": {},
   "outputs": [],
   "source": []
  },
  {
   "cell_type": "markdown",
   "id": "1cd9169c-4b27-46f1-9e81-64aa19ea89dc",
   "metadata": {},
   "source": [
    "## Exercise 6: Sum of Numbers in a List\n",
    "Write a Python function **sumlist(list_number)** that takes a list of integers as input and returns the sum of all the numbers in the list."
   ]
  },
  {
   "cell_type": "code",
   "execution_count": null,
   "id": "89758d7f-d3ec-46aa-b5c4-4294559e0334",
   "metadata": {},
   "outputs": [],
   "source": []
  },
  {
   "cell_type": "markdown",
   "id": "9382a46d-3cae-4b0d-99a6-f8d5b018e380",
   "metadata": {},
   "source": [
    "## Exercise 7: Average of Numbers\n",
    "Write a Python function **average(numbers)** that takes a list of numbers and returns the average (mean) of those numbers.\n",
    "\n"
   ]
  }
 ],
 "metadata": {
  "kernelspec": {
   "display_name": "Python 3 (ipykernel)",
   "language": "python",
   "name": "python3"
  },
  "language_info": {
   "codemirror_mode": {
    "name": "ipython",
    "version": 3
   },
   "file_extension": ".py",
   "mimetype": "text/x-python",
   "name": "python",
   "nbconvert_exporter": "python",
   "pygments_lexer": "ipython3",
   "version": "3.12.4"
  }
 },
 "nbformat": 4,
 "nbformat_minor": 5
}
