{
 "cells": [
  {
   "cell_type": "markdown",
   "id": "b394dab7-8205-489e-84e2-152ea80c577b",
   "metadata": {
    "tags": []
   },
   "source": [
    "# A QUICK RECAP\n",
    "\n",
    "- Everything in Python is an OBJECT. An Object is something that can store data (fields) and performs actions (methods). An object is stored in memory at a specific memory address\n",
    "- A VARIABLE in python is a pointer to the object. It stores only the memory address of the object\n",
    "- Each object has a TYPE. Python has many basic types (Boolean, Int, Float, Str, List, Function)"
   ]
  },
  {
   "cell_type": "markdown",
   "id": "602ca476-4868-4830-a53a-35362deb9bb3",
   "metadata": {},
   "source": []
  },
  {
   "cell_type": "markdown",
   "id": "3a95adcc-a21e-4793-b257-b1fdbb13eab2",
   "metadata": {
    "tags": []
   },
   "source": [
    "# CONCEPT 1: CONDITIONAL STRUCTURES\n",
    "A program is a list of instructions that are executed sequentially. With control flow, you can execute certain blocks of code **CONDITIONALLY** and/or **REPEATEDLY** - these basic blocks can be combined to create very sophisticated programs"
   ]
  },
  {
   "cell_type": "markdown",
   "id": "0c2ceaff-c978-4e4f-b40d-060de89f8ee8",
   "metadata": {},
   "source": [
    "## Recap: Comparison Operations\n",
    "\n",
    "A type of operation which can be very useful is comparison of different values.\n",
    "For this, Python implements standard comparison operators, which return Boolean values ``True`` and ``False``.\n",
    "The comparison operations are listed in the following table:\n",
    "\n",
    "| ``a == b``| ``a`` equal to ``b``      \n",
    "| ``a != b`` | ``a`` not equal to ``b``             \n",
    "| ``a < b``| ``a`` less than ``b``         \n",
    "| ``a > b``| ``a`` greater than ``b``             \n",
    "| ``a <= b``| ``a`` less than or equal to ``b``\n",
    "|``a >= b`` | ``a`` greater than or equal to ``b``\n",
    "\n",
    "\n",
    "\n",
    "These comparison operators can be combined with the arithmetic and bitwise operators to express a virtually limitless range of tests for the numbers.\n",
    "For example, we can check if a number is odd by checking that the modulus with 2 returns 1:"
   ]
  },
  {
   "cell_type": "markdown",
   "id": "76d1aeec-b27b-403d-a30d-f726d6c3a9c8",
   "metadata": {},
   "source": [
    "## Conditional Statements: ``if``-``elif``-``else``:\n",
    "Conditional statements, often called *if-then* statements, allow the programmer to execute certain pieces of code depending on some Boolean condition.\n",
    "A basic example of a Python conditional statement is this:"
   ]
  },
  {
   "cell_type": "code",
   "execution_count": 4,
   "id": "30662f72-0020-4c67-833c-843836599e7c",
   "metadata": {
    "tags": []
   },
   "outputs": [
    {
     "data": {
      "text/plain": [
       "False"
      ]
     },
     "execution_count": 4,
     "metadata": {},
     "output_type": "execute_result"
    }
   ],
   "source": [
    "# the comparison operator < gives back a boolean value (True or False)\n",
    "x=1\n",
    "x<0"
   ]
  },
  {
   "cell_type": "code",
   "execution_count": 8,
   "id": "d657132c-99d6-401c-9b6a-041af09da72a",
   "metadata": {
    "tags": []
   },
   "outputs": [],
   "source": [
    "x = 1\n",
    "if x > 3:    # if boolean value is TRUE\n",
    "    print(\"number is bigger than 3\")"
   ]
  },
  {
   "cell_type": "markdown",
   "id": "cea8f66e-1d5a-409a-8828-2c5fc95f7dbe",
   "metadata": {},
   "source": [
    "We can also make the alternative explicit"
   ]
  },
  {
   "cell_type": "code",
   "execution_count": 10,
   "id": "6470cb3d-948e-44d1-9a02-ae63a73ce04a",
   "metadata": {
    "tags": []
   },
   "outputs": [
    {
     "name": "stdout",
     "output_type": "stream",
     "text": [
      "X is bigger than 0\n"
     ]
    }
   ],
   "source": [
    "x = 0\n",
    "\n",
    "if x >= 0:\n",
    "    print(\"X is bigger than 0\")\n",
    "else:\n",
    "    print(x, \"x is lower than 0\")"
   ]
  },
  {
   "cell_type": "code",
   "execution_count": null,
   "id": "b765801a-2495-451a-ba61-1e0954511e51",
   "metadata": {},
   "outputs": [],
   "source": []
  },
  {
   "cell_type": "markdown",
   "id": "b6d2e111-ce2f-434f-b460-a7a8e339a4ec",
   "metadata": {},
   "source": [
    "We can explain more alternatives"
   ]
  },
  {
   "cell_type": "code",
   "execution_count": 19,
   "id": "16bf06a9-c184-414d-8c5f-6d57469d2d45",
   "metadata": {
    "tags": []
   },
   "outputs": [
    {
     "name": "stdin",
     "output_type": "stream",
     "text": [
      "insert a number: 3\n"
     ]
    },
    {
     "name": "stdout",
     "output_type": "stream",
     "text": [
      "the number is between (or equal to) 0 and 5\n"
     ]
    }
   ],
   "source": [
    "x = float(input(\"insert a number:\"))\n",
    "\n",
    "if x == 0:\n",
    "     print(\"the number entered is zero\")\n",
    "elif x < 0:\n",
    "     print(\"the number entered is negative\")\n",
    "elif (0 < x) and (x <= 5):\n",
    "     print(\"the number is between (or equal to) 0 and 5\")\n",
    "else:\n",
    "     print(\"the number is greater than 5\")"
   ]
  },
  {
   "cell_type": "markdown",
   "id": "aad03489-391e-4982-aed3-c79c97c1b598",
   "metadata": {},
   "source": [
    "## Exercise\n",
    "Write a conditional statement that, given an input string, tells you if the length of the string is greater than 7 characters  \n",
    "use function len(x) to get the length of a string "
   ]
  },
  {
   "cell_type": "code",
   "execution_count": null,
   "id": "157c07a2-e917-441d-8d44-944b98c061f8",
   "metadata": {},
   "outputs": [],
   "source": []
  },
  {
   "cell_type": "markdown",
   "id": "1def8d38-a58d-4716-9378-93fa10a5ca24",
   "metadata": {},
   "source": [
    "## Exercise\n",
    "\n",
    "Write a function that receives two integers and tells us whether the first number is greater than the second"
   ]
  },
  {
   "cell_type": "code",
   "execution_count": null,
   "id": "660d4229-41ab-4fe1-8c20-89f8712aec87",
   "metadata": {},
   "outputs": [],
   "source": []
  },
  {
   "cell_type": "markdown",
   "id": "a45b2356-f7ff-4451-b066-756160b01f70",
   "metadata": {
    "tags": []
   },
   "source": [
    "# CONCEPT 2: CYCLES (``for`` loop)\n",
    "Loops in Python are a way to repeatedly execute some code statements.\n",
    "So, for example, if we want to print each of the elements in a list, we can use a ``for`` loop:"
   ]
  },
  {
   "cell_type": "code",
   "execution_count": 21,
   "id": "99a7dbcb",
   "metadata": {
    "tags": []
   },
   "outputs": [],
   "source": [
    "a = [1,2,3,4,5]   "
   ]
  },
  {
   "cell_type": "code",
   "execution_count": 23,
   "id": "fbad9a9e",
   "metadata": {
    "tags": []
   },
   "outputs": [
    {
     "name": "stdout",
     "output_type": "stream",
     "text": [
      "1\n",
      "2\n",
      "3\n",
      "4\n",
      "5\n"
     ]
    }
   ],
   "source": [
    "for i in a:\n",
    "    print(i)"
   ]
  },
  {
   "cell_type": "markdown",
   "id": "c50f1f02-f506-4d8d-83a0-2fe0c290e451",
   "metadata": {},
   "source": [
    "The list could contain also different obects"
   ]
  },
  {
   "cell_type": "code",
   "execution_count": 29,
   "id": "9720b433-be8c-494f-b893-21c6cd493749",
   "metadata": {
    "tags": []
   },
   "outputs": [
    {
     "name": "stdout",
     "output_type": "stream",
     "text": [
      "1\n",
      "Hello\n",
      "3.5\n",
      "True\n",
      "[1, 2, 3, 4]\n"
     ]
    }
   ],
   "source": [
    "a = [1 ,\"Hello\", 3.5, True, [1,2,3,4] ]\n",
    "for i in a:\n",
    "    print (i)"
   ]
  },
  {
   "cell_type": "markdown",
   "id": "8ef7ccbc-797b-4743-9bc5-aec2356c9fea",
   "metadata": {},
   "source": [
    "Note the simplicity of the for loop:\n",
    "\n",
    "1) we specify the variable we want to use,\n",
    "2) the sequence we want to loop over\n",
    "3) and we use the \"in\" operator to connect them together in an intuitive and readable way.\n",
    "\n",
    "What if i want to cycle over a big set of elements?\n",
    "Python gives the **range()** function which generates a sequence of numbers:"
   ]
  },
  {
   "cell_type": "code",
   "execution_count": 41,
   "id": "77c50991-fe39-47ee-bd90-c7a1ce8f4448",
   "metadata": {},
   "outputs": [
    {
     "name": "stdout",
     "output_type": "stream",
     "text": [
      "[0, 1, 2, 3, 4, 5, 6, 7, 8, 9, 10, 11, 12, 13, 14]\n"
     ]
    }
   ],
   "source": [
    "a = list(range(15))\n",
    "print(a)"
   ]
  },
  {
   "cell_type": "code",
   "execution_count": 32,
   "id": "c21e175b-14e3-4029-800c-55d02333bc48",
   "metadata": {
    "tags": []
   },
   "outputs": [
    {
     "name": "stdout",
     "output_type": "stream",
     "text": [
      "0\n",
      "1\n",
      "2\n",
      "3\n",
      "4\n",
      "5\n",
      "6\n",
      "7\n",
      "8\n",
      "9\n"
     ]
    }
   ],
   "source": [
    "for i in range(10):   # no need list() function\n",
    "    print(i)"
   ]
  },
  {
   "cell_type": "markdown",
   "id": "984dd5a9-50c5-4e01-aaf7-59af8b54a450",
   "metadata": {},
   "source": [
    "We can perform **actions** inside a for loop  \n",
    "For example, let's create a function that sums all the numbers in a list"
   ]
  },
  {
   "cell_type": "code",
   "execution_count": 37,
   "id": "2eeacf20",
   "metadata": {
    "tags": []
   },
   "outputs": [],
   "source": [
    "def sumlist(x):\n",
    "    counter = 0\n",
    "    for i in x:\n",
    "        counter = counter + i\n",
    "    return counter"
   ]
  },
  {
   "cell_type": "code",
   "execution_count": 46,
   "id": "164b2dcd",
   "metadata": {
    "tags": []
   },
   "outputs": [
    {
     "data": {
      "text/plain": [
       "[0, 1, 2, 3, 4, 5, 6, 7, 8, 9, 10, 11, 12, 13, 14, 15, 16, 17, 18, 19]"
      ]
     },
     "execution_count": 46,
     "metadata": {},
     "output_type": "execute_result"
    }
   ],
   "source": [
    "# let's create the list\n",
    "x = list(range(0, 20, 1))\n",
    "x"
   ]
  },
  {
   "cell_type": "code",
   "execution_count": 48,
   "id": "5c5f1936",
   "metadata": {
    "tags": []
   },
   "outputs": [
    {
     "data": {
      "text/plain": [
       "190"
      ]
     },
     "execution_count": 48,
     "metadata": {},
     "output_type": "execute_result"
    }
   ],
   "source": [
    "sumlist(x)"
   ]
  },
  {
   "cell_type": "markdown",
   "id": "64de5e10-00d7-44ea-8485-6e0a98a019b3",
   "metadata": {},
   "source": [
    "Let's write a Python function that takes two lists and returns True if they have at least one element in common"
   ]
  },
  {
   "cell_type": "code",
   "execution_count": 50,
   "id": "a6c35a60",
   "metadata": {
    "tags": []
   },
   "outputs": [],
   "source": [
    "def checklist(x,y):\n",
    "    found = False\n",
    "    counter=0\n",
    "    for i in x:\n",
    "        for j in y:\n",
    "            if i == j:\n",
    "                counter=counter+1\n",
    "                found = True\n",
    "    return found,counter           "
   ]
  },
  {
   "cell_type": "code",
   "execution_count": 54,
   "id": "cbba9d40",
   "metadata": {
    "tags": []
   },
   "outputs": [
    {
     "name": "stdout",
     "output_type": "stream",
     "text": [
      "Found is  True  N. times = 2\n"
     ]
    }
   ],
   "source": [
    "x = [1,2,3,5,6]\n",
    "y= [1,2,7,8,9,10]\n",
    "a1, a2 = checklist(x,y)\n",
    "print(\"Found is \", a1, \" N. times =\", a2)"
   ]
  },
  {
   "cell_type": "markdown",
   "id": "06cdc2d0-06d1-40be-a22f-58031c0780d2",
   "metadata": {},
   "source": [
    "## Exercise\n",
    "Write a function to calculate the factorial of a number"
   ]
  },
  {
   "cell_type": "markdown",
   "id": "604c4bad-8bac-4ebb-94b0-407d195bee84",
   "metadata": {},
   "source": [
    "## Exercise\n",
    "Count the vowels in a word\n"
   ]
  },
  {
   "cell_type": "code",
   "execution_count": null,
   "id": "c5e016dd-922a-4997-ac53-45b8c04b692c",
   "metadata": {},
   "outputs": [],
   "source": []
  },
  {
   "cell_type": "markdown",
   "id": "400cfab7-2e91-4e0f-919a-e7fc182a5248",
   "metadata": {},
   "source": [
    "# CONCEPT 3. CYCLES (WHILE loop)\n",
    "\n",
    "The while loop executes as long as the condition remains true. \n",
    "In Python, like in C, any non-zero integer value is true; zero is false. \n",
    "The condition may also be a string or list value, in fact any sequence; anything with a non-zero length is true, empty sequences are false.  \n",
    "The test used in the example is a simple comparison. The standard comparison operators are written the same as in C: < (less than), > (greater than), == (equal to), <= (less than or equal to), >= (greater than or equal to) and != (not equal to).\n"
   ]
  },
  {
   "cell_type": "code",
   "execution_count": null,
   "id": "dca10025-e3bd-4d65-b8fb-c727a0491da8",
   "metadata": {},
   "outputs": [],
   "source": []
  },
  {
   "cell_type": "code",
   "execution_count": 95,
   "id": "7eb0d86c-2ebd-465d-a11a-0050ce01610b",
   "metadata": {},
   "outputs": [
    {
     "name": "stdout",
     "output_type": "stream",
     "text": [
      "10\n"
     ]
    }
   ],
   "source": [
    "a = True\n",
    "number = 0\n",
    "while a:\n",
    "    number = number + 1\n",
    "    if number == 10:\n",
    "        a = False\n",
    "print(number)"
   ]
  },
  {
   "cell_type": "code",
   "execution_count": 97,
   "id": "eb3bfda3-9d9b-44b8-88b2-f85cdf9c22a2",
   "metadata": {
    "tags": []
   },
   "outputs": [
    {
     "name": "stdout",
     "output_type": "stream",
     "text": [
      "32\n"
     ]
    }
   ],
   "source": [
    "# Let's raise the number to certain power using while loop.\n",
    "number = 2\n",
    "power = 5\n",
    "\n",
    "result = 1\n",
    "\n",
    "while power > 0:\n",
    "    result *= number\n",
    "    power -= 1\n",
    "\n",
    "# 2^5 = 32\n",
    "print( result)"
   ]
  },
  {
   "cell_type": "markdown",
   "id": "91ba269d-136f-4ae1-ba0e-40e538213358",
   "metadata": {},
   "source": [
    "# Example. Analyze stock performance \n"
   ]
  },
  {
   "cell_type": "markdown",
   "id": "74642de6-d69e-4869-8d56-747b5b54fcaf",
   "metadata": {},
   "source": [
    "Here’s a basic example of an economic application in Python that uses a for loop and if statements to analyze stock performance. This app calculates the annual return on investment (ROI) for a set of stock prices and determines if the ROI meets a target return threshold."
   ]
  },
  {
   "cell_type": "code",
   "execution_count": 12,
   "id": "cef22fb9-fe01-459c-baab-05074226a369",
   "metadata": {},
   "outputs": [],
   "source": [
    "# Define a list of stock prices for each year\n",
    "stock_prices = [100, 110, 115, 130, 120, 150]  # Prices at year-end from the start to the end of the investment\n",
    "\n",
    "# Define target annual ROI (in percentage)\n",
    "target_roi = 10\n"
   ]
  },
  {
   "cell_type": "code",
   "execution_count": 14,
   "id": "80200934-1325-4e6d-b2e2-937bedfd09a6",
   "metadata": {},
   "outputs": [
    {
     "name": "stdout",
     "output_type": "stream",
     "text": [
      "Year 1: ROI = 10.00% - Target met!\n",
      "Year 2: ROI = 4.55% - Target not met\n",
      "Year 3: ROI = 13.04% - Target met!\n",
      "Year 4: ROI = -7.69% - Target not met\n",
      "Year 5: ROI = 25.00% - Target met!\n",
      "\n",
      "Annual ROI results: [10.0, 4.545454545454546, 13.043478260869565, -7.6923076923076925, 25.0]\n"
     ]
    }
   ],
   "source": [
    "# Initialize an empty list to store the annual ROI results\n",
    "annual_returns = []\n",
    "\n",
    "# Loop through each year to calculate the annual ROI\n",
    "for i in range(1, len(stock_prices)):\n",
    "    # Calculate the ROI from the previous year's price to the current year's price\n",
    "    previous_price = stock_prices[i - 1]\n",
    "    current_price = stock_prices[i]\n",
    "    roi = ((current_price - previous_price) / previous_price) * 100  # ROI formula in percentage\n",
    "\n",
    "    # Append the ROI to the annual_returns list\n",
    "    annual_returns.append(roi)\n",
    "\n",
    "    # Check if the ROI meets or exceeds the target\n",
    "    if roi >= target_roi:\n",
    "        print(f\"Year {i}: ROI = {roi:.2f}% - Target met!\")\n",
    "    else:\n",
    "        print(f\"Year {i}: ROI = {roi:.2f}% - Target not met\")\n",
    "\n",
    "# Display annual returns for all years\n",
    "print(\"\\nAnnual ROI results:\", annual_returns)"
   ]
  },
  {
   "cell_type": "markdown",
   "id": "50118135-3b33-4bc2-8ffe-2b71ab48687a",
   "metadata": {},
   "source": [
    "# Exercise: Montly budget"
   ]
  },
  {
   "cell_type": "markdown",
   "id": "92975251-cd25-4796-be17-26caf8518d49",
   "metadata": {},
   "source": [
    "Here’s another example: a simple application that analyzes monthly expenses and categorizes each expense as either \"Under Budget\" or \"Over Budget\" based on a predefined monthly budget. This can be useful for personal finance management."
   ]
  },
  {
   "cell_type": "code",
   "execution_count": 22,
   "id": "ee22a2c3-d0b9-48eb-bd17-731bf52b3a75",
   "metadata": {},
   "outputs": [],
   "source": [
    "# Monthly expenses (in dollars) for each month\n",
    "monthly_expenses = [950, 1020, 870, 1200, 980, 1100, 940, 990, 1300, 1250, 1050, 900]\n",
    "\n",
    "# Define the monthly budget\n",
    "monthly_budget = 1000"
   ]
  },
  {
   "cell_type": "code",
   "execution_count": 20,
   "id": "df1713b3-ef09-42de-8a2c-38d61f12845e",
   "metadata": {},
   "outputs": [],
   "source": [
    "#....write code here\n"
   ]
  },
  {
   "cell_type": "code",
   "execution_count": null,
   "id": "eeec9f9f-51aa-4460-b664-3ba90382ac86",
   "metadata": {},
   "outputs": [],
   "source": []
  },
  {
   "cell_type": "code",
   "execution_count": null,
   "id": "1334362c-5643-42a3-b7a6-810a7717d9f4",
   "metadata": {},
   "outputs": [],
   "source": []
  },
  {
   "cell_type": "code",
   "execution_count": null,
   "id": "f808ae3d-7aae-4496-9214-52c8ea6968be",
   "metadata": {},
   "outputs": [],
   "source": []
  },
  {
   "cell_type": "code",
   "execution_count": null,
   "id": "782424d3-93cf-40fb-8f55-b0833b181994",
   "metadata": {},
   "outputs": [],
   "source": []
  },
  {
   "cell_type": "markdown",
   "id": "c3650641-1b42-4962-be5e-6409ef08f62a",
   "metadata": {},
   "source": [
    "# SOLUTION"
   ]
  },
  {
   "cell_type": "code",
   "execution_count": 24,
   "id": "42196461-059b-4423-b2a7-d87f5efa5d0b",
   "metadata": {},
   "outputs": [
    {
     "name": "stdout",
     "output_type": "stream",
     "text": [
      "Month 1: Expense = $950 - Under Budget\n",
      "Month 2: Expense = $1020 - Over Budget\n",
      "Month 3: Expense = $870 - Under Budget\n",
      "Month 4: Expense = $1200 - Over Budget\n",
      "Month 5: Expense = $980 - Under Budget\n",
      "Month 6: Expense = $1100 - Over Budget\n",
      "Month 7: Expense = $940 - Under Budget\n",
      "Month 8: Expense = $990 - Under Budget\n",
      "Month 9: Expense = $1300 - Over Budget\n",
      "Month 10: Expense = $1250 - Over Budget\n",
      "Month 11: Expense = $1050 - Over Budget\n",
      "Month 12: Expense = $900 - Under Budget\n",
      "\n",
      "Summary:\n",
      "Months Under Budget: 6\n",
      "Months Over Budget: 6\n",
      "Total Yearly Expense = $12550 - Exceeds Annual Budget\n"
     ]
    }
   ],
   "source": [
    "# Initialize variables to track the number of \"Under Budget\" and \"Over Budget\" months\n",
    "under_budget_count = 0\n",
    "over_budget_count = 0\n",
    "\n",
    "# Loop through each month's expense\n",
    "for month, expense in enumerate(monthly_expenses, start=1):\n",
    "    # Check if the expense is under or over the budget\n",
    "    if expense <= monthly_budget:\n",
    "        print(f\"Month {month}: Expense = ${expense} - Under Budget\")\n",
    "        under_budget_count += 1\n",
    "    else:\n",
    "        print(f\"Month {month}: Expense = ${expense} - Over Budget\")\n",
    "        over_budget_count += 1\n",
    "\n",
    "# Display summary\n",
    "print(\"\\nSummary:\")\n",
    "print(f\"Months Under Budget: {under_budget_count}\")\n",
    "print(f\"Months Over Budget: {over_budget_count}\")\n",
    "\n",
    "# Calculate the total yearly expense and check if it meets the annual budget\n",
    "total_expense = sum(monthly_expenses)\n",
    "annual_budget = monthly_budget * 12\n",
    "\n",
    "if total_expense <= annual_budget:\n",
    "    print(f\"Total Yearly Expense = ${total_expense} - Within Annual Budget\")\n",
    "else:\n",
    "    print(f\"Total Yearly Expense = ${total_expense} - Exceeds Annual Budget\")"
   ]
  },
  {
   "cell_type": "code",
   "execution_count": null,
   "id": "c8e3ef6b-3752-4831-8df5-901c2d0736f9",
   "metadata": {},
   "outputs": [],
   "source": []
  },
  {
   "cell_type": "markdown",
   "id": "e002e935-421e-4ea7-b055-f6eaa457f311",
   "metadata": {},
   "source": [
    "# Exercise: Analyze Consumer Spending Data\n",
    "Scenario:  \n",
    "You are tasked with analyzing monthly consumer spending data for a small business. The business tracks spending in different categories such as groceries, entertainment, utilities, and miscellaneous. Your goal is to calculate various insights using Python.\n",
    " \n",
    "Instructions:  \n",
    "Write a function analyze_spending(categories, spending, threshold):\n",
    "- categories is a list of category names (e.g., [\"groceries\", \"entertainment\", \"utilities\", \"miscellaneous\"]). \n",
    "- spending is a list of lists, where each inner list contains monthly spending amounts for a corresponding category.\n",
    "- threshold is a float value representing the upper limit of spending for any month.\n",
    "\n",
    "\n",
    "The function should:\n",
    "\n",
    "- Use a for loop to iterate over the spending data.\n",
    "- Use a conditional statement to check if any monthly spending in a category exceeds the threshold.\n",
    "- Print a message for each category indicating whether it stayed within the budget (threshold) or exceeded it.\n",
    "- Return a list of categories that exceeded the threshold.\n"
   ]
  },
  {
   "cell_type": "markdown",
   "id": "7705e918-ebc2-4741-a1c7-dec8a70954b1",
   "metadata": {},
   "source": [
    "For example f the input is:"
   ]
  },
  {
   "cell_type": "code",
   "execution_count": 68,
   "id": "f0164ae0-dbbd-4fcd-8750-f69ef6bde875",
   "metadata": {},
   "outputs": [],
   "source": [
    "# INPUT DATA\n",
    "categories = [\"groceries\", \"entertainment\", \"utilities\", \"miscellaneous\"]\n",
    "spending = [\n",
    "    [200, 150, 180],\n",
    "    [120, 300, 250],\n",
    "    [100, 100, 100],\n",
    "    [50, 60, 40],\n",
    "]\n",
    "threshold = 200\n"
   ]
  },
  {
   "cell_type": "markdown",
   "id": "e17a8004-ede1-47aa-a461-04424782d6a0",
   "metadata": {},
   "source": [
    "The output might be:"
   ]
  },
  {
   "cell_type": "markdown",
   "id": "29a304f7-614c-412a-bbf3-3c1d20b34c48",
   "metadata": {},
   "source": [
    "- groceries: All spending is within the budget.\n",
    "- entertainment: Exceeded the budget!\n",
    "- utilities: All spending is within the budget.\n",
    "- miscellaneous: All spending is within the budget.\n"
   ]
  },
  {
   "cell_type": "markdown",
   "id": "370f52c0-d048-4bf8-b042-ff0a809a8960",
   "metadata": {},
   "source": [
    "And the function would return:\n",
    "[\"entertainment\"]"
   ]
  },
  {
   "cell_type": "code",
   "execution_count": null,
   "id": "3af02852-99ff-4c97-aa9a-cc071c05548f",
   "metadata": {},
   "outputs": [],
   "source": []
  },
  {
   "cell_type": "code",
   "execution_count": null,
   "id": "1bb25d9e-0fc1-476e-b2aa-f4b67d254f77",
   "metadata": {},
   "outputs": [],
   "source": []
  },
  {
   "cell_type": "code",
   "execution_count": null,
   "id": "191a5dff-8d52-4202-a872-7c5133c1dd9a",
   "metadata": {},
   "outputs": [],
   "source": []
  },
  {
   "cell_type": "code",
   "execution_count": null,
   "id": "d30e942a-4556-419f-afba-c54b6eac7735",
   "metadata": {},
   "outputs": [],
   "source": []
  },
  {
   "cell_type": "markdown",
   "id": "851c46d3-3a4f-4922-b158-67e5b023b6f3",
   "metadata": {},
   "source": [
    "# SOLUTION"
   ]
  },
  {
   "cell_type": "code",
   "execution_count": 72,
   "id": "012161e5-ae90-4ea4-b30a-ceb4bbea16bf",
   "metadata": {},
   "outputs": [],
   "source": [
    "def analyze_spending(categories, spending, threshold):\n",
    "    exceeded_categories = []\n",
    "    \n",
    "    # Loop through each category and its spending data\n",
    "    for i in range(len(categories)):\n",
    "        category = categories[i]\n",
    "        category_spending = spending[i]\n",
    "        \n",
    "        # Check if any spending in this category exceeds the threshold\n",
    "        if any(amount > threshold for amount in category_spending):\n",
    "            print(f\"{category}: Exceeded the budget!\")\n",
    "            exceeded_categories.append(category)\n",
    "        else:\n",
    "            print(f\"{category}: All spending is within the budget.\")\n",
    "    \n",
    "    # Return the list of categories that exceeded the budget\n",
    "    return exceeded_categories\n"
   ]
  },
  {
   "cell_type": "code",
   "execution_count": 74,
   "id": "60cb8122-53f4-4397-9685-c1f4109a985e",
   "metadata": {},
   "outputs": [
    {
     "name": "stdout",
     "output_type": "stream",
     "text": [
      "groceries: All spending is within the budget.\n",
      "entertainment: Exceeded the budget!\n",
      "utilities: All spending is within the budget.\n",
      "miscellaneous: All spending is within the budget.\n"
     ]
    },
    {
     "data": {
      "text/plain": [
       "['entertainment']"
      ]
     },
     "execution_count": 74,
     "metadata": {},
     "output_type": "execute_result"
    }
   ],
   "source": [
    "analyze_spending(categories, spending, threshold)"
   ]
  },
  {
   "cell_type": "markdown",
   "id": "bc421a77-21c4-4605-b273-29ec00761820",
   "metadata": {},
   "source": [
    "# CONCEPT 4: DICTIONARIES (Data Structures)  \n",
    "A dictionary is a collection which is unordered, changeable and indexed. \n",
    "In Python dictionaries are written with curly brackets, and they have keys and values.  \n",
    "\n",
    "Dictionaries are sometimes found in other languages as “associative memories” or “associative arrays”.  \n",
    "Unlike sequences, which are indexed by a range of numbers, dictionaries are indexed by keys, which can be any immutable type; strings and numbers can always be keys. \n",
    "\n",
    "It is best to think of a dictionary as a set of key:value pairs, with the requirement that the\n",
    "keys are unique (within one dictionary).   \n",
    "A pair of braces creates an empty dictionary: {}.\n",
    "Placing a comma-separated list of key:value pairs within the braces adds initial key:value pairs to the dictionary; this is also the way dictionaries are written on output."
   ]
  },
  {
   "cell_type": "code",
   "execution_count": 101,
   "id": "dc03400d-9931-4352-b6e6-95396a0a40fa",
   "metadata": {
    "tags": []
   },
   "outputs": [],
   "source": [
    "fruits_dictionary = {\n",
    "    'cherry': 'red',\n",
    "    'apple': 'green',\n",
    "    'banana': 'yellow',\n",
    "}"
   ]
  },
  {
   "cell_type": "markdown",
   "id": "f2340f39-9bb9-4f62-a3aa-86a7436e2c4d",
   "metadata": {},
   "source": [
    "The Type of a dictionary is **dict**"
   ]
  },
  {
   "cell_type": "code",
   "execution_count": 105,
   "id": "539f12e1-c927-4435-b2f9-4789abd554cf",
   "metadata": {
    "tags": []
   },
   "outputs": [
    {
     "data": {
      "text/plain": [
       "dict"
      ]
     },
     "execution_count": 105,
     "metadata": {},
     "output_type": "execute_result"
    }
   ],
   "source": [
    "type(fruits_dictionary)"
   ]
  },
  {
   "cell_type": "code",
   "execution_count": 61,
   "id": "f2babde7-a44e-4ed4-bb11-6d1c30114de2",
   "metadata": {
    "tags": []
   },
   "outputs": [
    {
     "name": "stdout",
     "output_type": "stream",
     "text": [
      "green\n",
      "yellow\n",
      "red\n"
     ]
    }
   ],
   "source": [
    "# You may access set elements by keys.\n",
    "print(fruits_dictionary['apple'])\n",
    "print( fruits_dictionary['banana'] )\n",
    "print( fruits_dictionary['cherry'] )\n"
   ]
  },
  {
   "cell_type": "code",
   "execution_count": 110,
   "id": "51e88832-161d-4b90-a418-15defc4dcdd1",
   "metadata": {
    "tags": []
   },
   "outputs": [
    {
     "name": "stdout",
     "output_type": "stream",
     "text": [
      "True\n",
      "True\n"
     ]
    }
   ],
   "source": [
    "# To check whether a single key is in the dictionary, use the in keyword.\n",
    "print( 'apple' in fruits_dictionary)\n",
    "print( 'pineapple' not in fruits_dictionary)"
   ]
  },
  {
   "cell_type": "code",
   "execution_count": 108,
   "id": "ac374fd0-a786-4811-aa1d-dc77d67cc3d9",
   "metadata": {
    "tags": []
   },
   "outputs": [],
   "source": [
    "# Change the apple color to \"red\".\n",
    "fruits_dictionary['apple'] = 'red'\n"
   ]
  },
  {
   "cell_type": "code",
   "execution_count": 112,
   "id": "d776ecdd-3681-4cf3-a7dd-c2783e0acb70",
   "metadata": {
    "tags": []
   },
   "outputs": [
    {
     "name": "stdout",
     "output_type": "stream",
     "text": [
      "yellow\n"
     ]
    }
   ],
   "source": [
    "\n",
    "# Add new key/value pair to the dictionary\n",
    "fruits_dictionary['pineapple'] = 'yellow'\n",
    "print( fruits_dictionary['pineapple'] )"
   ]
  },
  {
   "cell_type": "code",
   "execution_count": 65,
   "id": "42835858-ab2b-4220-8401-89b5c3af42ea",
   "metadata": {
    "tags": []
   },
   "outputs": [
    {
     "name": "stdout",
     "output_type": "stream",
     "text": [
      "['cherry', 'apple', 'banana', 'pineapple']\n",
      "['apple', 'banana', 'cherry', 'pineapple']\n"
     ]
    }
   ],
   "source": [
    "\n",
    "# Performing list(d) on a dictionary returns a list of all the keys used in the dictionary,\n",
    "# in insertion order (if you want it sorted, just use sorted(d) instead).\n",
    "print( list(fruits_dictionary) )\n",
    "print( sorted(fruits_dictionary))"
   ]
  },
  {
   "cell_type": "code",
   "execution_count": 66,
   "id": "2aacdcbd-7d90-4dd6-80db-7c74a9504b21",
   "metadata": {
    "tags": []
   },
   "outputs": [
    {
     "name": "stdout",
     "output_type": "stream",
     "text": [
      "['cherry', 'apple', 'banana']\n"
     ]
    }
   ],
   "source": [
    "\n",
    "# It is also possible to delete a key:value pair with del.\n",
    "del fruits_dictionary['pineapple']\n",
    "print( list(fruits_dictionary) )"
   ]
  },
  {
   "cell_type": "code",
   "execution_count": null,
   "id": "05414c74-f2a2-4d87-8685-5d194c6db7ab",
   "metadata": {},
   "outputs": [],
   "source": []
  },
  {
   "cell_type": "code",
   "execution_count": 67,
   "id": "12c6e0c9-48c3-485a-a300-d06f694a4d72",
   "metadata": {
    "tags": []
   },
   "outputs": [
    {
     "name": "stdout",
     "output_type": "stream",
     "text": [
      "4139\n",
      "4127\n",
      "4098\n"
     ]
    }
   ],
   "source": [
    "# The dict() constructor builds dictionaries directly from sequences of key-value pairs.\n",
    "dictionary_via_constructor = dict([('sape', 4139), ('guido', 4127), ('jack', 4098)])\n",
    "\n",
    "print( dictionary_via_constructor['sape'] )\n",
    "print( dictionary_via_constructor['guido'] )\n",
    "print( dictionary_via_constructor['jack'] )\n"
   ]
  },
  {
   "cell_type": "markdown",
   "id": "02b79440-fa01-4c68-b90e-eff3d078fec7",
   "metadata": {},
   "source": [
    "Let's create a phone book<"
   ]
  },
  {
   "cell_type": "code",
   "execution_count": 119,
   "id": "9002d0cf-269d-4bd4-80b0-303f8f70df4b",
   "metadata": {},
   "outputs": [],
   "source": [
    "phone_book = {\n",
    "    \"Smith\": \"555-0123\",\n",
    "    \"Johnson\": \"555-0456\",\n",
    "    \"Williams\": \"555-0789\",\n",
    "    \"Brown\": \"555-1011\",\n",
    "    \"Jones\": \"555-1213\",\n",
    "    \"Garcia\": \"555-1415\",\n",
    "    \"Martinez\": \"555-1617\",\n",
    "    \"Davis\": \"555-1819\",\n",
    "    \"Lopez\": \"555-2021\",\n",
    "    \"Wilson\": \"555-2223\",\n",
    "    \"Anderson\": \"555-2425\",\n",
    "    \"Taylor\": \"555-2627\",\n",
    "    \"Thomas\": \"555-2829\",\n",
    "    \"Hernandez\": \"555-3031\",\n",
    "    \"Moore\": \"555-3233\",\n",
    "    \"Martin\": \"555-3435\",\n",
    "    \"Jackson\": \"555-3637\",\n",
    "    \"Thompson\": \"555-3839\",\n",
    "    \"White\": \"555-4041\",\n",
    "    \"Harris\": \"555-4243\"\n",
    "}"
   ]
  },
  {
   "cell_type": "code",
   "execution_count": 121,
   "id": "c3d8332d-609c-48d2-b7a1-00a202adf1a1",
   "metadata": {},
   "outputs": [
    {
     "name": "stdout",
     "output_type": "stream",
     "text": [
      "Phone book entries:\n",
      "Smith: 555-0123\n",
      "Johnson: 555-0456\n",
      "Williams: 555-0789\n",
      "Brown: 555-1011\n",
      "Jones: 555-1213\n",
      "Garcia: 555-1415\n",
      "Martinez: 555-1617\n",
      "Davis: 555-1819\n",
      "Lopez: 555-2021\n",
      "Wilson: 555-2223\n",
      "Anderson: 555-2425\n",
      "Taylor: 555-2627\n",
      "Thomas: 555-2829\n",
      "Hernandez: 555-3031\n",
      "Moore: 555-3233\n",
      "Martin: 555-3435\n",
      "Jackson: 555-3637\n",
      "Thompson: 555-3839\n",
      "White: 555-4041\n",
      "Harris: 555-4243\n",
      "\n"
     ]
    }
   ],
   "source": [
    "# 1. Print all entries in the phone book\n",
    "print(\"Phone book entries:\")\n",
    "for surname, number in phone_book.items():\n",
    "    print(f\"{surname}: {number}\")\n",
    "print()\n",
    "\n"
   ]
  },
  {
   "cell_type": "code",
   "execution_count": 123,
   "id": "9531112a-766e-4432-9ff1-dba2a690f8af",
   "metadata": {},
   "outputs": [
    {
     "name": "stdout",
     "output_type": "stream",
     "text": [
      "The phone number for Garcia is 555-1415\n",
      "\n"
     ]
    }
   ],
   "source": [
    "# 2. Look up a phone number by surname\n",
    "surname_to_find = \"Garcia\"\n",
    "if surname_to_find in phone_book:\n",
    "    print(f\"The phone number for {surname_to_find} is {phone_book[surname_to_find]}\")\n",
    "else:\n",
    "    print(f\"{surname_to_find} is not in the phone book.\")\n",
    "print()\n",
    "\n"
   ]
  },
  {
   "cell_type": "code",
   "execution_count": 125,
   "id": "307b08e6-9fc6-4c10-86b9-6888ea9cf326",
   "metadata": {},
   "outputs": [
    {
     "name": "stdout",
     "output_type": "stream",
     "text": [
      "Added Clark: 555-4545 to the phone book.\n",
      "\n"
     ]
    }
   ],
   "source": [
    "# 3. Add a new entry to the phone book\n",
    "new_surname = \"Clark\"\n",
    "new_number = \"555-4545\"\n",
    "phone_book[new_surname] = new_number\n",
    "print(f\"Added {new_surname}: {new_number} to the phone book.\")\n",
    "print()\n",
    "\n"
   ]
  },
  {
   "cell_type": "code",
   "execution_count": 127,
   "id": "2ecd5513-f7d4-475c-971e-7f73fdccdb4e",
   "metadata": {},
   "outputs": [
    {
     "name": "stdout",
     "output_type": "stream",
     "text": [
      "Updated Smith's phone number to 555-9999\n",
      "\n"
     ]
    }
   ],
   "source": [
    "# 4. Update an existing entry\n",
    "surname_to_update = \"Smith\"\n",
    "updated_number = \"555-9999\"\n",
    "if surname_to_update in phone_book:\n",
    "    phone_book[surname_to_update] = updated_number\n",
    "    print(f\"Updated {surname_to_update}'s phone number to {updated_number}\")\n",
    "else:\n",
    "    print(f\"{surname_to_update} is not in the phone book.\")\n",
    "print()\n",
    "\n"
   ]
  },
  {
   "cell_type": "code",
   "execution_count": 129,
   "id": "393fe3fe-1757-41cf-abfe-c1835c94662a",
   "metadata": {},
   "outputs": [
    {
     "name": "stdout",
     "output_type": "stream",
     "text": [
      "Removed Lopez from the phone book.\n",
      "\n"
     ]
    }
   ],
   "source": [
    "# 5. Remove an entry from the phone book\n",
    "surname_to_remove = \"Lopez\"\n",
    "if surname_to_remove in phone_book:\n",
    "    del phone_book[surname_to_remove]\n",
    "    print(f\"Removed {surname_to_remove} from the phone book.\")\n",
    "else:\n",
    "    print(f\"{surname_to_remove} is not in the phone book.\")\n",
    "print()\n",
    "\n"
   ]
  },
  {
   "cell_type": "code",
   "execution_count": 131,
   "id": "fd4f9362-bfbf-4173-9923-e4075efd4975",
   "metadata": {},
   "outputs": [
    {
     "name": "stdout",
     "output_type": "stream",
     "text": [
      "The phone book now has 20 entries.\n"
     ]
    }
   ],
   "source": [
    "# 6. Print the number of entries in the phone book\n",
    "print(f\"The phone book now has {len(phone_book)} entries.\")"
   ]
  },
  {
   "cell_type": "code",
   "execution_count": null,
   "id": "ce1ba792-1ef4-46d1-a63c-7d69e392adbd",
   "metadata": {},
   "outputs": [],
   "source": []
  },
  {
   "cell_type": "code",
   "execution_count": null,
   "id": "ac92b445-9293-482e-943f-9db38586c2a4",
   "metadata": {},
   "outputs": [],
   "source": []
  },
  {
   "cell_type": "code",
   "execution_count": null,
   "id": "8c8368d8-c2c8-4851-bbf3-17c01acc105d",
   "metadata": {},
   "outputs": [],
   "source": []
  },
  {
   "cell_type": "markdown",
   "id": "5238ceff-cebc-4be3-96be-7a549caa7b30",
   "metadata": {},
   "source": [
    "# Exercise: Analyzing Economic Data with Python Dictionaries  \n",
    "Problem Statement:\n",
    "You are given economic data for several countries in the form of Python dictionaries.  \n",
    "Each dictionary contains information about one economic metric, such as GDP, inflation rate, and unemployment rate.   \n",
    "Using this data, write code to answer specific questions and perform calculations.\n",
    "\n",
    "Provided Data:\n",
    "- GDP (in billions USD)\n",
    "- Inflation Rate (in percentage)\n",
    "- Unemployment Rate (in percentage)\n",
    "\n",
    "Data Setup:\n",
    "The following data should be copied and used in your code."
   ]
  },
  {
   "cell_type": "code",
   "execution_count": 52,
   "id": "f92ff4d2-0fbc-45ae-9601-1d97465ef4fb",
   "metadata": {},
   "outputs": [],
   "source": [
    "# GDP data (in billions USD)\n",
    "gdp = {\n",
    "    \"United States\": 21433,\n",
    "    \"Germany\": 4223,\n",
    "    \"Japan\": 4937,\n",
    "    \"India\": 3171,\n",
    "    \"Brazil\": 1839\n",
    "}\n",
    "\n",
    "# Inflation rates (in percentage)\n",
    "inflation_rate = {\n",
    "    \"United States\": 3.2,\n",
    "    \"Germany\": 2.8,\n",
    "    \"Japan\": 1.1,\n",
    "    \"India\": 6.4,\n",
    "    \"Brazil\": 4.5\n",
    "}\n",
    "\n",
    "# Unemployment rates (in percentage)\n",
    "unemployment_rate = {\n",
    "    \"United States\": 4.0,\n",
    "    \"Germany\": 3.5,\n",
    "    \"Japan\": 2.6,\n",
    "    \"India\": 7.2,\n",
    "    \"Brazil\": 8.1\n",
    "}\n",
    "# population data (in millions)\n",
    "population = {\n",
    "    \"United States\": 331,\n",
    "    \"Germany\": 83,\n",
    "    \"Japan\": 126,\n",
    "    \"India\": 1380,\n",
    "    \"Brazil\": 212\n",
    "}"
   ]
  },
  {
   "cell_type": "markdown",
   "id": "5dc1a48e-0dae-4a8c-bc49-344eb34e3980",
   "metadata": {},
   "source": [
    "## Tasks:\n",
    "Calculate and Print GDP per Capita:\n",
    "\n",
    "Write a function that calculates GDP per capita for each country and prints it in the format:"
   ]
  },
  {
   "cell_type": "markdown",
   "id": "de1d8d34-9787-4988-9954-70c38eff3cab",
   "metadata": {},
   "source": [
    "## Tasks:\n",
    "\n",
    "Identify Countries with High Inflation:\n",
    "\n",
    "Write a function that prints the names of countries with an inflation rate above 4%."
   ]
  },
  {
   "cell_type": "markdown",
   "id": "a429a4f6-ed71-41df-8651-3b05b1454498",
   "metadata": {},
   "source": [
    "## Tasks:\n",
    "\n",
    "Calculate Average Unemployment Rate:\n",
    "\n",
    "Write a function that calculates and returns the average unemployment rate for all countries."
   ]
  },
  {
   "cell_type": "code",
   "execution_count": null,
   "id": "acb0baa4-8247-40ea-9f37-59cfab7241da",
   "metadata": {},
   "outputs": [],
   "source": []
  },
  {
   "cell_type": "code",
   "execution_count": null,
   "id": "407f9224-90dd-45a6-b495-9f37917cd4d0",
   "metadata": {},
   "outputs": [],
   "source": []
  },
  {
   "cell_type": "markdown",
   "id": "7cc77757-1b7f-4762-be3f-ac40e9d7bfb1",
   "metadata": {
    "tags": []
   },
   "source": [
    "# List Comprehensions\n",
    "List comprehensions are simply a way to build list with for-loop into a single short, readable line.\n",
    "For example, here is a loop that constructs a list of the first 12 square integers:"
   ]
  },
  {
   "cell_type": "code",
   "execution_count": null,
   "id": "2f28be59-a486-44ac-ad9b-378dc4e573a2",
   "metadata": {
    "collapsed": false,
    "jupyter": {
     "outputs_hidden": false
    },
    "tags": []
   },
   "outputs": [],
   "source": [
    "L = []\n",
    "for n in range(12):\n",
    "    L.append(n ** 2)\n",
    "L"
   ]
  },
  {
   "cell_type": "markdown",
   "id": "230d958a-750c-4d8e-9728-2e27bcd09901",
   "metadata": {},
   "source": [
    "The list comprehension equivalent of this is the following:"
   ]
  },
  {
   "cell_type": "code",
   "execution_count": null,
   "id": "b1c65377-6c9f-4300-b64b-c9b8bf749af5",
   "metadata": {
    "collapsed": false,
    "jupyter": {
     "outputs_hidden": false
    },
    "tags": []
   },
   "outputs": [],
   "source": [
    "[n ** 2 for n in range(12)]"
   ]
  },
  {
   "cell_type": "markdown",
   "id": "59787afd-b7f0-4522-89aa-ca6a284e6033",
   "metadata": {},
   "source": [
    "This basic syntax, then, is ``[``*``expr``* ``for`` *``var``* ``in`` *``iterable``*``]``, where *``expr``* is any valid expression, *``var``* is a variable name, and *``iterable``* is any iterable Python object."
   ]
  },
  {
   "cell_type": "markdown",
   "id": "5911d763-68b0-44e7-86b9-f309d983e8d5",
   "metadata": {},
   "source": [
    "## Multiple Iteration\n",
    "Sometimes you want to build a list not just from one value, but from two. To do this, simply add another ``for`` expression in the comprehension:"
   ]
  },
  {
   "cell_type": "code",
   "execution_count": null,
   "id": "d217ad9e-c7e4-4d72-97e1-11714b28ef80",
   "metadata": {
    "collapsed": false,
    "jupyter": {
     "outputs_hidden": false
    }
   },
   "outputs": [],
   "source": [
    "[(i, j) for i in range(2) for j in range(3)]"
   ]
  },
  {
   "cell_type": "markdown",
   "id": "3cbe2f21-b6db-4c22-9157-b97593db64f8",
   "metadata": {},
   "source": [
    "Notice that the second ``for`` expression acts as the interior index, varying the fastest in the resulting list.\n",
    "This type of construction can be extended to three, four, or more iterators within the comprehension"
   ]
  },
  {
   "cell_type": "markdown",
   "id": "9ac9e4b5-186e-405f-8bc6-1ddc169a10dc",
   "metadata": {},
   "source": [
    "## Conditionals on the Iterator\n",
    "You can further control the iteration by adding a conditional to the end of the expression.\n",
    "In the below example, we iterated over all numbers from 1 to 50, saving all multiples of 7.\n",
    "Look at this again, and notice the construction:"
   ]
  },
  {
   "cell_type": "code",
   "execution_count": null,
   "id": "78a34cfa-9f6a-4962-93bf-1cee0468692f",
   "metadata": {
    "collapsed": false,
    "jupyter": {
     "outputs_hidden": false
    },
    "tags": []
   },
   "outputs": [],
   "source": [
    "[val for val in range(50) if val % 7 == 0]"
   ]
  },
  {
   "cell_type": "markdown",
   "id": "3ce4cd1b-ea5f-4c18-a052-648712d69ffc",
   "metadata": {},
   "source": [
    "The expression ``(i % 7 > 0)`` evaluates to ``True`` unless ``val`` is divisible by 7.\n",
    "Again, the English language meaning can be immediately read off: \"Construct a list of values for each value up to 50, but only if the value is not divisible by 7\".\n",
    "Once you are comfortable with it, this is much easier to write – and to understand at a glance – than the equivalent loop syntax:"
   ]
  },
  {
   "cell_type": "code",
   "execution_count": null,
   "id": "407abd9e-7e83-4e6f-a1f7-7a63415cec86",
   "metadata": {
    "collapsed": false,
    "jupyter": {
     "outputs_hidden": false
    },
    "tags": []
   },
   "outputs": [],
   "source": [
    "L = []\n",
    "for val in range(50):\n",
    "    if val % 7:\n",
    "        L.append(val)\n",
    "print(L)"
   ]
  },
  {
   "cell_type": "code",
   "execution_count": null,
   "id": "c69357f1-1de3-4412-8b5b-237c34352d87",
   "metadata": {},
   "outputs": [],
   "source": []
  },
  {
   "cell_type": "markdown",
   "id": "8af81db9-331f-45f3-a296-836a9b27cd07",
   "metadata": {},
   "source": [
    "## Exercise 10. \n",
    "Extract even numbers from a list using list comprehension\n"
   ]
  },
  {
   "cell_type": "code",
   "execution_count": null,
   "id": "2d0dcf0a-1655-4e06-80d4-0b9da6c00e00",
   "metadata": {},
   "outputs": [],
   "source": []
  },
  {
   "cell_type": "code",
   "execution_count": null,
   "id": "11e68894-2217-4551-9f05-ccde42f798b2",
   "metadata": {},
   "outputs": [],
   "source": []
  }
 ],
 "metadata": {
  "kernelspec": {
   "display_name": "Python 3 (ipykernel)",
   "language": "python",
   "name": "python3"
  },
  "language_info": {
   "codemirror_mode": {
    "name": "ipython",
    "version": 3
   },
   "file_extension": ".py",
   "mimetype": "text/x-python",
   "name": "python",
   "nbconvert_exporter": "python",
   "pygments_lexer": "ipython3",
   "version": "3.12.4"
  }
 },
 "nbformat": 4,
 "nbformat_minor": 5
}
