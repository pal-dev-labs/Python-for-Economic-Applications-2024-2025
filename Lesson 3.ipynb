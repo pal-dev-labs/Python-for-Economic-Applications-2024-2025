{
 "cells": [
  {
   "cell_type": "markdown",
   "id": "4aafb6d5",
   "metadata": {},
   "source": [
    "# PHYTON MODULES\n",
    "A Python module is a file containing Python code that provides reusable functionality to a program. Modules allow you to organize your code into separate files and reuse it in multiple scripts or projects, which helps improve code readability and maintainability.  \n",
    "To load a module you can use the command **import**  \n",
    "If the module is not present in the current environment you can use the command **!pip install name_library** to install it  \n",
    "For more information see the command **pip**\n",
    "## Numpy Module\n",
    "**Numpy** is a Python module developed with the aim of optimally managing arrays, i.e. vectors, matrices and tensors (imagine a matrix with three, four, n dimensions). Whenever it is necessary to carry out calculations involving arrays, the use of this Module is strongly recommended because it is very efficient and fast in calculation operations"
   ]
  },
  {
   "cell_type": "code",
   "execution_count": null,
   "id": "a508e5d5-37b7-4ab7-ad1f-2f315c624c84",
   "metadata": {},
   "outputs": [],
   "source": []
  },
  {
   "cell_type": "code",
   "execution_count": null,
   "id": "df24f816",
   "metadata": {
    "tags": []
   },
   "outputs": [],
   "source": [
    "import numpy as np"
   ]
  },
  {
   "cell_type": "markdown",
   "id": "6d2af375-0879-4878-93d6-7abe85129e42",
   "metadata": {},
   "source": [
    "With the notation np.**object** you can access the specific objects of the np (numpy) library\n",
    "## REMEMBER\n",
    "- **np.** means that we are calling an object belong to the module Numpy\n",
    "- **.object** refers to the specific object of the Module (that could also be a simple function)\n"
   ]
  },
  {
   "cell_type": "code",
   "execution_count": null,
   "id": "c0a96960",
   "metadata": {
    "tags": []
   },
   "outputs": [],
   "source": [
    "# How many objects does the numpy library have?\n",
    "\n",
    "np."
   ]
  },
  {
   "cell_type": "markdown",
   "id": "9b0089cc",
   "metadata": {},
   "source": [
    "The main object of the Numpy Module is the **ndarray**  \n",
    "An ndarray is a collection of objects of the **SAME** type.  \n",
    "For example. a collection of integers, floats, strings. The important thing is that, unlike a list, arrays contain objects of the same type.\n",
    "\n",
    "How do we create an ndarray in Numpy? There are several ways:\n"
   ]
  },
  {
   "cell_type": "markdown",
   "id": "c5d0b87d",
   "metadata": {},
   "source": [
    "1. From a list"
   ]
  },
  {
   "cell_type": "code",
   "execution_count": null,
   "id": "3dc2a8b7",
   "metadata": {
    "tags": []
   },
   "outputs": [],
   "source": [
    "a= [1,2,3,4] # create a list\n",
    "v1 = np.array(a) # array is the function to create the object array\n",
    "v1"
   ]
  },
  {
   "cell_type": "markdown",
   "id": "24e49a3a",
   "metadata": {},
   "source": [
    "Let's check the TYPE of this object. it's a NDARRAY"
   ]
  },
  {
   "cell_type": "code",
   "execution_count": null,
   "id": "41965089",
   "metadata": {
    "tags": []
   },
   "outputs": [],
   "source": [
    "print(\"Type of object pointed by v1: \",type(v1))\n",
    "print(\"Type of pointed by a: \",type(a))"
   ]
  },
  {
   "cell_type": "code",
   "execution_count": null,
   "id": "630c4c0f-1f24-4fe1-8a36-6092c7d863ec",
   "metadata": {},
   "outputs": [],
   "source": []
  },
  {
   "cell_type": "code",
   "execution_count": null,
   "id": "8ece0d59",
   "metadata": {
    "tags": []
   },
   "outputs": [],
   "source": [
    "# if I want to specify the type of object contained in the array I use dtype=\n",
    "np.array([1, 2, 3, 4], dtype='float32')"
   ]
  },
  {
   "cell_type": "code",
   "execution_count": null,
   "id": "871475f4-6dc2-4b8a-9596-5384e4321603",
   "metadata": {},
   "outputs": [],
   "source": []
  },
  {
   "cell_type": "markdown",
   "id": "3be1a09b",
   "metadata": {},
   "source": [
    "2. I create an array using some **Numpy functions**"
   ]
  },
  {
   "cell_type": "code",
   "execution_count": null,
   "id": "793de979",
   "metadata": {
    "tags": []
   },
   "outputs": [],
   "source": [
    "# we create a vector of size 10 that contains 0\n",
    "array1 = np.zeros(10, dtype=int)\n",
    "print(array1)"
   ]
  },
  {
   "cell_type": "code",
   "execution_count": null,
   "id": "0fa4b311",
   "metadata": {
    "tags": []
   },
   "outputs": [],
   "source": [
    "# we create a vector of dimension 10 that contains 1\n",
    "array2 = np.ones(10)\n",
    "print(array2)"
   ]
  },
  {
   "cell_type": "code",
   "execution_count": null,
   "id": "c52d3e60",
   "metadata": {
    "tags": []
   },
   "outputs": [],
   "source": [
    "# let's create a 3 rows X 5 columns matrix of 1\n",
    "array3 = np.ones((3, 5), dtype=float)\n",
    "print(array3)"
   ]
  },
  {
   "cell_type": "code",
   "execution_count": null,
   "id": "3d469cb9",
   "metadata": {
    "tags": []
   },
   "outputs": [],
   "source": [
    "# create a 3 row X 3 column matrix containing 3.14\n",
    "np.full((3, 5), 3.14)"
   ]
  },
  {
   "cell_type": "code",
   "execution_count": null,
   "id": "616df81f",
   "metadata": {
    "tags": []
   },
   "outputs": [],
   "source": [
    "# Create a 3x3 IDENTITY matrix\n",
    "np.eye(3)"
   ]
  },
  {
   "cell_type": "code",
   "execution_count": null,
   "id": "f821f527-b6b5-41b8-91ee-57b6253637e5",
   "metadata": {},
   "outputs": [],
   "source": []
  },
  {
   "cell_type": "markdown",
   "id": "e1c1553e-527a-454d-9e31-56deca2d254e",
   "metadata": {},
   "source": [
    "# Exercises. \n",
    "- Create a 4x4 matrix filled with the value 5 using full()\n",
    "- Create a 3x3 matrix of zeros using zeros()\n",
    "\n"
   ]
  },
  {
   "cell_type": "code",
   "execution_count": null,
   "id": "3aab489e-c5ab-4554-a7cf-82736914846c",
   "metadata": {},
   "outputs": [],
   "source": []
  },
  {
   "cell_type": "markdown",
   "id": "cf14cce1-414c-48b0-a7b5-82f0d09ecbc2",
   "metadata": {},
   "source": [
    "## FIELDS and METHODS of an ndarray"
   ]
  },
  {
   "cell_type": "markdown",
   "id": "8a7026f6-a218-4f04-ae63-38062b89d634",
   "metadata": {},
   "source": [
    "Let's create an object ndarray representing a (3,5) matrix\n",
    "\n",
    "Remember: variable array1 is the pointer to the object"
   ]
  },
  {
   "cell_type": "code",
   "execution_count": null,
   "id": "bbcff875-5565-41a2-a920-91ef575ac27b",
   "metadata": {
    "tags": []
   },
   "outputs": [],
   "source": [
    "array1 = np.full((3, 5), 3.14)  \n",
    "print(x3)"
   ]
  },
  {
   "cell_type": "code",
   "execution_count": null,
   "id": "e9b065c4-9607-461f-985c-d0ce16421364",
   "metadata": {},
   "outputs": [],
   "source": [
    "type(array1)"
   ]
  },
  {
   "cell_type": "markdown",
   "id": "fb710fdb-dfe1-4f14-996f-1b5083df0a70",
   "metadata": {},
   "source": [
    "Remember that each OBJECT in python **brings with himself FIELDS (piece of information) and METHODS (functions)**  \n",
    "\n",
    "We can call a specific field or method with the dot notation:\n",
    "\n",
    "- **pointer.field**\n",
    "- **pointer.method()**\n",
    "\n",
    "### TAKE CARE ABOUT THE ROUND BRAKETS\n"
   ]
  },
  {
   "cell_type": "markdown",
   "id": "0ef60f08-3995-4117-ac4f-e5a1db5e90ff",
   "metadata": {},
   "source": [
    "Let's see this notation with our pointer **array1**  \n",
    "\n",
    "The field **shape** contains information about the shape of the ndarray pointed by array1"
   ]
  },
  {
   "cell_type": "code",
   "execution_count": null,
   "id": "a34515bd-0e9e-4fb7-8bc3-c834ca8313f1",
   "metadata": {
    "tags": []
   },
   "outputs": [],
   "source": [
    "array1.shape"
   ]
  },
  {
   "cell_type": "code",
   "execution_count": null,
   "id": "fa754d91-38b3-49a2-89fe-08168e920e85",
   "metadata": {
    "tags": []
   },
   "outputs": [],
   "source": [
    "print(\"x3 ndim: \", array1.ndim) # dimension of the ndarray\n",
    "print(\"x3 shape:\", array1.shape) # shape of the ndarray\n",
    "print(\"x3 size: \", array1.size) # elements of the ndarray"
   ]
  },
  {
   "cell_type": "markdown",
   "id": "7ff41a9e-4e0c-46a5-9021-5939f5cc00fb",
   "metadata": {},
   "source": [
    "Let's check a method: the **sum()** (rememeber it is a function)"
   ]
  },
  {
   "cell_type": "code",
   "execution_count": null,
   "id": "57c467a2-6dc7-41f6-898a-1112fa144adc",
   "metadata": {},
   "outputs": [],
   "source": [
    "array1.sum()"
   ]
  },
  {
   "cell_type": "markdown",
   "id": "d93243c3-d24a-400b-a3cf-7585739ed739",
   "metadata": {},
   "source": [
    "## More on dot (.) notation\n",
    "We saw that we can use dot notation to call an object from a specific Module (np.array())"
   ]
  },
  {
   "cell_type": "code",
   "execution_count": null,
   "id": "021d7940-f147-41d2-8ee5-5fc154bd1b36",
   "metadata": {},
   "outputs": [],
   "source": [
    "v1 = np.full((3, 5), 2.71)  "
   ]
  },
  {
   "cell_type": "markdown",
   "id": "817a328b-161b-491c-9790-84a33817b169",
   "metadata": {},
   "source": [
    "We also saw that, given an object, we can call a specific method with the dot notation (array1.shape)\n"
   ]
  },
  {
   "cell_type": "code",
   "execution_count": null,
   "id": "d5a5b198-9a26-4387-94d8-c9f861dd70f0",
   "metadata": {},
   "outputs": [],
   "source": [
    "v1.shape"
   ]
  },
  {
   "cell_type": "markdown",
   "id": "ccc7c494-caf0-44e1-b7b6-4ee847e3a27b",
   "metadata": {},
   "source": [
    "We can concatenate the 2 actions in a single command"
   ]
  },
  {
   "cell_type": "code",
   "execution_count": null,
   "id": "6d5833d4-7c14-42b9-8bc3-751ec887becf",
   "metadata": {},
   "outputs": [],
   "source": [
    "shape = np.full((3, 5), 2.71).shape\n",
    "print(shape)"
   ]
  },
  {
   "cell_type": "code",
   "execution_count": null,
   "id": "3804eb92-4767-446a-9de7-082e53af43f2",
   "metadata": {},
   "outputs": [],
   "source": [
    "sum = np.full((3, 5), 2.71).shape\n",
    "print(sum)"
   ]
  },
  {
   "cell_type": "markdown",
   "id": "faed2e65-c61a-4932-bf78-fe4de0b5ef22",
   "metadata": {},
   "source": [
    "we can create very long chains with operations between different objects"
   ]
  },
  {
   "cell_type": "code",
   "execution_count": null,
   "id": "60efb355-e86a-4be3-9d17-788768ee0fc1",
   "metadata": {},
   "outputs": [],
   "source": [
    "np.full((3, 5), 2.71).shape[1]*\"Hello \".upper()"
   ]
  },
  {
   "cell_type": "markdown",
   "id": "926bdce2-9682-437a-ad8c-0baf9e3bd167",
   "metadata": {},
   "source": [
    "## Linear sequences"
   ]
  },
  {
   "cell_type": "code",
   "execution_count": null,
   "id": "aca55319",
   "metadata": {
    "tags": []
   },
   "outputs": [],
   "source": [
    "# Create an array filled with a linear sequence\n",
    "# which starts from 0, ends at 20, with a step of 2\n",
    "# \n",
    "array4= np.arange(0, 20, 2)\n",
    "print(array4)"
   ]
  },
  {
   "cell_type": "code",
   "execution_count": null,
   "id": "af7e7be1",
   "metadata": {},
   "outputs": [],
   "source": []
  },
  {
   "cell_type": "code",
   "execution_count": null,
   "id": "3e30b91e",
   "metadata": {
    "tags": []
   },
   "outputs": [],
   "source": [
    "# Create an array of 5 elements equally spaced between 0 and 1\n",
    "np.linspace(0, 1, 5)"
   ]
  },
  {
   "cell_type": "markdown",
   "id": "801a8135-685a-419c-822d-983d4f27f823",
   "metadata": {},
   "source": [
    "## Create Random numbers with the random sub-module\n",
    "The **random** module is a submodule that provides tools for generating random numbers, sampling from distributions, and performing random operations.   \n",
    "It is part of the larger NumPy library and is extensively used for statistical simulations, random sampling, and generating datasets for testing"
   ]
  },
  {
   "cell_type": "code",
   "execution_count": null,
   "id": "dc21a6c6",
   "metadata": {
    "tags": []
   },
   "outputs": [],
   "source": [
    "# I create a 3x3 array of numbers uniformly distributed between 0 and 1\n",
    "array1 = np.random.random((3,3))\n",
    "print(array1)"
   ]
  },
  {
   "cell_type": "code",
   "execution_count": null,
   "id": "3d470bf5",
   "metadata": {
    "tags": []
   },
   "outputs": [],
   "source": [
    "# Create a 3x3 array of random INTEGER numbers in the range [0, 10)\n",
    "np.random.randint(0, 10, size=(3, 3))"
   ]
  },
  {
   "cell_type": "code",
   "execution_count": null,
   "id": "93fb9224-544f-4cb7-b0fb-d9a97c1d8147",
   "metadata": {},
   "outputs": [],
   "source": []
  },
  {
   "cell_type": "markdown",
   "id": "27233707",
   "metadata": {},
   "source": [
    "# Exercises\n",
    "- Create an array of 100 elements equally spaced between -10 and 10\n",
    "- Generate an array containing the first 100 multiples of 3\n",
    "- Create an 8x7 matrix of random integers between 30 and 70\n",
    "- Create a 10x10 array of random decimal numbers"
   ]
  },
  {
   "cell_type": "code",
   "execution_count": null,
   "id": "f51b0b9a",
   "metadata": {},
   "outputs": [],
   "source": []
  },
  {
   "cell_type": "markdown",
   "id": "38a5cbeb",
   "metadata": {},
   "source": [
    "# Operations with arrays: \"Vectorization\""
   ]
  },
  {
   "cell_type": "code",
   "execution_count": null,
   "id": "575bb13d",
   "metadata": {
    "tags": []
   },
   "outputs": [],
   "source": [
    "# create an array\n",
    "x1 = np.random.randint(0,10,size=10)\n",
    "x1"
   ]
  },
  {
   "cell_type": "markdown",
   "id": "78ffe205",
   "metadata": {},
   "source": [
    "What happens if I multiply $2 * x$ (multiply a vector with a scalar)"
   ]
  },
  {
   "cell_type": "code",
   "execution_count": null,
   "id": "bfd0fe1d",
   "metadata": {
    "tags": []
   },
   "outputs": [],
   "source": [
    "2*x1 # product for a scalar"
   ]
  },
  {
   "cell_type": "markdown",
   "id": "f2b78012",
   "metadata": {},
   "source": [
    "Numpy multiplies EACH ELEMENT OF THE VECTOR BY THE SCALAR\n",
    ".. and if I do the sum?"
   ]
  },
  {
   "cell_type": "code",
   "execution_count": null,
   "id": "b8fe2fed",
   "metadata": {
    "tags": []
   },
   "outputs": [],
   "source": [
    "2+x1   # sum with a number"
   ]
  },
  {
   "cell_type": "markdown",
   "id": "33c212b5",
   "metadata": {},
   "source": [
    "This time Numpy adds the number 2 to EVERY element of the vector"
   ]
  },
  {
   "cell_type": "markdown",
   "id": "770a04a1",
   "metadata": {},
   "source": [
    "This type of operation where a single (scalar) number is applied to all elements of the array is called **VECTORIZATION**\n",
    "\n",
    "But what actually happens?\n",
    "\n",
    "<img src=\"images/broadcasting1.png\">\n",
    "\n",
    "\n",
    "https://github.com/pal-dev-labs/Python-for-Economic-Applications/blob/main/Images/broadcasting1.png\n",
    "\n",
    "\n",
    "\n",
    "Let's look carefully.\n",
    "\n",
    "The vector [0,1,2] is added to the number 5.\n",
    "\n",
    "\n",
    "Python \"extends\" the number 5 by creating a vector of the same size as the other and adding two vectors element by element.\n",
    "\n",
    "\n",
    "This \"Extension\" operation is called **BROADCASTING**\n"
   ]
  },
  {
   "cell_type": "markdown",
   "id": "34dedd9e",
   "metadata": {},
   "source": [
    "Let's try the other arithmetic operations"
   ]
  },
  {
   "cell_type": "code",
   "execution_count": null,
   "id": "0eb2e1c5",
   "metadata": {
    "tags": []
   },
   "outputs": [],
   "source": [
    "x1/2 # division"
   ]
  },
  {
   "cell_type": "code",
   "execution_count": null,
   "id": "764a0590",
   "metadata": {
    "tags": []
   },
   "outputs": [],
   "source": [
    "x1**2 # POWER"
   ]
  },
  {
   "cell_type": "markdown",
   "id": "deb413ee",
   "metadata": {},
   "source": [
    "# A FIRST APPLICATION OF NUMPY: PLOTTING OF FUNCTIONS\n",
    "\n",
    "Let's now try to plot the function $y = x^2$"
   ]
  },
  {
   "cell_type": "code",
   "execution_count": null,
   "id": "3ca4a18c",
   "metadata": {
    "tags": []
   },
   "outputs": [],
   "source": [
    "# let's create the function domain\n",
    "x = np.linspace(-2,2,200)\n",
    "x"
   ]
  },
  {
   "cell_type": "code",
   "execution_count": null,
   "id": "60b62710",
   "metadata": {
    "tags": []
   },
   "outputs": [],
   "source": [
    "# let's calculate the range\n",
    "# NB Python uses vectorization to calculate for each element x the\n",
    "# corresponding value of y\n",
    "\n",
    "y = x**2 + 2*x\n",
    "y"
   ]
  },
  {
   "cell_type": "code",
   "execution_count": null,
   "id": "b020b3e6",
   "metadata": {
    "tags": []
   },
   "outputs": [],
   "source": [
    "# I import the Python Plotting Module and use the plot command\n",
    "import matplotlib.pyplot as plt\n",
    "# I use the plot command to plot the function\n",
    "plt.plot(x,y);"
   ]
  },
  {
   "cell_type": "code",
   "execution_count": null,
   "id": "7c7c35b5",
   "metadata": {
    "tags": []
   },
   "outputs": [],
   "source": [
    "# Numpy provides several mathematical functions that they implement directly\n",
    "# vectorization\n",
    "\n",
    "x = np.linspace(-2*np.pi,2*np.pi,200)\n",
    "print(x)"
   ]
  },
  {
   "cell_type": "code",
   "execution_count": null,
   "id": "02cad50c-93c9-4b8a-8ca8-f08277e04030",
   "metadata": {},
   "outputs": [],
   "source": []
  },
  {
   "cell_type": "code",
   "execution_count": null,
   "id": "2540b3ef-d4fe-4d02-a52d-91fdaf20f86b",
   "metadata": {},
   "outputs": [],
   "source": [
    "y2 = np.sin(x)"
   ]
  },
  {
   "cell_type": "code",
   "execution_count": null,
   "id": "135a5422-b425-4d3e-800c-77bc17349f76",
   "metadata": {},
   "outputs": [],
   "source": []
  },
  {
   "cell_type": "code",
   "execution_count": null,
   "id": "1766df3b",
   "metadata": {
    "tags": []
   },
   "outputs": [],
   "source": [
    "plt.plot(x,y2)"
   ]
  },
  {
   "cell_type": "markdown",
   "id": "fd47c1c0",
   "metadata": {},
   "source": [
    "How can I define a function of my choice and vectorize it?\n",
    "\n",
    "I use the **np.vectorize** command"
   ]
  },
  {
   "cell_type": "code",
   "execution_count": null,
   "id": "b1ef8e75",
   "metadata": {
    "tags": []
   },
   "outputs": [],
   "source": [
    "# I define an ordinary function\n",
    "import math as mat\n",
    "\n",
    "def myfunction(x):\n",
    "       return mat.sin(x)*mat.exp(-0.05*x)\n",
    "\n",
    "myfunction_vect = np.vectorize(myfunction)"
   ]
  },
  {
   "cell_type": "code",
   "execution_count": null,
   "id": "16d981c2",
   "metadata": {
    "tags": []
   },
   "outputs": [],
   "source": [
    "x = np.linspace(0,10*np.pi,200)\n",
    "y3= myfunction_vect(x)\n",
    "\n",
    "plt.plot(x,y3)\n",
    "\n",
    "# we set the x and y limits of our figure\n",
    "plt.xlim (-1,35)\n",
    "plt.ylim (-1,1)"
   ]
  },
  {
   "cell_type": "code",
   "execution_count": null,
   "id": "adff7da0",
   "metadata": {},
   "outputs": [],
   "source": []
  },
  {
   "cell_type": "markdown",
   "id": "15e88d55",
   "metadata": {},
   "source": [
    "# NOW YOU TRY IT\n",
    "Draw the function y = x*cos(x) in the domain D = [-2π;2π]"
   ]
  },
  {
   "cell_type": "code",
   "execution_count": null,
   "id": "394253ac-e0ad-41ce-a9b0-0937145ba9ba",
   "metadata": {},
   "outputs": [],
   "source": []
  },
  {
   "cell_type": "markdown",
   "id": "af0e7a96",
   "metadata": {},
   "source": [
    "# NUMPY AND VECTORS\n",
    "Ndarray objects from the Numpy library can be treated as true vectors"
   ]
  },
  {
   "cell_type": "code",
   "execution_count": null,
   "id": "6e1cdafb",
   "metadata": {
    "tags": []
   },
   "outputs": [],
   "source": [
    "# sum of vectors\n",
    "x1 = np.random.randint(0,10,10)\n",
    "x2 = np.ones(10)\n",
    "x3 = x1 + x2"
   ]
  },
  {
   "cell_type": "code",
   "execution_count": null,
   "id": "f2f61285",
   "metadata": {
    "tags": []
   },
   "outputs": [],
   "source": [
    "print(x1)\n",
    "print(x2)\n",
    "print(x3)"
   ]
  },
  {
   "cell_type": "code",
   "execution_count": null,
   "id": "5912bd29",
   "metadata": {
    "tags": []
   },
   "outputs": [],
   "source": [
    "# difference of vectors\n",
    "x4 = x1 - x2\n",
    "x4"
   ]
  },
  {
   "cell_type": "code",
   "execution_count": null,
   "id": "dfa2ab83",
   "metadata": {
    "tags": []
   },
   "outputs": [],
   "source": [
    "# the scalar product: np.dot()\n",
    "x3 = np.dot(x1,x2)\n",
    "x3"
   ]
  },
  {
   "cell_type": "code",
   "execution_count": null,
   "id": "2fc9e5c2-cf54-4538-882d-70d7958cf737",
   "metadata": {},
   "outputs": [],
   "source": [
    "# the short form for scalar product\n",
    "\n",
    "x1 @ x2"
   ]
  },
  {
   "cell_type": "code",
   "execution_count": null,
   "id": "7e8ba542-052d-46d0-9a94-9006c2ef3f34",
   "metadata": {},
   "outputs": [],
   "source": []
  },
  {
   "cell_type": "code",
   "execution_count": null,
   "id": "a522627a",
   "metadata": {
    "tags": []
   },
   "outputs": [],
   "source": [
    "# vector product: np.cross()\n",
    "x1 = np.array([2,3,4])\n",
    "x2 = np.array([-3,2,-1])\n",
    "x4 = np.cross(x1,x2)\n",
    "x4"
   ]
  },
  {
   "cell_type": "markdown",
   "id": "6323fa2d",
   "metadata": {},
   "source": [
    "Remember that each Python object brings with it Fields and Methods. Let's see some of them for ndarray type objects"
   ]
  },
  {
   "cell_type": "code",
   "execution_count": null,
   "id": "664fd2a4",
   "metadata": {
    "tags": []
   },
   "outputs": [],
   "source": [
    "# There is a dot product method\n",
    "x1.dot(x2) == np.dot(x1,x2)"
   ]
  },
  {
   "cell_type": "code",
   "execution_count": null,
   "id": "efe22b5e",
   "metadata": {
    "tags": []
   },
   "outputs": [],
   "source": [
    "# there is a method to calculate the average of the components\n",
    "x4 = np.random.randint(0,20,100)\n",
    "average = x4.mean()\n",
    "print(x4,\"average\", average)\n"
   ]
  },
  {
   "cell_type": "code",
   "execution_count": null,
   "id": "17757d33",
   "metadata": {
    "tags": []
   },
   "outputs": [],
   "source": [
    "# and to sort the components\n",
    "x4.sort()\n",
    "x4"
   ]
  },
  {
   "cell_type": "code",
   "execution_count": null,
   "id": "3fb0cfc2",
   "metadata": {},
   "outputs": [],
   "source": []
  },
  {
   "cell_type": "markdown",
   "id": "9a4d9716",
   "metadata": {},
   "source": [
    "# NOW YOU TRY IT\n",
    "The gross domestic product (GDP) of a country is calculated by multiplying the quantity of each good and service produced in a country by its price and then summing the products. \n",
    "\n",
    "The quantities of good and service are stored in the vector qty =[q1,q2,q3....qn]  \n",
    "Respective prices are are stored in the vector prices =[p1,p2,p3....pn]  \n",
    "\n",
    "Calculate the GDP\n"
   ]
  },
  {
   "cell_type": "code",
   "execution_count": null,
   "id": "b4e7d5a6-8202-457a-ba52-cf62e18d9696",
   "metadata": {
    "tags": []
   },
   "outputs": [],
   "source": [
    "# Values\n",
    "np.random.seed(0) # seed for reproducibility\n",
    "qty= np.random.randint(100,12500, 3250)\n",
    "prices = np.random.randint(1,1000, 3250)"
   ]
  },
  {
   "cell_type": "code",
   "execution_count": null,
   "id": "241c7a22-2be1-41bc-90d6-caf03657e2fa",
   "metadata": {},
   "outputs": [],
   "source": []
  },
  {
   "cell_type": "markdown",
   "id": "d5babaa4",
   "metadata": {},
   "source": [
    "# Vectors applications\n",
    "\n",
    "We have seen that Numpy can handle arrays. With arrays we can do many very different things.\n",
    "\n",
    "Let's see how to use arrays with images..."
   ]
  },
  {
   "cell_type": "markdown",
   "id": "a7c3f9d6-e147-4102-b812-0449c578bd06",
   "metadata": {},
   "source": [
    "We define a 5x5 matrix with integers from 0 to 255\n",
    "\n",
    "Each number represents a shade of gray; 0 = white - 255 = black"
   ]
  },
  {
   "cell_type": "code",
   "execution_count": null,
   "id": "052da8ab",
   "metadata": {
    "tags": []
   },
   "outputs": [],
   "source": [
    "\n",
    "a = np.array([[125,  0,  0,  0, 125],\n",
    " [  0, 64, 128, 192,   0],\n",
    " [  0, 128, 192, 128,   0],\n",
    " [  0,  64, 128, 192,   0],\n",
    " [255,  0,  0,  0, 255]])"
   ]
  },
  {
   "cell_type": "code",
   "execution_count": null,
   "id": "1450a8ec",
   "metadata": {
    "tags": []
   },
   "outputs": [],
   "source": [
    "a.shape"
   ]
  },
  {
   "cell_type": "code",
   "execution_count": null,
   "id": "5cae01cc",
   "metadata": {
    "tags": []
   },
   "outputs": [],
   "source": [
    "# let's plt a\n",
    "plt.imshow(a, cmap='gray')"
   ]
  },
  {
   "cell_type": "markdown",
   "id": "d251b89d",
   "metadata": {},
   "source": [
    "# EACH SQUARE IS CALLED A PIXEL"
   ]
  },
  {
   "cell_type": "markdown",
   "id": "05432ffe",
   "metadata": {},
   "source": [
    "# Let's try using a larger array"
   ]
  },
  {
   "cell_type": "code",
   "execution_count": null,
   "id": "1a909b16",
   "metadata": {},
   "outputs": [],
   "source": []
  },
  {
   "cell_type": "code",
   "execution_count": null,
   "id": "3d166ed0",
   "metadata": {
    "tags": []
   },
   "outputs": [],
   "source": [
    "from skimage import data\n",
    "\n",
    "image = data.camera()\n",
    "image.shape"
   ]
  },
  {
   "cell_type": "markdown",
   "id": "72c281fd",
   "metadata": {},
   "source": [
    "# We therefore have 512 x 512 Pixels"
   ]
  },
  {
   "cell_type": "code",
   "execution_count": null,
   "id": "10cf54a5",
   "metadata": {
    "tags": []
   },
   "outputs": [],
   "source": [
    "type(image)   # it's a numpy object"
   ]
  },
  {
   "cell_type": "code",
   "execution_count": null,
   "id": "30d46548",
   "metadata": {
    "tags": []
   },
   "outputs": [],
   "source": [
    "image"
   ]
  },
  {
   "cell_type": "code",
   "execution_count": null,
   "id": "620dbb2e",
   "metadata": {
    "tags": []
   },
   "outputs": [],
   "source": [
    "plt.imshow(image, cmap=\"gray\")"
   ]
  },
  {
   "cell_type": "markdown",
   "id": "0474a8fb",
   "metadata": {},
   "source": [
    "# Let's try now with a number of pixels 1024x768 (resolution of a laptop monitor)...\n",
    "\n",
    "this time with a three-dimensional matrix"
   ]
  },
  {
   "cell_type": "code",
   "execution_count": null,
   "id": "0bdc62d6",
   "metadata": {
    "tags": []
   },
   "outputs": [],
   "source": [
    "from scipy import misc\n",
    "img = misc.face()\n",
    "type(img)"
   ]
  },
  {
   "cell_type": "code",
   "execution_count": null,
   "id": "5aa930c1",
   "metadata": {
    "tags": []
   },
   "outputs": [],
   "source": [
    "img.shape"
   ]
  },
  {
   "cell_type": "code",
   "execution_count": null,
   "id": "4cc17858",
   "metadata": {
    "tags": []
   },
   "outputs": [],
   "source": [
    "img"
   ]
  },
  {
   "cell_type": "code",
   "execution_count": null,
   "id": "0ec72ef7",
   "metadata": {
    "tags": []
   },
   "outputs": [],
   "source": [
    "plt.imshow(img)"
   ]
  },
  {
   "cell_type": "markdown",
   "id": "e2bd6f03",
   "metadata": {},
   "source": [
    "This time we also have colors!! (third dimension is RGB color)"
   ]
  },
  {
   "cell_type": "code",
   "execution_count": null,
   "id": "8f9150db-9f45-472b-a672-efbcea837e8c",
   "metadata": {},
   "outputs": [],
   "source": []
  },
  {
   "cell_type": "markdown",
   "id": "35dcb696-d2c1-470b-8276-42a80ea18674",
   "metadata": {},
   "source": [
    "## Array Indexing: Access a single element of an array"
   ]
  },
  {
   "cell_type": "code",
   "execution_count": null,
   "id": "d69c446f-75d6-4083-bce5-f216f86d0f2e",
   "metadata": {
    "tags": []
   },
   "outputs": [],
   "source": [
    "np.random.seed(0)  # seed for reproducibility\n",
    "\n",
    "x1 = np.random.randint(100, size=100)  # One-dimensional array\n",
    "x2 = np.random.randint(10, size=(10, 10))  # Two-dimensional array\n",
    "x3 = np.random.randint(10, size=(3, 4, 5))  # Three-dimensional array"
   ]
  },
  {
   "cell_type": "code",
   "execution_count": null,
   "id": "19a3f45f-e3df-495c-ae12-5f7367600b15",
   "metadata": {
    "tags": []
   },
   "outputs": [],
   "source": [
    "x2.size"
   ]
  },
  {
   "cell_type": "code",
   "execution_count": null,
   "id": "31a95cad-a4d0-4a43-a218-7763a8e5f3f5",
   "metadata": {
    "tags": []
   },
   "outputs": [],
   "source": [
    "x2"
   ]
  },
  {
   "cell_type": "code",
   "execution_count": null,
   "id": "0c6148d2-c488-4f0f-ae7b-380374ea4975",
   "metadata": {
    "tags": []
   },
   "outputs": [],
   "source": [
    "print(\"x1 ndim: \", x1.ndim)\n",
    "print(\"x1 shape:\", x1.shape)\n",
    "print(\"x1 size: \", x1.size)"
   ]
  },
  {
   "cell_type": "code",
   "execution_count": null,
   "id": "ed72f885-84d6-4f23-b039-a16f8fc0562b",
   "metadata": {
    "tags": []
   },
   "outputs": [],
   "source": [
    "x1"
   ]
  },
  {
   "cell_type": "code",
   "execution_count": null,
   "id": "27631188-1edd-47e8-a2e1-a51872f78d08",
   "metadata": {
    "tags": []
   },
   "outputs": [],
   "source": [
    "# we want to access the first element of the vector x1\n",
    "# We use an index (counting start from 0)\n",
    "x1[0]"
   ]
  },
  {
   "cell_type": "code",
   "execution_count": null,
   "id": "6e45c7c5-216a-4dc4-a908-2b232aa7d963",
   "metadata": {
    "tags": []
   },
   "outputs": [],
   "source": [
    "# we want to access the third element\n",
    "x1[2]"
   ]
  },
  {
   "cell_type": "code",
   "execution_count": null,
   "id": "a16f9bfe-ad37-43db-837b-86b1eabd4a01",
   "metadata": {},
   "outputs": [],
   "source": [
    "# with negative numbers we start from the bottom of the vector\n",
    "x1[-1]"
   ]
  },
  {
   "cell_type": "code",
   "execution_count": null,
   "id": "bd532d67-a173-42a4-a03c-b8985da11738",
   "metadata": {
    "tags": []
   },
   "outputs": [],
   "source": [
    "x1[-2]"
   ]
  },
  {
   "cell_type": "code",
   "execution_count": null,
   "id": "bcfc8d36-2ef9-48bc-b806-dc5426c151a3",
   "metadata": {
    "tags": []
   },
   "outputs": [],
   "source": [
    "# what if we have a matrix?\n",
    "x2"
   ]
  },
  {
   "cell_type": "code",
   "execution_count": null,
   "id": "8782c5ab-a53c-4ae7-b6db-ce01b387771b",
   "metadata": {
    "tags": []
   },
   "outputs": [],
   "source": [
    "print (x2[0,0], x2[0,1], x2[1,0], x2[1,1])\n",
    "# the first index is the ROW number, the second is the column number.\n",
    "# STARTING FROM 0"
   ]
  },
  {
   "cell_type": "code",
   "execution_count": null,
   "id": "d0e88021-3c1e-4572-8646-875096419554",
   "metadata": {},
   "outputs": [],
   "source": []
  },
  {
   "cell_type": "code",
   "execution_count": null,
   "id": "14a8f9c8-604a-41be-bedf-df764a268b2f",
   "metadata": {
    "tags": []
   },
   "outputs": [],
   "source": [
    "# We can also MODIFY a specific element\n",
    "x2"
   ]
  },
  {
   "cell_type": "code",
   "execution_count": null,
   "id": "cb7434fd-9434-4cf4-b6e2-a0ae68fbe125",
   "metadata": {
    "tags": []
   },
   "outputs": [],
   "source": [
    "x2[2,1] = 12\n",
    "x2"
   ]
  },
  {
   "cell_type": "code",
   "execution_count": null,
   "id": "528500de-185d-43c1-b537-7ccf3aa3d32d",
   "metadata": {},
   "outputs": [],
   "source": []
  },
  {
   "cell_type": "code",
   "execution_count": null,
   "id": "f4cb183e-291d-48e0-992e-8bceed3e420d",
   "metadata": {},
   "outputs": [],
   "source": []
  },
  {
   "cell_type": "markdown",
   "id": "c94e1a70-ad99-4c51-9b29-c5d663423ef5",
   "metadata": {},
   "source": [
    "# NOW YOU TRY IT\n",
    "- Create a matrix (10,10) of natural integers between 0 and 10 and set 4 in the second row, third column"
   ]
  },
  {
   "cell_type": "code",
   "execution_count": null,
   "id": "f6b7faf7-ed64-4b58-b850-0a9a26d133a8",
   "metadata": {},
   "outputs": [],
   "source": []
  },
  {
   "cell_type": "code",
   "execution_count": null,
   "id": "c240a9c7-314e-4377-8528-dc54b717a9ac",
   "metadata": {},
   "outputs": [],
   "source": []
  },
  {
   "cell_type": "markdown",
   "id": "1067c57b-67e1-41f2-a8f8-0bf390f24e21",
   "metadata": {},
   "source": [
    "## Array Slicing: we extract sub-arrays from an array"
   ]
  },
  {
   "cell_type": "markdown",
   "id": "9ed6c885-638c-4333-9457-ffa4bbe0c85e",
   "metadata": {},
   "source": [
    "Just as we can use square brackets to access individual array elements, we can also use them to access subarrays with the notation **SLICE**, denoted by the colon character (``:``).\n",
    "To use the slice in an ``x1`` array, the command is:\n",
    "``` python\n",
    "x[start:stop:step]\n",
    "```\n",
    "If one of these is not specified, the values ``start=0``, ``stop=``*``array size``*, ``step=1`` are set by default."
   ]
  },
  {
   "cell_type": "code",
   "execution_count": null,
   "id": "4adc7567-982f-48de-bcdb-ae34dbb33770",
   "metadata": {
    "tags": []
   },
   "outputs": [],
   "source": [
    "x5 = np.arange(0,101)\n",
    "x5"
   ]
  },
  {
   "cell_type": "code",
   "execution_count": null,
   "id": "363eebce-82b8-44ee-acfc-76467db8a285",
   "metadata": {
    "tags": []
   },
   "outputs": [],
   "source": [
    "# we extract positions from 3 to 10 (remember the array starts from 0)\n",
    "x5[2:10]"
   ]
  },
  {
   "cell_type": "code",
   "execution_count": null,
   "id": "6549ee0b-1323-4b1e-a146-f644716696ff",
   "metadata": {
    "tags": []
   },
   "outputs": [],
   "source": [
    "# from position 2 to the end (after the : I don't specify anything so by default\n",
    "# is the end of the vector)\n",
    "x5[3:]"
   ]
  },
  {
   "cell_type": "code",
   "execution_count": null,
   "id": "b40e6fa0-6fd8-4c7c-8db7-73e993ede0ff",
   "metadata": {
    "tags": []
   },
   "outputs": [],
   "source": [
    "# I extract the elements from position 90 to the end\n",
    "x5[-10:]"
   ]
  },
  {
   "cell_type": "code",
   "execution_count": null,
   "id": "5db51eac-79f3-4c53-a26f-8c9adf60a9be",
   "metadata": {
    "tags": []
   },
   "outputs": [],
   "source": [
    "# I extract the elements with even positions\n",
    "# note I omit the number indicating stop and have two consecutive points\n",
    "x5[0::2]"
   ]
  },
  {
   "cell_type": "markdown",
   "id": "6ed26eff-5868-4022-b958-68b85192c547",
   "metadata": {},
   "source": [
    "# when the step is NEGATIVE the start and stop are exchanged"
   ]
  },
  {
   "cell_type": "code",
   "execution_count": null,
   "id": "f81ab01e-ce68-46ac-9c77-1f3f065a7d7d",
   "metadata": {
    "tags": []
   },
   "outputs": [],
   "source": [
    "x5[10:1:-1]"
   ]
  },
  {
   "cell_type": "markdown",
   "id": "bab085a6-0e9f-4973-b234-91fae76ac049",
   "metadata": {},
   "source": [
    "# NOW YOU TRY IT\n",
    "- extract from x5 the values between indices 30 and 50\n",
    "- extract the first 20 values from x5\n",
    "- extract the last 40 values from x5\n",
    "- reverse x5 array (print last number first until first)"
   ]
  },
  {
   "cell_type": "code",
   "execution_count": null,
   "id": "9504aa2b-77a5-43a1-b88e-255ffd38cad8",
   "metadata": {},
   "outputs": [],
   "source": []
  },
  {
   "cell_type": "markdown",
   "id": "cbcbed37-d639-4305-bc8b-e98b81bcb23b",
   "metadata": {},
   "source": [
    "# Let's see with the MATRIX"
   ]
  },
  {
   "cell_type": "code",
   "execution_count": null,
   "id": "fc31ac2e-4170-4406-ab0e-aa5a83b343af",
   "metadata": {
    "tags": []
   },
   "outputs": [],
   "source": [
    "x2"
   ]
  },
  {
   "cell_type": "code",
   "execution_count": null,
   "id": "1b061825-7fac-4d24-bc36-6f0a3eebf79d",
   "metadata": {
    "tags": []
   },
   "outputs": [],
   "source": [
    "# filter rows from 2 to 4 and columns from 3 to 5\n",
    "x2[1:3,2:4]"
   ]
  },
  {
   "cell_type": "code",
   "execution_count": null,
   "id": "5cf9b4ab-576d-48ec-adff-3cdde246b521",
   "metadata": {
    "tags": []
   },
   "outputs": [],
   "source": [
    "# I extract the third line\n",
    "x2[2,:]"
   ]
  },
  {
   "cell_type": "code",
   "execution_count": null,
   "id": "2d97ac3c-4f0e-4389-8dcd-c6601ee87a5b",
   "metadata": {
    "tags": []
   },
   "outputs": [],
   "source": [
    "# from the second column I extract the elements between the third and fifth rows\n",
    "x2[2:5,1]"
   ]
  },
  {
   "cell_type": "code",
   "execution_count": null,
   "id": "f6993766-55d0-41e5-9717-6430dcd3b6ba",
   "metadata": {
    "tags": []
   },
   "outputs": [],
   "source": [
    "# I extract the first three lines\n",
    "x2[:3,:]"
   ]
  },
  {
   "cell_type": "code",
   "execution_count": null,
   "id": "3c87b90b-50a9-4e2d-80fd-7955c69138f5",
   "metadata": {
    "tags": []
   },
   "outputs": [],
   "source": [
    "# I extract the last three columns\n",
    "x2[:,-3:]"
   ]
  },
  {
   "cell_type": "markdown",
   "id": "0f0dfd14-eafd-4687-b4e1-509fc4566886",
   "metadata": {},
   "source": [
    "# NB: slicing extracts views of the original matrix and data changes are made directly on the matrix"
   ]
  },
  {
   "cell_type": "code",
   "execution_count": null,
   "id": "9e2540ec-5ec1-41e1-be22-643a2c17b527",
   "metadata": {
    "tags": []
   },
   "outputs": [],
   "source": [
    "x2"
   ]
  },
  {
   "cell_type": "code",
   "execution_count": null,
   "id": "f9e90e80-e4d3-4620-abe5-959428a690c2",
   "metadata": {
    "tags": []
   },
   "outputs": [],
   "source": [
    "x2[:3,:]"
   ]
  },
  {
   "cell_type": "code",
   "execution_count": null,
   "id": "415e3545-c413-440c-aaf4-0fcf190e6849",
   "metadata": {},
   "outputs": [],
   "source": []
  },
  {
   "cell_type": "code",
   "execution_count": null,
   "id": "f9d500d7-989d-4ee3-bb1a-354347f54006",
   "metadata": {
    "tags": []
   },
   "outputs": [],
   "source": [
    "sub_x2 = x2[:3,:]\n",
    "sub_x2"
   ]
  },
  {
   "cell_type": "code",
   "execution_count": null,
   "id": "e04ab240-6d6f-4f8a-ab8a-03178add2cd9",
   "metadata": {
    "tags": []
   },
   "outputs": [],
   "source": [
    "sub_x2"
   ]
  },
  {
   "cell_type": "code",
   "execution_count": null,
   "id": "996dcb86-7a01-459f-b894-681e7e743260",
   "metadata": {
    "tags": []
   },
   "outputs": [],
   "source": [
    "sub_x2[2,2]=3\n",
    "sub_x2"
   ]
  },
  {
   "cell_type": "markdown",
   "id": "eb36782b-13ab-4ab0-9067-39482e8094ef",
   "metadata": {},
   "source": [
    "# we observe that the modification is also on the original x2 matrix"
   ]
  },
  {
   "cell_type": "code",
   "execution_count": null,
   "id": "2de7e4b9-aa3c-4b27-bbac-cff44b82c1c6",
   "metadata": {
    "tags": []
   },
   "outputs": [],
   "source": [
    "\n",
    "x2"
   ]
  },
  {
   "cell_type": "markdown",
   "id": "8f4c2e29-1cda-463f-b1fb-0e0ffef2020b",
   "metadata": {},
   "source": [
    "# Now you try\n",
    "- extract from x2 the elements between the fourth and seventh rows and between the fifth and eighth columns\n",
    "- extract the first 6 columns of the matrix\n",
    "- extract the last 4 rows of the matrix\n",
    "- extract the element in position (4,3)\n",
    "- modify the element (7,4) by inserting the number 4"
   ]
  },
  {
   "cell_type": "code",
   "execution_count": null,
   "id": "8de74266-011e-49ab-9ae4-8e0f1ab8c133",
   "metadata": {},
   "outputs": [],
   "source": []
  },
  {
   "cell_type": "markdown",
   "id": "2ad4fed3-e4e6-4958-978e-ec5d9e931998",
   "metadata": {},
   "source": [
    "# Elements of matrix algebra"
   ]
  },
  {
   "cell_type": "markdown",
   "id": "10ea29a0-819b-4da0-9e54-f2784aa1a9bd",
   "metadata": {},
   "source": [
    "Recall that for vectors (one-dimensional arrays) the sum, difference and scalar product operations are defined thanks to the operators * and -"
   ]
  },
  {
   "cell_type": "code",
   "execution_count": null,
   "id": "3713e32b-fdde-4652-8f29-bcfa5dacaa0f",
   "metadata": {
    "tags": []
   },
   "outputs": [],
   "source": [
    "a = np.array([1,2,3,4])\n",
    "b = np.array([5,6,7,8])\n",
    "c = a + b\n",
    "d = 2*a\n",
    "print(c)\n",
    "print(d)"
   ]
  },
  {
   "cell_type": "code",
   "execution_count": null,
   "id": "30da7f64-cb6e-4730-a338-8b1a797a09bf",
   "metadata": {},
   "outputs": [],
   "source": []
  },
  {
   "cell_type": "markdown",
   "id": "13c04bfc-a964-43c9-9205-615db477b6d0",
   "metadata": {},
   "source": [
    "Now let's look at the matrices"
   ]
  },
  {
   "cell_type": "markdown",
   "id": "382a5f3f-41e7-4b0d-847d-d1203a4e650b",
   "metadata": {},
   "source": [
    "The addition operation between matrices is defined as in the following figure\n",
    "This type of sum is called **element-wise**, i.e. sum element by element\n",
    "<img src=\"images/summatrix.gif\">\n",
    "\n",
    "\n",
    "\n",
    "https://github.com/pal-dev-labs/Python-for-Economic-Applications/blob/main/Images/summatrix.gif"
   ]
  },
  {
   "cell_type": "code",
   "execution_count": null,
   "id": "ef427abf-c128-4b9b-b737-441a89e44510",
   "metadata": {
    "tags": []
   },
   "outputs": [],
   "source": [
    "# We use + for the sum between matrices\n",
    "\n",
    "A = np.array([[2, 5], [4, -2], [-1, 7]])\n",
    "B = np.array([[1, -1], [3, 2], [2, -4]])\n",
    "C = A + B      # element wise addition\n",
    "print(A)\n",
    "print(B)\n",
    "print(C)"
   ]
  },
  {
   "cell_type": "markdown",
   "id": "ce37d3b7-424e-4709-87bf-091f1de4ce2d",
   "metadata": {},
   "source": [
    "Let's now look at the product of a matrix and a scalar.\n",
    "Recall that the operation is defined as\n",
    "\n",
    "<img src=\"images/scalaxmatrix.png\">"
   ]
  },
  {
   "cell_type": "code",
   "execution_count": null,
   "id": "aa233c8c-4528-4aff-b314-3750fe5d10ea",
   "metadata": {
    "tags": []
   },
   "outputs": [],
   "source": [
    "# We use + for the sum between matrices\n",
    "\n",
    "A = np.array([[2, 1], [-5, 2], [-9, 8]])\n",
    "C = 2*A      \n",
    "print(C)"
   ]
  },
  {
   "cell_type": "markdown",
   "id": "e9017f7b-f104-430f-bc49-df0a88f896d9",
   "metadata": {},
   "source": [
    "# Scalar product between two vectors\n",
    "Recall that the dot product between $\\vec A$ and $\\vec B$ is defined as\n",
    "\n",
    "<img src=\"images/scalar product.png\">\n",
    "\n",
    "\n",
    "\n",
    "https://github.com/pal-dev-labs/Python-for-Economic-Applications/blob/main/Images/scalar%20product.png\n"
   ]
  },
  {
   "cell_type": "markdown",
   "id": "779c91ab-0c8b-4558-9cc1-8567937519cf",
   "metadata": {},
   "source": [
    "Let's see how to implement it in Python"
   ]
  },
  {
   "cell_type": "code",
   "execution_count": null,
   "id": "80418f88-86ae-4561-988d-08271d7ba835",
   "metadata": {
    "tags": []
   },
   "outputs": [],
   "source": [
    "a = np.array([1,1,1,1])\n",
    "b = np.array([1,2,3,4])\n",
    "c = np.dot(a,b)\n",
    "d = a @ b\n",
    "print(c)\n",
    "print(d)"
   ]
  },
  {
   "cell_type": "markdown",
   "id": "b1c87ea9-b1fb-498b-acca-ab5a6e10c7de",
   "metadata": {},
   "source": [
    "# Now you try\n",
    "- Add two (3,3) matrices of random integers\n",
    "- Multiply a (5,3) matrix of random integers by 5\n",
    "- Perform the following operations X = 2 * A - 5 * B where A is a (5,3) matrix containing all 4s and B is a (5,3) matrix containing all 2s\n",
    "- Calculate the dot product between $ \\vec x$ = (2,3,4) and $\\vec y$ = (-2,1,5)"
   ]
  },
  {
   "cell_type": "code",
   "execution_count": null,
   "id": "010d623a-3c95-4f5e-af59-8abd93b9db8e",
   "metadata": {},
   "outputs": [],
   "source": []
  },
  {
   "cell_type": "markdown",
   "id": "ab394743-651a-4e14-a188-8a14d094536d",
   "metadata": {},
   "source": [
    "# Matrix Product\n",
    "Let's look at the product between matrices. The operation is defined as in the following figure\n",
    "\n",
    "<img src=\"images/prodottomat1.gif\">\n",
    "\n",
    "<img src=\"images/prodottomat2.png\">\n",
    "\n",
    "https://github.com/pal-dev-labs/Python-for-Economic-Applications/blob/main/Images/prodottomat1.gif\n",
    "\n",
    "https://github.com/pal-dev-labs/Python-for-Economic-Applications/blob/main/Images/prodottomat2.png\n",
    "\n",
    "\n",
    "\n",
    "We note that in order to carry out the product it is necessary for the first matrix to be (n,l) and the second matrix to be (l,m). The result is a matrix (n,m)"
   ]
  },
  {
   "cell_type": "code",
   "execution_count": null,
   "id": "f49be0c5-dbca-4f5c-b6ab-92da46ccdc39",
   "metadata": {},
   "outputs": [],
   "source": []
  },
  {
   "cell_type": "code",
   "execution_count": null,
   "id": "e62f13af-5a74-4d5b-811a-6f71bd2a4e29",
   "metadata": {
    "tags": []
   },
   "outputs": [],
   "source": [
    "# We use + for the sum between matrices\n",
    "\n",
    "A = np.array([[1, 2], [3, 4]])\n",
    "B = np.array([[5, 6], [7, 8]])\n",
    "C = np.dot(A,B)      # element wise addition\n",
    "D = A @ B\n",
    "print(A)\n",
    "print(B)\n",
    "print(C)\n",
    "print(D)"
   ]
  },
  {
   "cell_type": "code",
   "execution_count": null,
   "id": "f62ad802-ed95-4afb-96ba-266ba8bcd0a2",
   "metadata": {
    "tags": []
   },
   "outputs": [],
   "source": [
    "A = np.array([[1, 2, 3], [4, 5, 6]])\n",
    "B = np.array([[1], [1], [1]])\n",
    "C = A @ B     # element wise addition\n",
    "print(A)\n",
    "print(B)\n",
    "print(C)"
   ]
  },
  {
   "cell_type": "markdown",
   "id": "3d3dadbb-92ee-44bb-99f3-47915ed333d7",
   "metadata": {},
   "source": [
    "Let us now look at the determinant of a matrix which is defined as\n",
    "\n",
    "<img src=\"images/det2x2.png\">\n",
    "\n",
    "\n",
    "https://github.com/pal-dev-labs/Python-for-Economic-Applications/blob/main/Images/det2x2.png\n",
    "\n",
    "\n"
   ]
  },
  {
   "cell_type": "markdown",
   "id": "20715474-4563-42d8-bcc0-29d5f6395ce3",
   "metadata": {},
   "source": [
    "Let's try to calculate it in Python"
   ]
  },
  {
   "cell_type": "code",
   "execution_count": null,
   "id": "a4b30db7-ddd3-4262-a84f-bcb250976711",
   "metadata": {
    "tags": []
   },
   "outputs": [],
   "source": [
    "A = np.array([[-5, 3], [-1, 7]])\n",
    "det =  np.linalg.det(A)  # we use the submodule linalg\n",
    "print(A)\n",
    "print (det)"
   ]
  },
  {
   "cell_type": "code",
   "execution_count": null,
   "id": "82cbd31f-d063-42f8-82af-c101fbadf02f",
   "metadata": {},
   "outputs": [],
   "source": []
  },
  {
   "cell_type": "code",
   "execution_count": null,
   "id": "cb05b1fd-b078-424a-9064-f0ead4ecac0d",
   "metadata": {
    "tags": []
   },
   "outputs": [],
   "source": [
    "# let's see for a 4x4 matrix\n",
    "\n",
    "A = np.array([[-5, 3, 2, 7], [-1, 7, 4, 5], [-3, 0, 5, 4], [4, 6, 7, -3]])\n",
    "det =  np.linalg.det(A)\n",
    "print(A)\n",
    "print (det)"
   ]
  },
  {
   "cell_type": "markdown",
   "id": "1231a990-3370-4a33-9676-de140e00e190",
   "metadata": {},
   "source": [
    "# Now you try\n",
    "- Calculate the matrix C which is the product between the matrix A of dimension (4,3) and the matrix B of dimension (3,4). A and B are two matrices of random integers\n",
    "- Calculate the determinant of the matrix C"
   ]
  },
  {
   "cell_type": "markdown",
   "id": "2d9570af-00d4-469c-b81f-a2a2cb08901a",
   "metadata": {},
   "source": [
    "## COMPARISONS"
   ]
  },
  {
   "cell_type": "markdown",
   "id": "6aebe637-6545-4fb5-9712-eac81cb4ffba",
   "metadata": {},
   "source": [
    "In NumPy, you can perform various types of comparisons between arrays, such as element-wise comparisons, scalar comparisons, and more complex logical operations. Here are a few examples of comparisons using NumPy"
   ]
  },
  {
   "cell_type": "markdown",
   "id": "bf1eeb62-ae97-4063-bf61-ee943c4fc872",
   "metadata": {},
   "source": [
    "## 1) Element-wise Comparison\n",
    "You can compare two NumPy arrays element by element using comparison operators (==, !=, <, >, <=, >=).  \n",
    "\n",
    "### Example: Element-wise equality comparison"
   ]
  },
  {
   "cell_type": "code",
   "execution_count": null,
   "id": "2d569e67-1337-4113-808a-3d799476eeeb",
   "metadata": {},
   "outputs": [],
   "source": [
    "# Create two arrays\n",
    "a = np.array([1, 2, 3, 4])\n",
    "b = np.array([1, 3, 3, 5])\n",
    "\n",
    "# Element-wise comparison\n",
    "result = a == b\n",
    "print(result)  \n"
   ]
  },
  {
   "cell_type": "code",
   "execution_count": null,
   "id": "a6f38b3e-b2b5-4bab-bd37-2808c815e5f1",
   "metadata": {},
   "outputs": [],
   "source": [
    "type(result)"
   ]
  },
  {
   "cell_type": "markdown",
   "id": "7075532f-392c-4b03-86cf-eb87741f7776",
   "metadata": {},
   "source": [
    "Here, a == b compares each corresponding element of the arrays a and b. It returns an array of True or False based on whether the elements are equal."
   ]
  },
  {
   "cell_type": "markdown",
   "id": "e3e898a8-2cd8-47f5-b34c-6a5d908f1b57",
   "metadata": {},
   "source": [
    "### Example: Element-wise greater than comparison"
   ]
  },
  {
   "cell_type": "code",
   "execution_count": null,
   "id": "65b7fb84-30b8-4cc4-9dd7-139fee6c6ad9",
   "metadata": {},
   "outputs": [],
   "source": [
    "result = a > b\n",
    "print(result) \n"
   ]
  },
  {
   "cell_type": "markdown",
   "id": "9eef5bda-6b3d-417f-93e3-85099706651b",
   "metadata": {},
   "source": [
    "This compares each element of a with the corresponding element of b and returns True if the element in a is greater, otherwise False."
   ]
  },
  {
   "cell_type": "markdown",
   "id": "f88d2168-2f86-45bc-bc74-a719bb0e18a2",
   "metadata": {},
   "source": [
    "## 2) Scalar Comparison with an Array\n",
    "You can compare a scalar value with every element in an array.\n",
    "\n",
    "### Example: Comparison with a scalar"
   ]
  },
  {
   "cell_type": "code",
   "execution_count": null,
   "id": "d7b41c8b-d39b-4879-b723-83b65b2637ee",
   "metadata": {},
   "outputs": [],
   "source": [
    "result = a > 2\n",
    "print(result) \n"
   ]
  },
  {
   "cell_type": "markdown",
   "id": "d2a5f07a-d2af-4fd4-ac34-003e4d40aeb5",
   "metadata": {},
   "source": [
    "## 3) Logical Operations on Arrays\n",
    "NumPy also allows you to combine multiple comparisons using logical operators (&, |, ~, etc.).\n",
    "\n",
    "### Example: Combining comparisons with logical AND (&)"
   ]
  },
  {
   "cell_type": "code",
   "execution_count": null,
   "id": "09ac51d2-1e0f-4d3a-b1a8-1cf9216af08c",
   "metadata": {},
   "outputs": [],
   "source": [
    "result = (a > 2) & (b < 5)\n",
    "print(result)  \n"
   ]
  },
  {
   "cell_type": "markdown",
   "id": "e9ced586-cb8c-449e-ab8a-1beff0c786ac",
   "metadata": {},
   "source": [
    "Here, the expression (a > 2) and (b < 5) are combined with the logical AND operator &. The result is True only if both conditions are True for each element.\n",
    "\n",
    "### Example: Logical OR (|)"
   ]
  },
  {
   "cell_type": "code",
   "execution_count": null,
   "id": "9f9474dc-da42-47d8-a9f2-d6a8c89421b0",
   "metadata": {},
   "outputs": [],
   "source": [
    "result = (a < 3) | (b > 3)\n",
    "print(result)  \n"
   ]
  },
  {
   "cell_type": "markdown",
   "id": "5094cbff-7e9c-4f9a-a621-bcb090a77113",
   "metadata": {},
   "source": [
    "## 4) Checking for NaN values\n",
    "You can check if elements are NaN (Not a Number) using np.isnan().\n",
    "\n",
    "### Example: Checking for NaN values"
   ]
  },
  {
   "cell_type": "code",
   "execution_count": null,
   "id": "1a9dd7cc-ac5a-43c3-b278-f5e269ccce64",
   "metadata": {},
   "outputs": [],
   "source": [
    "c = np.array([1.0, np.nan, 2.0, np.nan])\n",
    "\n",
    "result = np.isnan(c)\n",
    "print(result)  \n"
   ]
  }
 ],
 "metadata": {
  "hide_input": false,
  "kernelspec": {
   "display_name": "Python 3 (ipykernel)",
   "language": "python",
   "name": "python3"
  },
  "language_info": {
   "codemirror_mode": {
    "name": "ipython",
    "version": 3
   },
   "file_extension": ".py",
   "mimetype": "text/x-python",
   "name": "python",
   "nbconvert_exporter": "python",
   "pygments_lexer": "ipython3",
   "version": "3.12.4"
  },
  "varInspector": {
   "cols": {
    "lenName": 16,
    "lenType": 16,
    "lenVar": 40
   },
   "kernels_config": {
    "python": {
     "delete_cmd_postfix": "",
     "delete_cmd_prefix": "del ",
     "library": "var_list.py",
     "varRefreshCmd": "print(var_dic_list())"
    },
    "r": {
     "delete_cmd_postfix": ") ",
     "delete_cmd_prefix": "rm(",
     "library": "var_list.r",
     "varRefreshCmd": "cat(var_dic_list()) "
    }
   },
   "types_to_exclude": [
    "module",
    "function",
    "builtin_function_or_method",
    "instance",
    "_Feature"
   ],
   "window_display": false
  }
 },
 "nbformat": 4,
 "nbformat_minor": 5
}
