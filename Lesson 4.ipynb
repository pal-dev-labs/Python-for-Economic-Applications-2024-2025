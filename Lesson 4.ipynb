{
 "cells": [
  {
   "cell_type": "markdown",
   "id": "fbc15994-e9f1-467a-857b-276c48be94b7",
   "metadata": {},
   "source": [
    "# MORE ON NUMPY"
   ]
  },
  {
   "cell_type": "markdown",
   "id": "0b186227-5ce9-4120-874f-68f482c09601",
   "metadata": {},
   "source": [
    "## COMPARISONS BETWEEN ARRAYS"
   ]
  },
  {
   "cell_type": "code",
   "execution_count": null,
   "id": "5b8bfe92-0f8a-4ae7-8372-1a0e05db3f3a",
   "metadata": {},
   "outputs": [],
   "source": []
  },
  {
   "cell_type": "markdown",
   "id": "1cddbbec-a416-427d-a1b5-54ad95b10f6c",
   "metadata": {},
   "source": [
    "In NumPy, you can perform various types of comparisons between arrays, such as element-wise comparisons, scalar comparisons, and more complex logical operations. Here are a few examples of comparisons using NumPy"
   ]
  },
  {
   "cell_type": "markdown",
   "id": "cce5f750-e26e-471e-be69-268a50e93b87",
   "metadata": {},
   "source": [
    "## 1) Element-wise Comparison\n",
    "You can compare two NumPy arrays element by element using comparison operators (==, !=, <, >, <=, >=).  \n",
    "\n",
    "### Example: Element-wise equality comparison"
   ]
  },
  {
   "cell_type": "code",
   "execution_count": null,
   "id": "f0b87e06-a0a6-453f-a728-1b3a330dadcb",
   "metadata": {},
   "outputs": [],
   "source": [
    "import numpy as np\n",
    "# Create two arrays\n",
    "a = np.array([1, 2, 3, 4])\n",
    "b = np.array([1, 3, 3, 5])\n",
    "\n",
    "# Element-wise comparison\n",
    "result = a == b\n",
    "print(result)  \n"
   ]
  },
  {
   "cell_type": "markdown",
   "id": "e5cd6c80-3d69-4b61-a2ee-3fcd20f7dc50",
   "metadata": {},
   "source": [
    "Here, a == b compares each corresponding element of the arrays a and b. It returns an array of True or False based on whether the elements are equal."
   ]
  },
  {
   "cell_type": "markdown",
   "id": "05c6d61b-8456-4203-87f7-3e9209fd8897",
   "metadata": {},
   "source": [
    "### Example: Element-wise greater than comparison"
   ]
  },
  {
   "cell_type": "code",
   "execution_count": null,
   "id": "7f23dbad-808a-4eaa-99e6-dbe484e5ce29",
   "metadata": {},
   "outputs": [],
   "source": [
    "result = a > b\n",
    "print(result) \n"
   ]
  },
  {
   "cell_type": "code",
   "execution_count": null,
   "id": "9de44c1e-55a2-4960-9906-0c4a77bf9cd6",
   "metadata": {},
   "outputs": [],
   "source": []
  },
  {
   "cell_type": "markdown",
   "id": "1262abcc-01bf-45c9-a84e-399592c98f3a",
   "metadata": {},
   "source": [
    "This compares each element of a with the corresponding element of b and returns True if the element in a is greater, otherwise False."
   ]
  },
  {
   "cell_type": "markdown",
   "id": "25d112be-88e2-48e4-b9a1-22852486096f",
   "metadata": {},
   "source": [
    "## 2) Scalar Comparison with an Array\n",
    "You can compare a scalar value with every element in an array.\n",
    "\n",
    "### Example: Comparison with a scalar"
   ]
  },
  {
   "cell_type": "code",
   "execution_count": null,
   "id": "8124d9c1-c7b9-4ce1-9f9b-ca7ab547dd0b",
   "metadata": {},
   "outputs": [],
   "source": [
    "result = a > 2\n",
    "print(result) \n"
   ]
  },
  {
   "cell_type": "markdown",
   "id": "594f2bbf-774d-4b11-a411-1c76bf0cd9a2",
   "metadata": {},
   "source": [
    "## 3) Logical Operations on Arrays\n",
    "NumPy also allows you to combine multiple comparisons using logical operators (&, |, ~, etc.).\n",
    "\n",
    "### Example: Combining comparisons with logical AND (&)"
   ]
  },
  {
   "cell_type": "code",
   "execution_count": null,
   "id": "29cfe3d8-e660-4ded-98dc-be4c231ef3b0",
   "metadata": {},
   "outputs": [],
   "source": [
    "result = (a > 2) & (b < 5)\n",
    "print(result)  \n"
   ]
  },
  {
   "cell_type": "markdown",
   "id": "0ebd3d57-b07f-4ea4-8837-bea7d687c74d",
   "metadata": {},
   "source": [
    "Here, the expression (a > 2) and (b < 5) are combined with the logical AND operator &. The result is True only if both conditions are True for each element.\n",
    "\n",
    "### Example: Logical OR (|)"
   ]
  },
  {
   "cell_type": "code",
   "execution_count": null,
   "id": "f92eb48c-88fe-4843-baaf-3abb5773a4a2",
   "metadata": {},
   "outputs": [],
   "source": [
    "result = (a < 3) | (b > 3)\n",
    "print(result)  \n"
   ]
  },
  {
   "cell_type": "code",
   "execution_count": null,
   "id": "b698a175-13cc-4c52-a51c-ab65b9c1668c",
   "metadata": {},
   "outputs": [],
   "source": []
  },
  {
   "cell_type": "markdown",
   "id": "b97803b0-567e-48b4-a420-5c117838683c",
   "metadata": {},
   "source": [
    "## BOOLEAN MASKING"
   ]
  },
  {
   "cell_type": "markdown",
   "id": "1423c58c-052f-497d-ae5c-eae50d4503ad",
   "metadata": {},
   "source": [
    "### Filtering on 1-dim array"
   ]
  },
  {
   "cell_type": "code",
   "execution_count": null,
   "id": "021a5902-1071-4a6f-a080-8bf635c1c683",
   "metadata": {},
   "outputs": [],
   "source": [
    "\n",
    "# Create a 1D array of random integers between 1 and 50\n",
    "np.random.seed(0)\n",
    "random_array = np.random.randint(1, 51, size=20)\n",
    "print(random_array)"
   ]
  },
  {
   "cell_type": "code",
   "execution_count": null,
   "id": "f75a4bd1-30f8-46c0-a8a2-c599e6a5de5d",
   "metadata": {},
   "outputs": [],
   "source": []
  },
  {
   "cell_type": "code",
   "execution_count": null,
   "id": "acb4eddc-c6aa-444a-9666-e159010ea849",
   "metadata": {},
   "outputs": [],
   "source": [
    "compare = random_array <= 25\n",
    "print(compare)"
   ]
  },
  {
   "cell_type": "code",
   "execution_count": null,
   "id": "8d5ec00e-fbfe-4b03-b43b-31d534ecfe1d",
   "metadata": {},
   "outputs": [],
   "source": [
    "# Apply boolean masking to filter out all values greater than 25\n",
    "filtered_array = random_array[compare]\n"
   ]
  },
  {
   "cell_type": "code",
   "execution_count": null,
   "id": "f064533e-e104-4adc-b76e-8dd4533b84fe",
   "metadata": {},
   "outputs": [],
   "source": []
  },
  {
   "cell_type": "code",
   "execution_count": null,
   "id": "6cbee43b-09eb-4324-ac86-d0e182283f0a",
   "metadata": {},
   "outputs": [],
   "source": [
    "# Print the original and filtered arrays\n",
    "print(\"Original Array:\", random_array)\n",
    "print(\"Filtered Array (values <= 25):\", filtered_array)"
   ]
  },
  {
   "cell_type": "code",
   "execution_count": null,
   "id": "7988097d-a70e-4d38-8bc7-be0d440989b5",
   "metadata": {},
   "outputs": [],
   "source": [
    "# we can use the short notation\n",
    "filtered_array = random_array[random_array <= 4]\n",
    "print(filtered_array)"
   ]
  },
  {
   "cell_type": "markdown",
   "id": "b6999fe6-c7a4-43bb-b391-9aed002d1650",
   "metadata": {},
   "source": [
    "### Filtering on matrices and tensors"
   ]
  },
  {
   "cell_type": "markdown",
   "id": "780ca8b9-c6ad-4747-b90b-98213832dff5",
   "metadata": {},
   "source": [
    "Suppose we have the daily stock prices of 10 shares"
   ]
  },
  {
   "cell_type": "code",
   "execution_count": null,
   "id": "d938490e-77e8-454a-997c-4ccb6b2bf537",
   "metadata": {},
   "outputs": [],
   "source": [
    "np.random.seed(0)\n",
    "# Simulate daily stock prices for 10 stocks over 30 days\n",
    "# Assume stock prices range from $50 to $150\n",
    "stock_prices = np.random.uniform(50, 150, (10, 30))\n",
    "print(stock_prices)"
   ]
  },
  {
   "cell_type": "code",
   "execution_count": null,
   "id": "796cfc21-a755-4f43-84c2-dc322bf92a68",
   "metadata": {},
   "outputs": [],
   "source": [
    "# I want to extract prices between 90 and 120\n",
    "filter2 = (stock_prices <= 90) & (stock_prices < 120)\n",
    "filter2"
   ]
  },
  {
   "cell_type": "code",
   "execution_count": null,
   "id": "c2db3950-79da-4b4a-a14c-f61426bd8f72",
   "metadata": {},
   "outputs": [],
   "source": [
    "# we can use the short notation\n",
    "stock_prices_filtered = stock_prices[filter2]\n",
    "print(stock_prices_filtered)"
   ]
  },
  {
   "cell_type": "code",
   "execution_count": null,
   "id": "38cbc791-3ebf-4b7d-9ed3-fb42c80cf095",
   "metadata": {},
   "outputs": [],
   "source": [
    "# take care, result is a 1-dim array\n",
    "stock_prices_filtered.shape"
   ]
  },
  {
   "cell_type": "markdown",
   "id": "9240603f-6365-4f98-81b8-eaa845a335ff",
   "metadata": {},
   "source": [
    "### What if i want to preserve the dimension of the original matrix?\n",
    "First, i create a new matrix to save the original matrix"
   ]
  },
  {
   "cell_type": "code",
   "execution_count": null,
   "id": "37066b3e-b417-42cf-b0fe-77fb1ffc1442",
   "metadata": {},
   "outputs": [],
   "source": []
  },
  {
   "cell_type": "code",
   "execution_count": null,
   "id": "486c5cf5-b530-4e2c-9db7-4e6a0b14ab7e",
   "metadata": {},
   "outputs": [],
   "source": [
    "new_stock_prices = stock_prices"
   ]
  },
  {
   "cell_type": "code",
   "execution_count": null,
   "id": "633527a8-9086-438a-b047-1f58a8146b76",
   "metadata": {},
   "outputs": [],
   "source": [
    "new_stock_prices[(new_stock_prices <= 90) & (new_stock_prices < 120)] = 0\n",
    "print(new_stock_prices)"
   ]
  },
  {
   "cell_type": "markdown",
   "id": "581b907b-1dd7-46d0-9943-aabfe762bf25",
   "metadata": {},
   "source": [
    "## Let's have a look at the original matrix"
   ]
  },
  {
   "cell_type": "code",
   "execution_count": null,
   "id": "09ba70ed-2cce-474f-a7d2-ae245c2d22c4",
   "metadata": {},
   "outputs": [],
   "source": [
    "stock_prices"
   ]
  },
  {
   "cell_type": "markdown",
   "id": "0d61702f-f6c2-49b0-8cbf-3033c892fdd9",
   "metadata": {},
   "source": [
    "We note that also the original has changed! WHY???"
   ]
  },
  {
   "cell_type": "markdown",
   "id": "1b309bf2-87de-4016-9040-b641ce2cec16",
   "metadata": {},
   "source": [
    "Let's see how to fix it"
   ]
  },
  {
   "cell_type": "code",
   "execution_count": null,
   "id": "dac5b0bb-f199-4b94-b1fb-a770ee4cda5e",
   "metadata": {},
   "outputs": [],
   "source": [
    "stock_prices = np.random.uniform(50, 150, (10, 30))\n",
    "\n",
    "new_stock_prices = stock_prices.copy()"
   ]
  },
  {
   "cell_type": "code",
   "execution_count": null,
   "id": "3431bb10-3b45-46d4-a831-38170ea2370d",
   "metadata": {},
   "outputs": [],
   "source": [
    "new_stock_prices[(new_stock_prices <= 90) & (new_stock_prices < 120)] = 0\n",
    "new_stock_prices"
   ]
  },
  {
   "cell_type": "code",
   "execution_count": null,
   "id": "49fe5ff9-01f9-4e41-8238-b32f8d2a89f4",
   "metadata": {},
   "outputs": [],
   "source": [
    "stock_prices"
   ]
  },
  {
   "cell_type": "code",
   "execution_count": null,
   "id": "9d718fb4-5ca9-4f06-bc5b-5810033323f9",
   "metadata": {},
   "outputs": [],
   "source": []
  },
  {
   "cell_type": "markdown",
   "id": "7736d871-3e45-434a-8fff-9a7f8cdb8db2",
   "metadata": {},
   "source": [
    "## Exercise: Stock Price Analysis\n",
    "Scenario: You have daily stock prices of 10 stocks over 30 days in a 2D NumPy array. You need to analyze the data based on certain criteria.\n",
    "\n",
    "## Task:\n",
    "\n",
    "- Find all the stock prices in the dataset that are greater than 120.  \n",
    "- Replace all stock prices below 80 with the value 80 (to simulate a price floor).  \n",
    "- Count how many prices were adjusted to 80.  \n",
    "Starter Code:"
   ]
  },
  {
   "cell_type": "code",
   "execution_count": null,
   "id": "7ac02271-1eee-4951-b4e1-bb830fc792c5",
   "metadata": {},
   "outputs": [],
   "source": [
    "\n",
    "# Simulate stock prices: 10 stocks over 30 days, prices range from $50 to $150\n",
    "np.random.seed(0)\n",
    "stock_prices = np.random.uniform(50, 150, (10, 30))\n",
    "\n",
    "# 1. Find all prices greater than $120\n",
    "# 2. Replace all prices below $80 with $80\n",
    "# Your code here\n",
    "# 3. Count how many prices were adjusted to $80\n",
    "# Your code here"
   ]
  },
  {
   "cell_type": "code",
   "execution_count": null,
   "id": "d096a73d-c770-4aa9-b0ea-c8aeb0a5670e",
   "metadata": {},
   "outputs": [],
   "source": []
  },
  {
   "cell_type": "code",
   "execution_count": null,
   "id": "5d9d71c4-aa35-4dda-85a4-72b9c55884ee",
   "metadata": {},
   "outputs": [],
   "source": []
  },
  {
   "cell_type": "code",
   "execution_count": null,
   "id": "16a67809-a256-4076-889b-d7a349f5e317",
   "metadata": {},
   "outputs": [],
   "source": []
  },
  {
   "cell_type": "code",
   "execution_count": null,
   "id": "74428b2b-0edf-45eb-9bd5-396f17b467bb",
   "metadata": {},
   "outputs": [],
   "source": []
  },
  {
   "cell_type": "markdown",
   "id": "7479ba04-8be7-446e-97f6-a21ea6f1b44a",
   "metadata": {},
   "source": [
    "## Solutions"
   ]
  },
  {
   "cell_type": "code",
   "execution_count": null,
   "id": "44d71473-ae5c-4e4c-a5c6-37e6d0c79675",
   "metadata": {},
   "outputs": [],
   "source": [
    "# Print the original stock prices\n",
    "print(\"Original stock prices:\")\n",
    "print(stock_prices)\n",
    "\n",
    "# 1. Find all prices greater than $120\n",
    "high_prices = stock_prices[stock_prices > 120]\n",
    "print(\"\\nPrices greater than $120:\")\n",
    "print(high_prices)\n",
    "\n",
    "# 2. Replace all prices below $80 with $80\n",
    "stock_prices[stock_prices < 80] = 80\n",
    "print(\"\\nStock prices after applying the price floor of $80:\")\n",
    "print(stock_prices)\n",
    "\n",
    "# 3. Count how many prices were adjusted to $80\n",
    "adjusted_count = np.sum(stock_prices == 80)\n",
    "print(f\"\\nNumber of prices adjusted to $80: {adjusted_count}\")"
   ]
  },
  {
   "cell_type": "code",
   "execution_count": null,
   "id": "f3ced730-56d0-440e-8a4e-dd556b928e07",
   "metadata": {},
   "outputs": [],
   "source": []
  },
  {
   "cell_type": "markdown",
   "id": "c0155b59",
   "metadata": {},
   "source": [
    "# DATA MANIPULATION WITH PANDAS\n",
    "Pandas is a library, based on NumPy, that provides a new object type, the **DataFrame**.  \n",
    "DataFrames are essentially multidimensional matrices which however have **\"labels\" on the rows and columns** and can **host heterogeneous types** (numpy ndarrays can host data of the same type) and/or missing data.   \n",
    "DataFrames are therefore convenient for managing data.\n",
    "\n",
    "Let's now import the Pandas library"
   ]
  },
  {
   "cell_type": "code",
   "execution_count": null,
   "id": "bfc7ef59",
   "metadata": {
    "tags": []
   },
   "outputs": [],
   "source": [
    "import pandas as pd"
   ]
  },
  {
   "cell_type": "markdown",
   "id": "478caa16",
   "metadata": {},
   "source": [
    "## Loading external data\n",
    "Let's load a file that contains sales data. It is in CSV format which represents one of the simplest ways to represent data in tabular form within a simple text file."
   ]
  },
  {
   "cell_type": "code",
   "execution_count": null,
   "id": "cc3fab42",
   "metadata": {
    "tags": []
   },
   "outputs": [],
   "source": [
    "# Loading file CSV\n",
    "url = 'https://raw.githubusercontent.com/pal-dev-labs/Python-for-Economic-Applications-2024-2025/refs/heads/main/Data/sales_data.csv'\n",
    "df = pd.read_csv(url)\n",
    "\n",
    "# for the moment just run this command\n",
    "df.index = [f\"Car_{i}\" for i in range(1, len(df) + 1)]\n",
    "\n",
    "# pd.read"
   ]
  },
  {
   "cell_type": "code",
   "execution_count": null,
   "id": "dc5450d3-d10f-40f1-86df-796107fb640e",
   "metadata": {},
   "outputs": [],
   "source": []
  },
  {
   "cell_type": "code",
   "execution_count": null,
   "id": "197d9a22",
   "metadata": {
    "tags": []
   },
   "outputs": [],
   "source": [
    "type(df)"
   ]
  },
  {
   "cell_type": "code",
   "execution_count": null,
   "id": "0fa243cb",
   "metadata": {
    "tags": []
   },
   "outputs": [],
   "source": [
    "# let's have a look\n",
    "df"
   ]
  },
  {
   "cell_type": "code",
   "execution_count": null,
   "id": "b926d48c-62a6-4cdb-a2e0-3cff46593ca8",
   "metadata": {},
   "outputs": [],
   "source": []
  },
  {
   "cell_type": "markdown",
   "id": "c5059670-cde7-4d7f-a704-996cc9ed3b8f",
   "metadata": {},
   "source": [
    "## Overall view of the table\n",
    "Take care of Dtype **object**"
   ]
  },
  {
   "cell_type": "code",
   "execution_count": null,
   "id": "e29f7782-8ac1-4285-a5a4-020159a2dba7",
   "metadata": {
    "tags": []
   },
   "outputs": [],
   "source": [
    "df.info()"
   ]
  },
  {
   "cell_type": "markdown",
   "id": "20890192-cee2-4405-972b-0cf5b85b00b7",
   "metadata": {},
   "source": [
    "## Accessing dataframe data"
   ]
  },
  {
   "cell_type": "markdown",
   "id": "93bc3a58",
   "metadata": {},
   "source": [
    "The DataFrame has an index attribute that gives **access to the ROWS**"
   ]
  },
  {
   "cell_type": "code",
   "execution_count": null,
   "id": "34d2472d",
   "metadata": {
    "tags": []
   },
   "outputs": [],
   "source": [
    "df.index"
   ]
  },
  {
   "cell_type": "markdown",
   "id": "225206f2",
   "metadata": {},
   "source": [
    "The DataFrame has a columns attribute that gives **access to COLUMNS**"
   ]
  },
  {
   "cell_type": "code",
   "execution_count": null,
   "id": "2d953dc5",
   "metadata": {
    "tags": []
   },
   "outputs": [],
   "source": [
    "df.columns\n"
   ]
  },
  {
   "cell_type": "markdown",
   "id": "fc246533-7352-4bb4-b9a9-3d7179271581",
   "metadata": {},
   "source": [
    "While with Numpy we cannot add \"Labels\" to rows and columns, with Pandas it is possible.\n"
   ]
  },
  {
   "cell_type": "markdown",
   "id": "64645c6d-3b64-44bc-b855-7591d5d29f4a",
   "metadata": {},
   "source": [
    "We can use index to access the rows"
   ]
  },
  {
   "cell_type": "code",
   "execution_count": null,
   "id": "065f34db",
   "metadata": {},
   "outputs": [],
   "source": [
    "# slicing by EXPLICIT index\n",
    "df['Car_10':'Car_15']"
   ]
  },
  {
   "cell_type": "code",
   "execution_count": null,
   "id": "82a097af-8c00-41f0-a53c-a9e042aa8550",
   "metadata": {},
   "outputs": [],
   "source": [
    "# slicing by IMPLICIT index\n",
    "df[3:5]"
   ]
  },
  {
   "cell_type": "code",
   "execution_count": null,
   "id": "15220b93",
   "metadata": {
    "tags": []
   },
   "outputs": [],
   "source": [
    "# Let's try to extract a COLUMN\n",
    "a = df['Manufacturer']   # in this case I access the column\n",
    "print(a)"
   ]
  },
  {
   "cell_type": "markdown",
   "id": "9ce5ccdf-6d91-418e-b0ac-1a8ee976ef49",
   "metadata": {},
   "source": [
    "Note a column is of type **Series**. A DataFrame is composed by many smaller objects (a column) of type **Series** "
   ]
  },
  {
   "cell_type": "code",
   "execution_count": null,
   "id": "ac64c00d-ff9f-4ac8-abf4-3dc55328d999",
   "metadata": {},
   "outputs": [],
   "source": [
    "type(a)"
   ]
  },
  {
   "cell_type": "code",
   "execution_count": null,
   "id": "849b75b9-2695-4387-83c7-510063d50a08",
   "metadata": {},
   "outputs": [],
   "source": []
  },
  {
   "cell_type": "code",
   "execution_count": null,
   "id": "af8d4452",
   "metadata": {
    "tags": []
   },
   "outputs": [],
   "source": [
    "# Let's try to extract two COLUMNS\n",
    "# we use a list inside the first []\n",
    "\n",
    "df[['Manufacturer','Sales_in_thousands']]"
   ]
  },
  {
   "cell_type": "code",
   "execution_count": null,
   "id": "ab38e976",
   "metadata": {},
   "outputs": [],
   "source": [
    "# I can also combine (columns with implicit index)\n",
    "df['Price_in_thousands'][1:9]"
   ]
  },
  {
   "cell_type": "markdown",
   "id": "370c8cc7",
   "metadata": {},
   "source": [
    "### How can we access a single element of the DataFrame?  \n",
    "As with ndarrays we can use the [x,y] notation, using the **iloc method**  \n",
    "Remember that the numbering starts from [0,0]"
   ]
  },
  {
   "cell_type": "code",
   "execution_count": null,
   "id": "eb842173",
   "metadata": {
    "tags": []
   },
   "outputs": [],
   "source": [
    "df.iloc[1,1]"
   ]
  },
  {
   "cell_type": "markdown",
   "id": "7d363394",
   "metadata": {},
   "source": [
    "We can also use slicing notation"
   ]
  },
  {
   "cell_type": "code",
   "execution_count": null,
   "id": "8518863d",
   "metadata": {
    "tags": []
   },
   "outputs": [],
   "source": [
    "# extract second row\n",
    "df.iloc[2,:]"
   ]
  },
  {
   "cell_type": "code",
   "execution_count": null,
   "id": "58452088",
   "metadata": {
    "tags": []
   },
   "outputs": [],
   "source": [
    "# we extract the ninth column\n",
    "df.iloc[:,9]"
   ]
  },
  {
   "cell_type": "code",
   "execution_count": null,
   "id": "b02826b8",
   "metadata": {
    "tags": []
   },
   "outputs": [],
   "source": [
    "# we extract from the 3rd to the 7th row and from the 9th to the 10th column\n",
    "df.iloc[2:6,8:10]"
   ]
  },
  {
   "cell_type": "markdown",
   "id": "f9cae921-dd2d-4d10-bc74-1c542ef2b4ea",
   "metadata": {},
   "source": [
    "It's also possible to specify specific positions inserting lists as parameters"
   ]
  },
  {
   "cell_type": "code",
   "execution_count": null,
   "id": "5b7a6803",
   "metadata": {
    "tags": []
   },
   "outputs": [],
   "source": [
    "df.iloc[[2,5,7],[3,4,9]]"
   ]
  },
  {
   "cell_type": "code",
   "execution_count": null,
   "id": "dc626ef0-b8bf-43e4-949a-4f33242eb90d",
   "metadata": {},
   "outputs": [],
   "source": []
  },
  {
   "cell_type": "markdown",
   "id": "77be56c1",
   "metadata": {},
   "source": [
    "The dataframe columns are also FIELDS of the dataframe object.\n",
    "We can then use the df.fields command"
   ]
  },
  {
   "cell_type": "code",
   "execution_count": null,
   "id": "36e41c1e",
   "metadata": {
    "tags": []
   },
   "outputs": [],
   "source": [
    "df.Price_in_thousands"
   ]
  },
  {
   "cell_type": "code",
   "execution_count": null,
   "id": "77bca2cc",
   "metadata": {},
   "outputs": [],
   "source": []
  },
  {
   "cell_type": "markdown",
   "id": "defb1458",
   "metadata": {},
   "source": [
    "## NOW YOU TRY IT\n",
    "- Extract the rows from 20 to 40 from the table\n",
    "- Extract the 'Engine_size' and 'Horsepower' columns from the table\n",
    "- Extract rows from 15 to 45 of the 'Price_in_thousands' and 'Fuel_capacity' columns\n",
    "- Extract all rows from the 4th column to the end\n",
    "- extracts all the information corresponding to line 56"
   ]
  },
  {
   "cell_type": "markdown",
   "id": "b866ae3a",
   "metadata": {},
   "source": [
    "## Filters to extract information from the table"
   ]
  },
  {
   "cell_type": "code",
   "execution_count": null,
   "id": "3efaa04e",
   "metadata": {
    "tags": []
   },
   "outputs": [],
   "source": [
    "df.columns"
   ]
  },
  {
   "cell_type": "code",
   "execution_count": null,
   "id": "9d454f90",
   "metadata": {},
   "outputs": [],
   "source": []
  },
  {
   "cell_type": "code",
   "execution_count": null,
   "id": "6c8b8bc4",
   "metadata": {
    "tags": []
   },
   "outputs": [],
   "source": [
    "# Let's try to take just one column\n",
    "year = df['Price_in_thousands']"
   ]
  },
  {
   "cell_type": "code",
   "execution_count": null,
   "id": "3d568974",
   "metadata": {
    "tags": []
   },
   "outputs": [],
   "source": [
    "year"
   ]
  },
  {
   "cell_type": "code",
   "execution_count": null,
   "id": "28ce67e1",
   "metadata": {},
   "outputs": [],
   "source": []
  },
  {
   "cell_type": "markdown",
   "id": "45cf8bfe",
   "metadata": {},
   "source": [
    "### I want to extract only ten rows"
   ]
  },
  {
   "cell_type": "code",
   "execution_count": null,
   "id": "ca76a206",
   "metadata": {
    "tags": []
   },
   "outputs": [],
   "source": [
    "# we extract ten LINES\n",
    "b = year.iloc[10:20]\n",
    "print(b)"
   ]
  },
  {
   "cell_type": "code",
   "execution_count": null,
   "id": "dc6ed33d",
   "metadata": {
    "tags": []
   },
   "outputs": [],
   "source": []
  },
  {
   "cell_type": "markdown",
   "id": "5c3ad1dd",
   "metadata": {},
   "source": [
    "### I want to check which rows have the value 39.895  \n",
    "Let's use boolean comparison"
   ]
  },
  {
   "cell_type": "code",
   "execution_count": null,
   "id": "872e5084",
   "metadata": {
    "tags": []
   },
   "outputs": [],
   "source": [
    "b == 39.895"
   ]
  },
  {
   "cell_type": "markdown",
   "id": "edd78d1c",
   "metadata": {},
   "source": [
    "### I notice that the check returns TRUE on each line in which the condition is verified.\n",
    "\n",
    "### I can also use expressions of logical operators like (20 < b) & (b < 35)\n",
    "With dataframe -\n",
    "- **&** is the bitwise operator **AND**\n",
    "- **|** is the bitwise operator **or**"
   ]
  },
  {
   "cell_type": "code",
   "execution_count": null,
   "id": "1b9d54eb",
   "metadata": {},
   "outputs": [],
   "source": []
  },
  {
   "cell_type": "code",
   "execution_count": null,
   "id": "fb5ba178",
   "metadata": {
    "tags": []
   },
   "outputs": [],
   "source": [
    "b "
   ]
  },
  {
   "cell_type": "code",
   "execution_count": null,
   "id": "136e09e0",
   "metadata": {
    "tags": []
   },
   "outputs": [],
   "source": [
    "(20 < b) & (b < 35)"
   ]
  },
  {
   "cell_type": "code",
   "execution_count": null,
   "id": "30f64c7e",
   "metadata": {},
   "outputs": [],
   "source": []
  },
  {
   "cell_type": "markdown",
   "id": "1b7b1973",
   "metadata": {},
   "source": [
    "### The interesting thing is that if I apply that filter to the entire dataframe, we can filter out the unwanted elements"
   ]
  },
  {
   "cell_type": "code",
   "execution_count": null,
   "id": "dc2dd8fe",
   "metadata": {
    "tags": []
   },
   "outputs": [],
   "source": [
    "year = df['Price_in_thousands']\n",
    "filter1 = (20 < year) & (year < 35)"
   ]
  },
  {
   "cell_type": "code",
   "execution_count": null,
   "id": "f02c622e",
   "metadata": {
    "tags": []
   },
   "outputs": [],
   "source": [
    "filter1"
   ]
  },
  {
   "cell_type": "code",
   "execution_count": null,
   "id": "e05c706d",
   "metadata": {
    "tags": []
   },
   "outputs": [],
   "source": [
    "df_filtered = df[filter1]\n",
    "df_filtered"
   ]
  },
  {
   "cell_type": "code",
   "execution_count": null,
   "id": "b722c521",
   "metadata": {},
   "outputs": [],
   "source": []
  },
  {
   "cell_type": "code",
   "execution_count": null,
   "id": "99d7406f",
   "metadata": {},
   "outputs": [],
   "source": []
  },
  {
   "cell_type": "markdown",
   "id": "9fcd2fdb",
   "metadata": {},
   "source": [
    "### As always it's possible to use a more compact syntax"
   ]
  },
  {
   "cell_type": "code",
   "execution_count": null,
   "id": "ddc8781c",
   "metadata": {
    "tags": []
   },
   "outputs": [],
   "source": [
    "df_filtered = df[df['Price_in_thousands']==(20 < year) & (year < 35)]\n",
    "df_filtered"
   ]
  },
  {
   "cell_type": "code",
   "execution_count": null,
   "id": "c9579e1f",
   "metadata": {
    "tags": []
   },
   "outputs": [],
   "source": [
    "df_filtered = df[(df['Price_in_thousands']>20)&(df['Price_in_thousands']<35)]\n",
    "df_filtered"
   ]
  },
  {
   "cell_type": "code",
   "execution_count": null,
   "id": "353ca5a7",
   "metadata": {
    "tags": []
   },
   "outputs": [],
   "source": [
    "#  OR operator\n",
    "df_filtered = df[(df['Year']==1677) | (df['Year']==1679)]\n",
    "df_filtered"
   ]
  },
  {
   "cell_type": "code",
   "execution_count": null,
   "id": "e07a4d31",
   "metadata": {},
   "outputs": [],
   "source": []
  },
  {
   "cell_type": "markdown",
   "id": "e257edf9",
   "metadata": {},
   "source": [
    "# NOW YOU TRY IT\n",
    "- Extract the rows with Engine_size == 1.8\n",
    "- Extract the rows with the Sales_in_thousands between 35 and 45\n",
    "- Extract the rows that have a number of Price_in_thousands greater than 40 and Social Advert greater than 50000. Print only the column ['Manufacturer','Model','Price_in_thousands','Social Advert']"
   ]
  },
  {
   "cell_type": "code",
   "execution_count": null,
   "id": "2b4958cd",
   "metadata": {},
   "outputs": [],
   "source": []
  },
  {
   "cell_type": "code",
   "execution_count": null,
   "id": "7587ece8-e388-4cc3-95e9-04ff0d8c4bd0",
   "metadata": {},
   "outputs": [],
   "source": []
  },
  {
   "cell_type": "code",
   "execution_count": null,
   "id": "2e546ee8-8856-46d0-96d0-c0a09f67512c",
   "metadata": {},
   "outputs": [],
   "source": []
  },
  {
   "cell_type": "code",
   "execution_count": null,
   "id": "c5a37cff-bfd6-48c6-b048-739035c9a5ca",
   "metadata": {},
   "outputs": [],
   "source": []
  },
  {
   "cell_type": "code",
   "execution_count": null,
   "id": "c74dd18c-452b-4ad1-9a20-447aaa38ce1b",
   "metadata": {},
   "outputs": [],
   "source": []
  },
  {
   "cell_type": "code",
   "execution_count": null,
   "id": "3461d2b8-9694-496a-8866-2a746c24f40b",
   "metadata": {},
   "outputs": [],
   "source": []
  },
  {
   "cell_type": "code",
   "execution_count": null,
   "id": "b9aa67fe-d57a-43db-ae3e-bc8931dc24e9",
   "metadata": {},
   "outputs": [],
   "source": []
  },
  {
   "cell_type": "code",
   "execution_count": null,
   "id": "5516e9d0",
   "metadata": {
    "tags": []
   },
   "outputs": [],
   "source": [
    "#df1 = df[df['Engine_size']==1.8]\n",
    "#df1"
   ]
  },
  {
   "cell_type": "code",
   "execution_count": null,
   "id": "24afdde1",
   "metadata": {
    "tags": []
   },
   "outputs": [],
   "source": [
    "#df2 = df[(df['Sales_in_thousands']>35)&(df['Sales_in_thousands']<45)]\n",
    "#df2"
   ]
  },
  {
   "cell_type": "code",
   "execution_count": null,
   "id": "74a3f3e3",
   "metadata": {},
   "outputs": [],
   "source": [
    "#df3 = df[(df['Price_in_thousands']>40)&(df['Social Advert']>50000)][['Manufacturer','Model','Price_in_thousands','Social Advert']]\n",
    "#df3\n"
   ]
  },
  {
   "cell_type": "code",
   "execution_count": null,
   "id": "24116f82",
   "metadata": {},
   "outputs": [],
   "source": []
  },
  {
   "cell_type": "markdown",
   "id": "3d2c9a4b",
   "metadata": {},
   "source": [
    "## NaN: Not A Number\n",
    "\n",
    "The NaN value is used in Pandas to represent a missing value.\n",
    "There are several methods, among which we report:\n",
    "\n",
    "- ``isnull()``: creates a boolean mask highlighting the NaNs with True\n",
    "- ``notnull()``: the opposite of ``isnull()``\n",
    "- ``dropna()``: returns a filtered version of the dataframe without NaN\n",
    "- ``fillna()``: returns a copy of the dataframe with the NaN data replaced by other values"
   ]
  },
  {
   "cell_type": "code",
   "execution_count": null,
   "id": "f3719be9-e087-4e26-9c91-5519d388e2b6",
   "metadata": {},
   "outputs": [],
   "source": [
    "# Loading file CSV\n",
    "url = 'https://raw.githubusercontent.com/pal-dev-labs/Python-for-Economic-Applications-2024-2025/refs/heads/main/Data/earthquakes.csv'\n",
    "df = pd.read_csv(url)"
   ]
  },
  {
   "cell_type": "code",
   "execution_count": null,
   "id": "f3818bfc-01c0-4158-a591-f432fcfccf1c",
   "metadata": {},
   "outputs": [],
   "source": [
    "df"
   ]
  },
  {
   "cell_type": "code",
   "execution_count": null,
   "id": "da4084f4-20a4-476c-a925-e1f5a4203df8",
   "metadata": {},
   "outputs": [],
   "source": [
    "df.info()"
   ]
  },
  {
   "cell_type": "code",
   "execution_count": null,
   "id": "8208b9b4-4178-487c-9a08-8ae8a3e6892d",
   "metadata": {},
   "outputs": [],
   "source": []
  },
  {
   "cell_type": "code",
   "execution_count": null,
   "id": "95c73a3e-81a0-469f-88ae-778f199b57b8",
   "metadata": {},
   "outputs": [],
   "source": []
  },
  {
   "cell_type": "code",
   "execution_count": null,
   "id": "b2301862",
   "metadata": {
    "tags": []
   },
   "outputs": [],
   "source": [
    "df.isnull()"
   ]
  },
  {
   "cell_type": "code",
   "execution_count": null,
   "id": "8867e808-fbff-45e2-bf8e-260702549275",
   "metadata": {},
   "outputs": [],
   "source": [
    "df.notnull()"
   ]
  },
  {
   "cell_type": "code",
   "execution_count": null,
   "id": "fbfff37c",
   "metadata": {
    "tags": []
   },
   "outputs": [],
   "source": [
    "df.fillna(\"0\")"
   ]
  },
  {
   "cell_type": "code",
   "execution_count": null,
   "id": "464c385d-de1a-45d9-8d50-eb63dc638faa",
   "metadata": {},
   "outputs": [],
   "source": []
  },
  {
   "cell_type": "markdown",
   "id": "979b0c2e",
   "metadata": {},
   "source": [
    "## Now we can eliminate the NaNs by substituting a more tractable value. We put the string \"0\""
   ]
  },
  {
   "cell_type": "code",
   "execution_count": null,
   "id": "460d5fe7",
   "metadata": {
    "tags": []
   },
   "outputs": [],
   "source": [
    "newdf = df.fillna(\"0\")"
   ]
  },
  {
   "cell_type": "code",
   "execution_count": null,
   "id": "c2f66729-89c2-4af7-bbe7-cdd47ebf1e70",
   "metadata": {},
   "outputs": [],
   "source": []
  },
  {
   "cell_type": "code",
   "execution_count": null,
   "id": "fea554f2",
   "metadata": {
    "tags": []
   },
   "outputs": [],
   "source": [
    "newdf"
   ]
  },
  {
   "cell_type": "code",
   "execution_count": null,
   "id": "f61c90bd-57ba-4910-a260-76678e868e25",
   "metadata": {},
   "outputs": [],
   "source": []
  },
  {
   "cell_type": "code",
   "execution_count": null,
   "id": "ce31b1f8-e720-4b7c-a8ff-48954062a852",
   "metadata": {},
   "outputs": [],
   "source": []
  },
  {
   "cell_type": "markdown",
   "id": "1f7681af-e475-4b6c-804b-a94d3879d51c",
   "metadata": {},
   "source": [
    "## Checking for NaN values with Numpy array (ndarray)\n",
    "You can check if elements are NaN (Not a Number) using np.isnan().\n",
    "\n",
    "### Example: Checking for NaN values"
   ]
  },
  {
   "cell_type": "code",
   "execution_count": null,
   "id": "218160b1-b8ca-41c7-9b6a-847acc02a6a6",
   "metadata": {},
   "outputs": [],
   "source": [
    "c = np.array([1.0, np.nan, 2.0, np.nan])\n",
    "print(c)"
   ]
  },
  {
   "cell_type": "code",
   "execution_count": null,
   "id": "fac9ae19-633e-416e-866b-ab96e3f3a984",
   "metadata": {},
   "outputs": [],
   "source": [
    "result = np.isnan(c)\n",
    "print(result)  \n"
   ]
  },
  {
   "cell_type": "code",
   "execution_count": null,
   "id": "0f37be18-0736-4f72-b48d-35e24a1b9170",
   "metadata": {},
   "outputs": [],
   "source": []
  },
  {
   "cell_type": "code",
   "execution_count": null,
   "id": "09bf2f9d-6553-4152-8b08-91fcff1acfe4",
   "metadata": {},
   "outputs": [],
   "source": [
    "# Import data and clean up the index\n",
    "data_url = \"https://github.com/QuantEcon/lecture-python-intro/raw/main/lectures/datasets/longprices.xls\"\n",
    "df_fig5 = pd.read_excel(data_url, \n",
    "                        sheet_name='all', \n",
    "                        header=2, \n",
    "                        index_col=0).iloc[1:]\n",
    "df_fig5.index = df_fig5.index.astype(int)\n",
    "df_fig5"
   ]
  },
  {
   "cell_type": "code",
   "execution_count": null,
   "id": "aa95d566-46a1-46a7-bbb4-ed669b3d3d19",
   "metadata": {},
   "outputs": [],
   "source": [
    "!pip install xlrd"
   ]
  },
  {
   "cell_type": "code",
   "execution_count": null,
   "id": "67d2f3b2-ffc8-4c7d-9acf-4b3c7b4cb907",
   "metadata": {},
   "outputs": [],
   "source": []
  },
  {
   "cell_type": "code",
   "execution_count": null,
   "id": "04a3f9d1-e1c8-4fc3-9436-1e647a5bdfe9",
   "metadata": {},
   "outputs": [],
   "source": [
    "# Import required libraries\n",
    "import yfinance as yf\n",
    "import matplotlib.pyplot as plt\n",
    "\n"
   ]
  },
  {
   "cell_type": "code",
   "execution_count": null,
   "id": "c301fda5-3e4f-4752-93e5-de13bf6590ab",
   "metadata": {},
   "outputs": [],
   "source": []
  },
  {
   "cell_type": "code",
   "execution_count": null,
   "id": "982faa65-6676-4ac4-9ff9-7f448ea6e81c",
   "metadata": {},
   "outputs": [],
   "source": [
    "# if you're working locally install the yfinance Module\n",
    "# uncomment the below line and run the cell\n",
    "# !pip install yfinance"
   ]
  },
  {
   "cell_type": "code",
   "execution_count": null,
   "id": "56a57186-609d-40d4-8201-0e50e4737083",
   "metadata": {},
   "outputs": [],
   "source": []
  },
  {
   "cell_type": "code",
   "execution_count": null,
   "id": "df915d54-8eeb-47bc-8367-60273a889f40",
   "metadata": {},
   "outputs": [],
   "source": []
  },
  {
   "cell_type": "code",
   "execution_count": null,
   "id": "d20b6b05-69fc-43b1-8b24-2b6ee94152db",
   "metadata": {},
   "outputs": [],
   "source": [
    "# Define a list of 10 stock symbols (e.g., tech and other industries)\n",
    "tickers = ['AAPL', 'MSFT', 'GOOGL', 'AMZN', 'TSLA', 'META', 'NVDA', 'NFLX', 'ADBE', 'ORCL']\n",
    "\n",
    "# Define the time range for data\n",
    "start_date = '2022-01-01'\n",
    "end_date = '2023-01-01'\n",
    "\n",
    "# Fetch stock data using yfinance\n",
    "data = yf.download(tickers, start=start_date, end=end_date)['Adj Close']\n"
   ]
  },
  {
   "cell_type": "code",
   "execution_count": null,
   "id": "fb59bba7-c608-4679-9087-d3bf4f03b988",
   "metadata": {},
   "outputs": [],
   "source": [
    "data"
   ]
  },
  {
   "cell_type": "code",
   "execution_count": null,
   "id": "54ecb23f-804a-45a8-8805-aa0a0286426e",
   "metadata": {},
   "outputs": [],
   "source": [
    "data.index"
   ]
  },
  {
   "cell_type": "code",
   "execution_count": null,
   "id": "f1eaffd4-b353-491a-ad9e-adacdf05fa59",
   "metadata": {},
   "outputs": [],
   "source": [
    "type(data.index)"
   ]
  },
  {
   "cell_type": "code",
   "execution_count": null,
   "id": "126b3ca8-b95a-4b97-aacb-0da0c75851bf",
   "metadata": {},
   "outputs": [],
   "source": [
    "# Display the first few rows of the dataframe\n",
    "print(\"First few rows of the stock data:\")\n",
    "print(data.head())"
   ]
  },
  {
   "cell_type": "markdown",
   "id": "9ba79b99-148b-4049-9ef3-6f70cff1120d",
   "metadata": {},
   "source": [
    "We can extract a time window applying slice notation"
   ]
  },
  {
   "cell_type": "code",
   "execution_count": null,
   "id": "f64545bd-4e8e-4463-af20-0bf3e206ed55",
   "metadata": {},
   "outputs": [],
   "source": [
    "# Filter data between May and July (inclusive) of 2022\n",
    "window= data['2022-05-01':'2022-07-31']\n",
    "window"
   ]
  },
  {
   "cell_type": "markdown",
   "id": "0aa5560e-08c9-4f90-b4c4-777f5895bcb5",
   "metadata": {},
   "source": [
    "we can extract information for one stock"
   ]
  },
  {
   "cell_type": "code",
   "execution_count": null,
   "id": "423bcd3f-bad1-4c8a-805c-d360a4ecdcfc",
   "metadata": {},
   "outputs": [],
   "source": [
    "aapl_data = data['AAPL']"
   ]
  },
  {
   "cell_type": "code",
   "execution_count": null,
   "id": "6f915e96-5e42-49ca-a856-29f038a80475",
   "metadata": {},
   "outputs": [],
   "source": [
    "# Calculate daily returns (percentage change)\n",
    "apple_daily_returns = aapl_data.pct_change() * 100  # Convert to percentage\n",
    "apple_daily_returns"
   ]
  },
  {
   "cell_type": "code",
   "execution_count": null,
   "id": "512a85d7-fcc5-4e06-8043-a497779f1fff",
   "metadata": {},
   "outputs": [],
   "source": []
  },
  {
   "cell_type": "markdown",
   "id": "62893cc6-310b-4493-9ac0-d02207dda086",
   "metadata": {},
   "source": [
    "### Next Steps: plot data"
   ]
  },
  {
   "cell_type": "code",
   "execution_count": null,
   "id": "4dffdc6c-08ca-4e7d-97ea-343807a5dd65",
   "metadata": {},
   "outputs": [],
   "source": []
  },
  {
   "cell_type": "code",
   "execution_count": null,
   "id": "1a9a4f44-3db9-4f1f-b73f-dde2ca364efc",
   "metadata": {},
   "outputs": [],
   "source": [
    "# Plot the closing prices\n",
    "plt.figure(figsize=(14, 7))\n",
    "for ticker in tickers:\n",
    "    plt.plot(data.index, data[ticker], label=ticker)\n",
    "\n",
    "plt.title(\"Stock Prices Over Time\")\n",
    "plt.xlabel(\"Date\")\n",
    "plt.ylabel(\"Adjusted Close Price\")\n",
    "plt.legend(loc=\"upper left\", fontsize=10)\n",
    "plt.grid()\n",
    "plt.show()\n"
   ]
  }
 ],
 "metadata": {
  "hide_input": false,
  "kernelspec": {
   "display_name": "Python 3 (ipykernel)",
   "language": "python",
   "name": "python3"
  },
  "language_info": {
   "codemirror_mode": {
    "name": "ipython",
    "version": 3
   },
   "file_extension": ".py",
   "mimetype": "text/x-python",
   "name": "python",
   "nbconvert_exporter": "python",
   "pygments_lexer": "ipython3",
   "version": "3.12.4"
  },
  "varInspector": {
   "cols": {
    "lenName": 16,
    "lenType": 16,
    "lenVar": 40
   },
   "kernels_config": {
    "python": {
     "delete_cmd_postfix": "",
     "delete_cmd_prefix": "del ",
     "library": "var_list.py",
     "varRefreshCmd": "print(var_dic_list())"
    },
    "r": {
     "delete_cmd_postfix": ") ",
     "delete_cmd_prefix": "rm(",
     "library": "var_list.r",
     "varRefreshCmd": "cat(var_dic_list()) "
    }
   },
   "types_to_exclude": [
    "module",
    "function",
    "builtin_function_or_method",
    "instance",
    "_Feature"
   ],
   "window_display": false
  }
 },
 "nbformat": 4,
 "nbformat_minor": 5
}
