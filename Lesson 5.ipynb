{
 "cells": [
  {
   "cell_type": "markdown",
   "id": "c32bd314",
   "metadata": {},
   "source": [
    "# MATPLOTLIB: the module to plot data "
   ]
  },
  {
   "cell_type": "code",
   "execution_count": null,
   "id": "7e36176e",
   "metadata": {
    "tags": []
   },
   "outputs": [],
   "source": [
    "import matplotlib.pyplot as plt\n",
    "import numpy as np\n"
   ]
  },
  {
   "cell_type": "code",
   "execution_count": null,
   "id": "0d1ff75b",
   "metadata": {
    "tags": []
   },
   "outputs": [],
   "source": [
    "x = np.linspace(0, 10, 100)\n",
    "y1 = np.cos(x-10)\n",
    "y2 = np.cos(x)\n",
    "\n",
    "fig = plt.figure()   # create a container that host the picture\n",
    "\n",
    "plt.plot(x, y1, '-')\n",
    "plt.plot(x, y2, '--');"
   ]
  },
  {
   "cell_type": "code",
   "execution_count": null,
   "id": "dce6cb24",
   "metadata": {},
   "outputs": [],
   "source": []
  },
  {
   "cell_type": "code",
   "execution_count": null,
   "id": "10a76280",
   "metadata": {
    "tags": []
   },
   "outputs": [],
   "source": [
    "# save fig\n",
    "fig.savefig('my_figure.png')"
   ]
  },
  {
   "cell_type": "code",
   "execution_count": null,
   "id": "4b681afc",
   "metadata": {
    "tags": []
   },
   "outputs": [],
   "source": [
    "!ls -lh my_figure.png"
   ]
  },
  {
   "cell_type": "code",
   "execution_count": null,
   "id": "1847e12d",
   "metadata": {
    "tags": []
   },
   "outputs": [],
   "source": [
    "!pwd"
   ]
  },
  {
   "cell_type": "markdown",
   "id": "877f1a7f",
   "metadata": {},
   "source": [
    "we can import an image"
   ]
  },
  {
   "cell_type": "code",
   "execution_count": null,
   "id": "dfdc3d97",
   "metadata": {
    "tags": []
   },
   "outputs": [],
   "source": [
    "from IPython.display import Image\n",
    "Image('my_figure.png')"
   ]
  },
  {
   "cell_type": "markdown",
   "id": "6dba6dbb",
   "metadata": {},
   "source": [
    "we can change colors"
   ]
  },
  {
   "cell_type": "code",
   "execution_count": null,
   "id": "8fd2ecd9",
   "metadata": {
    "tags": []
   },
   "outputs": [],
   "source": [
    "plt.plot(x, x + 0, linestyle='solid')\n",
    "plt.plot(x, x + 1, linestyle='dashed')\n",
    "plt.plot(x, x + 2, linestyle='dashdot')\n",
    "plt.plot(x, x + 3, linestyle='dotted');\n",
    "\n",
    "# For short, you can use the following codes:\n",
    "plt.plot(x, x + 4, linestyle='-')  # solid\n",
    "plt.plot(x, x + 5, linestyle='--') # dashed\n",
    "plt.plot(x, x + 6, linestyle='-.') # dashdot\n",
    "plt.plot(x, x + 7, linestyle=':');  # dotted"
   ]
  },
  {
   "cell_type": "code",
   "execution_count": null,
   "id": "14a4fa95",
   "metadata": {},
   "outputs": [],
   "source": []
  },
  {
   "cell_type": "code",
   "execution_count": null,
   "id": "d2ba7f0f",
   "metadata": {
    "tags": []
   },
   "outputs": [],
   "source": [
    "plt.plot(x, np.sin(x - 0), linestyle='dashed',color='blue')        # specify color by name\n",
    "plt.plot(x, np.sin(x - 1), color='g')           # short color code (rgbcmyk)\n",
    "plt.plot(x, np.sin(x - 2), color='0.75')        # Grayscale between 0 and 1\n",
    "plt.plot(x, np.sin(x - 3), color='#FFDD44')     # Hex code (RRGGBB from 00 to FF)\n",
    "plt.plot(x, np.sin(x - 4), color=(1.0,0.2,0.3)) # RGB tuple, values 0 to 1\n",
    "plt.plot(x, np.sin(x - 5), color='chartreuse'); # all HTML color names supported"
   ]
  },
  {
   "cell_type": "markdown",
   "id": "8da4c35b",
   "metadata": {},
   "source": [
    "combine"
   ]
  },
  {
   "cell_type": "code",
   "execution_count": null,
   "id": "e655f7d3",
   "metadata": {
    "tags": []
   },
   "outputs": [],
   "source": [
    "plt.plot(x, x + 0, '-g')  # solid green\n",
    "plt.plot(x, x + 1, '--c') # dashed cyan\n",
    "plt.plot(x, x + 2, '-.k') # dashdot black\n",
    "plt.plot(x, x + 3, ':r');  # dotted red"
   ]
  },
  {
   "cell_type": "code",
   "execution_count": null,
   "id": "c58db2e6",
   "metadata": {},
   "outputs": [],
   "source": []
  },
  {
   "cell_type": "code",
   "execution_count": null,
   "id": "d55e8a5d",
   "metadata": {
    "tags": []
   },
   "outputs": [],
   "source": [
    "# set xlim and ylim and a grid\n",
    "\n",
    "plt.plot(x, y1)\n",
    "\n",
    "plt.xlim(-10, 11)\n",
    "plt.ylim(-10, 10);\n",
    "plt.grid(True)\n"
   ]
  },
  {
   "cell_type": "markdown",
   "id": "78c87186",
   "metadata": {},
   "source": [
    "Another useful method is ``plt.axis()`` (be careful about possible confusion between *axes* with an *e*, and *axis* with an *i*).\n",
    "The ``plt.axis()`` method allows you to set the ``x`` and ``y`` limits with a single call, passing a list specifying ``[xmin, xmax, ymin, ymax] `` :"
   ]
  },
  {
   "cell_type": "code",
   "execution_count": null,
   "id": "f8020dab",
   "metadata": {},
   "outputs": [],
   "source": [
    "plt.plot(x, y1)\n",
    "plt.axis([-1, 11, -1.5, 1.5]);"
   ]
  },
  {
   "cell_type": "markdown",
   "id": "c42dcd37",
   "metadata": {},
   "source": [
    "Let's see how to plot information on Cartesian axes"
   ]
  },
  {
   "cell_type": "code",
   "execution_count": null,
   "id": "74461355",
   "metadata": {
    "tags": []
   },
   "outputs": [],
   "source": [
    "plt.plot(x, y1)\n",
    "plt.title(\"Spring motion\")\n",
    "plt.xlabel(\"Time (s)\")\n",
    "plt.ylabel(\"Space(m)\");"
   ]
  },
  {
   "cell_type": "markdown",
   "id": "bbe80768",
   "metadata": {},
   "source": [
    "When multiple lines are displayed, it may be helpful to create a chart legend that labels each line type.\n",
    "Again, Matplotlib has a built-in way to quickly create such a legend.\n",
    "It is done via the ``plt.legend()`` method.\n",
    "While there are several valid ways to use it, I find it easiest to specify the label of each row using the plot function's ``label`` keyword:"
   ]
  },
  {
   "cell_type": "code",
   "execution_count": null,
   "id": "bf0779d4",
   "metadata": {
    "tags": []
   },
   "outputs": [],
   "source": [
    "plt.plot(x, np.sin(x), '-g', label='sin(x)')\n",
    "plt.plot(x, np.cos(x), ':b', label='cos(x)')\n",
    "\n",
    "#plt.legend();\n",
    "plt.legend(loc='lower right', fontsize=8);"
   ]
  },
  {
   "cell_type": "code",
   "execution_count": null,
   "id": "92ad844a",
   "metadata": {},
   "outputs": [],
   "source": []
  },
  {
   "cell_type": "markdown",
   "id": "641e2533",
   "metadata": {},
   "source": [
    "# SOME OTHER EXAMPLE"
   ]
  },
  {
   "cell_type": "code",
   "execution_count": null,
   "id": "8efdc303",
   "metadata": {
    "tags": []
   },
   "outputs": [],
   "source": [
    "x = np.linspace(0,15,30)\n",
    "y = np.sin(x) + 0.1*np.random.randn(len(x))"
   ]
  },
  {
   "cell_type": "code",
   "execution_count": null,
   "id": "d8461b35",
   "metadata": {
    "tags": []
   },
   "outputs": [],
   "source": [
    "# lw and ms parameters are used to control the line width and marker size, respectively, in plots.\n",
    "\n",
    "plt.plot(x,y, 'o--', color='purple', lw=2, ms=8)"
   ]
  },
  {
   "cell_type": "markdown",
   "id": "77dcfde5",
   "metadata": {},
   "source": [
    "Figure size"
   ]
  },
  {
   "cell_type": "code",
   "execution_count": null,
   "id": "0b75e820",
   "metadata": {
    "tags": []
   },
   "outputs": [],
   "source": [
    "# resize image\n",
    "plt.figure(figsize=(11,10))\n",
    "plt.plot(x,y)"
   ]
  },
  {
   "cell_type": "code",
   "execution_count": null,
   "id": "28b7d633",
   "metadata": {
    "tags": []
   },
   "outputs": [],
   "source": [
    "plt.figure(figsize=(8,3))\n",
    "plt.plot(x,y, label='Component 1')\n",
    "plt.xlabel('Time [s]', fontsize=16)\n",
    "plt.ylabel('Voltage [V]')\n",
    "plt.title('Voltage in 3rd Electrode')\n",
    "plt.legend(loc='lower right', fontsize=12)\n",
    "plt.show()"
   ]
  },
  {
   "cell_type": "markdown",
   "id": "d3c46e22-f5f6-461a-afb8-49087b36f022",
   "metadata": {},
   "source": [
    "# Exercise 1: Plot a Sine Wave\n",
    "\n",
    "### Task:\n",
    "1. Import `matplotlib.pyplot` and `numpy`.\n",
    "2. Create a plot of the sine function $( y = \\sin(x) $) for $( x $) values ranging from $( -2\\pi $) to $( 2\\pi $).\n",
    "3. Label the axes and give the plot a title.\n",
    "4. Add a grid to the plot."
   ]
  },
  {
   "cell_type": "markdown",
   "id": "9a2f7ec5-7d80-4257-b291-46c9a584ddf8",
   "metadata": {},
   "source": [
    "# Exercise 2: Plot a Parabola\n",
    "\n",
    "### Task:\n",
    "1. Plot the quadratic function $( y = x^2 $) for $( x $) values ranging from $(-10$) to $(10$).\n",
    "2. Use a dashed red line for the plot.\n",
    "3. Add a legend with the label \"y = x^2\".\n",
    "4. Customize the x-axis and y-axis limits to display the plot properly.\n",
    "5. Add a title and axis labels.\n"
   ]
  },
  {
   "cell_type": "code",
   "execution_count": null,
   "id": "bf7958d8-6115-45e2-a947-a26437081398",
   "metadata": {},
   "outputs": [],
   "source": []
  },
  {
   "cell_type": "markdown",
   "id": "1245a9d1",
   "metadata": {},
   "source": [
    "# Let's try to use matplot lib with pandas to plot some data\n",
    "We load a file with the export of commodities"
   ]
  },
  {
   "cell_type": "code",
   "execution_count": null,
   "id": "8307ee6d",
   "metadata": {
    "tags": []
   },
   "outputs": [],
   "source": [
    "import pandas as pd"
   ]
  },
  {
   "cell_type": "code",
   "execution_count": null,
   "id": "8c9912d1",
   "metadata": {
    "tags": []
   },
   "outputs": [],
   "source": [
    "url_value = 'https://raw.githubusercontent.com/pal-dev-labs/Python-for-Economic-Applications-2024-2025/refs/heads/main/Data/Europe_Value.csv'\n",
    "export_value=pd.read_csv(url_value)"
   ]
  },
  {
   "cell_type": "code",
   "execution_count": null,
   "id": "825a3a47",
   "metadata": {
    "tags": []
   },
   "outputs": [],
   "source": [
    "export_value"
   ]
  },
  {
   "cell_type": "code",
   "execution_count": null,
   "id": "d726b67a",
   "metadata": {
    "tags": []
   },
   "outputs": [],
   "source": [
    "export_value.info()"
   ]
  },
  {
   "cell_type": "markdown",
   "id": "b7cb9889-3739-4ac0-89ed-3d083f823f21",
   "metadata": {},
   "source": [
    "I want to plot export of crustaceans and fishes for Italy"
   ]
  },
  {
   "cell_type": "code",
   "execution_count": null,
   "id": "be078f1a",
   "metadata": {
    "tags": []
   },
   "outputs": [],
   "source": [
    "export_value=export_value.dropna(axis=1)"
   ]
  },
  {
   "cell_type": "code",
   "execution_count": null,
   "id": "3862b888",
   "metadata": {
    "tags": []
   },
   "outputs": [],
   "source": [
    "export_value"
   ]
  },
  {
   "cell_type": "code",
   "execution_count": null,
   "id": "ef579693",
   "metadata": {
    "tags": []
   },
   "outputs": [],
   "source": [
    "export_value[ export_value['Land Area']=='Italy']"
   ]
  },
  {
   "cell_type": "code",
   "execution_count": null,
   "id": "b85de8b6",
   "metadata": {
    "tags": []
   },
   "outputs": [],
   "source": [
    "filter_italy=export_value['Land Area']=='Italy'\n",
    "export_italy=export_value[filter_italy]\n",
    "export_italy"
   ]
  },
  {
   "cell_type": "markdown",
   "id": "49809e0c-9160-4c02-8ac7-25bedad182f6",
   "metadata": {},
   "source": [
    "We can get transform the value into an ndarray (Numpy object) with the method **values**"
   ]
  },
  {
   "cell_type": "code",
   "execution_count": null,
   "id": "52f2726c",
   "metadata": {
    "tags": []
   },
   "outputs": [],
   "source": [
    "\n",
    "export_italy.iloc[1,3:].values"
   ]
  },
  {
   "cell_type": "code",
   "execution_count": null,
   "id": "3bb83a61",
   "metadata": {
    "tags": []
   },
   "outputs": [],
   "source": [
    "exp_fish = export_italy.iloc[1,3:].values\n",
    "exp_crustaceans=export_italy.iloc[0,3:].values"
   ]
  },
  {
   "cell_type": "code",
   "execution_count": null,
   "id": "7bd12c82",
   "metadata": {
    "tags": []
   },
   "outputs": [],
   "source": [
    "exp_crustaceans"
   ]
  },
  {
   "cell_type": "code",
   "execution_count": null,
   "id": "ed55a971",
   "metadata": {
    "tags": []
   },
   "outputs": [],
   "source": [
    "plt.figure(figsize=(6,6))\n",
    "plt.title('Italy exports')\n",
    "plt.xlabel('Year')\n",
    "plt.ylabel('Value (Thousand Euro)')\n",
    "plt.plot(exp_fish, 'o-', label='Fish')\n",
    "plt.plot(exp_crustaceans, 'o-', label='Crustaceans')\n",
    "plt.legend()"
   ]
  },
  {
   "cell_type": "markdown",
   "id": "5fd4ef96",
   "metadata": {},
   "source": [
    "How do I fix the abscissa? I create a list of years ad hoc"
   ]
  },
  {
   "cell_type": "code",
   "execution_count": null,
   "id": "3e407a58",
   "metadata": {
    "tags": []
   },
   "outputs": [],
   "source": [
    "exp_fish.shape[0]"
   ]
  },
  {
   "cell_type": "code",
   "execution_count": null,
   "id": "fbf7bfac",
   "metadata": {
    "tags": []
   },
   "outputs": [],
   "source": [
    "num_value = exp_fish.shape[0]\n",
    "years = np.arange(2000,2000+num_value)"
   ]
  },
  {
   "cell_type": "code",
   "execution_count": null,
   "id": "1bfe11aa",
   "metadata": {
    "tags": []
   },
   "outputs": [],
   "source": [
    "years"
   ]
  },
  {
   "cell_type": "code",
   "execution_count": null,
   "id": "8f43233b",
   "metadata": {
    "tags": []
   },
   "outputs": [],
   "source": [
    "plt.title('Italy exports')\n",
    "plt.xlabel('Year')\n",
    "plt.ylabel('Value (Millions Euro)')\n",
    "plt.plot(years,exp_fish, 'o-', label='Fish')\n",
    "plt.plot(years,exp_crustaceans, 'o-', label='Crustaceans')\n",
    "plt.legend()"
   ]
  },
  {
   "cell_type": "markdown",
   "id": "9aa47b93",
   "metadata": {},
   "source": [
    "# Exercise\n",
    "Plot the exports of fish and shellfish for France and Spain"
   ]
  },
  {
   "cell_type": "code",
   "execution_count": null,
   "id": "6c9cd84c",
   "metadata": {},
   "outputs": [],
   "source": []
  },
  {
   "cell_type": "markdown",
   "id": "e3f22b00",
   "metadata": {},
   "source": [
    "# Now I want to plot the export of fish for all EU countries"
   ]
  },
  {
   "cell_type": "code",
   "execution_count": null,
   "id": "54af3f56",
   "metadata": {
    "tags": []
   },
   "outputs": [],
   "source": [
    "export_value.head(10)"
   ]
  },
  {
   "cell_type": "markdown",
   "id": "c7fde6b8-39c5-4e98-b99c-4653c89ba04a",
   "metadata": {},
   "source": [
    "First, I create a filter for **Fish** in Commodities **AND** **Export** in Trade Flow"
   ]
  },
  {
   "cell_type": "code",
   "execution_count": null,
   "id": "ac8747f5",
   "metadata": {
    "tags": []
   },
   "outputs": [],
   "source": [
    "fish_filter = export_value['Commodity']=='Fish'\n",
    "trade_filter = export_value['Trade flow']=='Export'\n",
    "# I create the total filter with and operator\n",
    "tot_filter = fish_filter & trade_filter\n",
    "\n",
    "export_value_fish = export_value[tot_filter]"
   ]
  },
  {
   "cell_type": "code",
   "execution_count": null,
   "id": "0bbadcbc",
   "metadata": {
    "tags": []
   },
   "outputs": [],
   "source": [
    "export_value_fish.info"
   ]
  },
  {
   "cell_type": "markdown",
   "id": "7e66a2ac",
   "metadata": {},
   "source": [
    "I have many countries. I want to plot the **top 10 exporters**\n",
    "\n",
    "How do I select them? I have to identify a criterion.  \n",
    "I first consider the average export between 2000 and 2015 for each countries and then select the **top 10 countries with the highest average export**\n"
   ]
  },
  {
   "cell_type": "markdown",
   "id": "1422d47a-81e7-4899-a23a-a9a6f11a88e4",
   "metadata": {},
   "source": [
    "Let's consider the export for each countries. In the rows we have the country and in the column the level of export"
   ]
  },
  {
   "cell_type": "code",
   "execution_count": null,
   "id": "99ae3649-f713-4b6b-9bb7-4fca663368fb",
   "metadata": {},
   "outputs": [],
   "source": [
    "export_value_fish.iloc[:, 3:]"
   ]
  },
  {
   "cell_type": "markdown",
   "id": "22c83185-5c65-4b4b-8efe-db035c2c6a57",
   "metadata": {},
   "source": [
    "We can use the method **mean(axis=1)** to calculate the average.  \n",
    "Axis=1 mean that it fix a row, and then perform the average through all columns  \n",
    "Axis = 0 mean that it fix a column, and then perform the average through all rows "
   ]
  },
  {
   "cell_type": "code",
   "execution_count": null,
   "id": "43848f39",
   "metadata": {
    "tags": []
   },
   "outputs": [],
   "source": [
    "export_averages = export_value_fish.iloc[:, 3:].mean(axis=1)\n",
    "export_averages"
   ]
  },
  {
   "cell_type": "markdown",
   "id": "cb983645-3f0d-4546-a431-a87f7048713b",
   "metadata": {},
   "source": [
    "Now we can **add a column** with the averages to our dataframe"
   ]
  },
  {
   "cell_type": "code",
   "execution_count": null,
   "id": "35683efc",
   "metadata": {
    "tags": []
   },
   "outputs": [],
   "source": [
    "export_value_fish['Mean']=export_averages"
   ]
  },
  {
   "cell_type": "code",
   "execution_count": null,
   "id": "d3c29e2c",
   "metadata": {
    "tags": []
   },
   "outputs": [],
   "source": [
    "export_value_fish"
   ]
  },
  {
   "cell_type": "markdown",
   "id": "babc03c2-4262-459e-9c29-ac65612f8dd7",
   "metadata": {},
   "source": [
    "Now I want to extract the first 10 exporter  \n",
    "I start sorting the rows"
   ]
  },
  {
   "cell_type": "code",
   "execution_count": null,
   "id": "d6db8ef0",
   "metadata": {
    "tags": []
   },
   "outputs": [],
   "source": [
    "exp_sorted = export_value_fish.sort_values('Mean', ascending=False)"
   ]
  },
  {
   "cell_type": "code",
   "execution_count": null,
   "id": "7e1d9a47",
   "metadata": {
    "tags": []
   },
   "outputs": [],
   "source": [
    "exp_sorted[['Land Area','Mean']]"
   ]
  },
  {
   "cell_type": "markdown",
   "id": "6b9280cf-6086-4d95-89f3-c1c18d8d2c4e",
   "metadata": {},
   "source": [
    "We extract the first 10 rows"
   ]
  },
  {
   "cell_type": "code",
   "execution_count": null,
   "id": "5f2faf38",
   "metadata": {
    "tags": []
   },
   "outputs": [],
   "source": [
    "exp_sor_final = exp_sorted.iloc[0:10,:]\n",
    "exp_sor_final[['Land Area','Mean']]"
   ]
  },
  {
   "cell_type": "markdown",
   "id": "a4649ca6",
   "metadata": {},
   "source": [
    "How do I plot them? Let's see the first one"
   ]
  },
  {
   "cell_type": "code",
   "execution_count": null,
   "id": "a4a865d1",
   "metadata": {},
   "outputs": [],
   "source": []
  },
  {
   "cell_type": "code",
   "execution_count": null,
   "id": "d0eef752",
   "metadata": {
    "tags": []
   },
   "outputs": [],
   "source": [
    "plt.plot(years,exp_sor_final.iloc[0,3:19])"
   ]
  },
  {
   "cell_type": "markdown",
   "id": "9d9049dc",
   "metadata": {},
   "source": [
    "I want to plot them all"
   ]
  },
  {
   "cell_type": "code",
   "execution_count": null,
   "id": "1a54ac07",
   "metadata": {
    "tags": []
   },
   "outputs": [],
   "source": [
    "# I create an ndarray with the name of the countries\n",
    "countries = exp_sor_final['Land Area'].values\n",
    "countries"
   ]
  },
  {
   "cell_type": "code",
   "execution_count": null,
   "id": "8c820f6f",
   "metadata": {
    "tags": []
   },
   "outputs": [],
   "source": [
    "index = 0\n",
    "for i in countries:\n",
    "    plt.plot(years,exp_sor_final.iloc[index,3:19])\n",
    "    index += 1"
   ]
  },
  {
   "cell_type": "markdown",
   "id": "c76b8514",
   "metadata": {},
   "source": [
    "Let's be a little nicer"
   ]
  },
  {
   "cell_type": "code",
   "execution_count": null,
   "id": "84cb67e6",
   "metadata": {
    "tags": []
   },
   "outputs": [],
   "source": [
    "plt.figure(figsize=(11,8))\n",
    "index = 0\n",
    "for i in countries:\n",
    "    plt.plot(years,exp_sor_final.iloc[index,3:19], 'o-', label=i)\n",
    "    index += 1\n",
    "plt.title('Top 10 European exports')\n",
    "plt.xlabel('Year')\n",
    "plt.ylabel('Value (Millions Euro)')\n",
    "plt.legend()"
   ]
  },
  {
   "cell_type": "code",
   "execution_count": null,
   "id": "ff50a209",
   "metadata": {},
   "outputs": [],
   "source": []
  },
  {
   "cell_type": "markdown",
   "id": "ae1dbb63",
   "metadata": {},
   "source": [
    "# SCATTER PLOT"
   ]
  },
  {
   "cell_type": "markdown",
   "id": "0cbcf779",
   "metadata": {},
   "source": [
    "Another commonly used type of graph is the SCATTER PLOT. Instead of points joined by line segments, here the points are represented individually with a dot, circle, or other shape."
   ]
  },
  {
   "cell_type": "markdown",
   "id": "5965b4b1",
   "metadata": {},
   "source": [
    "# SCATTER PLOT CON ``plt.plot``"
   ]
  },
  {
   "cell_type": "code",
   "execution_count": null,
   "id": "14c95225",
   "metadata": {
    "tags": []
   },
   "outputs": [],
   "source": [
    "x = np.linspace(0, 10, 30)\n",
    "y = np.sin(x)\n",
    "\n",
    "plt.plot(x, y, 'o', color='black');"
   ]
  },
  {
   "cell_type": "markdown",
   "id": "58f4fd01",
   "metadata": {},
   "source": [
    "Let's see the possible markers"
   ]
  },
  {
   "cell_type": "code",
   "execution_count": null,
   "id": "45924700",
   "metadata": {
    "tags": []
   },
   "outputs": [],
   "source": [
    "rng = np.random.RandomState(0)\n",
    "for marker in ['o', '.', ',', 'x', '+', 'v', '^', '<', '>', 's', 'd']:\n",
    "    plt.plot(rng.rand(5), rng.rand(5), marker,\n",
    "             label=\"marker='{0}'\".format(marker))\n",
    "plt.legend(numpoints=1)\n",
    "plt.xlim(0, 1.8);"
   ]
  },
  {
   "cell_type": "markdown",
   "id": "8744cdc9",
   "metadata": {},
   "source": [
    "More commands"
   ]
  },
  {
   "cell_type": "code",
   "execution_count": null,
   "id": "de2a075f",
   "metadata": {
    "tags": []
   },
   "outputs": [],
   "source": [
    "plt.plot(x, y, '-p', color='gray',\n",
    "         markersize=11, linewidth=4,\n",
    "         markerfacecolor='white',\n",
    "         markeredgecolor='blue',\n",
    "         markeredgewidth=2)\n",
    "plt.ylim(-1.2, 1.2);"
   ]
  },
  {
   "cell_type": "markdown",
   "id": "bf527f96",
   "metadata": {},
   "source": [
    "## Scatter Plots with ``plt.scatter``"
   ]
  },
  {
   "cell_type": "code",
   "execution_count": null,
   "id": "581223f6",
   "metadata": {
    "tags": []
   },
   "outputs": [],
   "source": [
    "plt.scatter(x, y, marker='o');"
   ]
  },
  {
   "cell_type": "markdown",
   "id": "d0d1ddbe",
   "metadata": {},
   "source": [
    "The main difference between ``plt.scatter`` and ``plt.plot`` is that the former can be used to create scatter plots where the properties of each individual point (size, face color, edge color, etc. .) can be individually controlled or mapped to data.\n",
    "\n",
    "Let's see an example\n",
    "To better see the overlaid results, we will also use the ``alpha`` keyword to adjust the transparency level:"
   ]
  },
  {
   "cell_type": "code",
   "execution_count": null,
   "id": "797b6f97",
   "metadata": {
    "tags": []
   },
   "outputs": [],
   "source": [
    "rng.randn(100)"
   ]
  },
  {
   "cell_type": "code",
   "execution_count": null,
   "id": "345a55ff",
   "metadata": {
    "tags": []
   },
   "outputs": [],
   "source": [
    "rng = np.random.RandomState(0)\n",
    "x = rng.randn(100) # generate 100 random numbers between -1 and 1\n",
    "y = rng.randn(100)\n",
    "colors = rng.rand(100) # generate 100 random numbers betwee 0 and 1\n",
    "sizes = 1000 * rng.rand(100) # generate 100 random numbers betwee 0 and 1000\n",
    "\n",
    "plt.scatter(x, y, c=colors, s=sizes, alpha=0.2,\n",
    "            cmap='viridis')\n",
    "plt.colorbar();  # show color scale"
   ]
  },
  {
   "cell_type": "markdown",
   "id": "f0fe162e",
   "metadata": {},
   "source": [
    "Note that the color argument is automatically mapped to a color scale (shown here by the ``colorbar()`` command), and that the size argument is given in pixels.\n",
    "In this way, the color and size of the dots can be used to convey information in the visualization, in order to display multidimensional data.\n",
    "\n",
    "For example, we could use iris data from Scikit-Learn Module, where each sample is one of three types of flowers whose petal and sepal size has been carefully measured:"
   ]
  },
  {
   "cell_type": "code",
   "execution_count": null,
   "id": "5cd8e3e1",
   "metadata": {
    "tags": []
   },
   "outputs": [],
   "source": [
    "from sklearn.datasets import load_iris\n",
    "iris = load_iris()\n",
    "features = iris.data.T\n",
    "\n",
    "# Create a DataFrame with the target data and labels\n",
    "df = pd.DataFrame(data=iris.data, columns=iris.feature_names)\n",
    "df['target'] = iris.target\n",
    "# Add a \"species\" column that maps target numbers to their respective species\n",
    "df['species'] = df['target'].map({0: iris.target_names[0], 1: iris.target_names[1], 2: iris.target_names[2]})\n",
    "# Remove the target column, which is not needed\n",
    "df = df.drop('target', axis=1)\n",
    "\n",
    "df"
   ]
  },
  {
   "cell_type": "code",
   "execution_count": null,
   "id": "719c91f7",
   "metadata": {
    "tags": []
   },
   "outputs": [],
   "source": [
    "df['species'].unique()"
   ]
  },
  {
   "cell_type": "code",
   "execution_count": null,
   "id": "d4343d32",
   "metadata": {
    "tags": []
   },
   "outputs": [],
   "source": [
    "plt.scatter(features[0], features[1], alpha=0.4,\n",
    "            s=100*features[3], c=iris.target, cmap='viridis')\n",
    "plt.xlabel(iris.feature_names[0])\n",
    "plt.ylabel(iris.feature_names[1]);"
   ]
  },
  {
   "cell_type": "code",
   "execution_count": null,
   "id": "5c6ebae2-ff62-4a07-a600-42e8e9a36320",
   "metadata": {},
   "outputs": [],
   "source": []
  },
  {
   "cell_type": "code",
   "execution_count": null,
   "id": "9d81d8af",
   "metadata": {},
   "outputs": [],
   "source": []
  },
  {
   "cell_type": "markdown",
   "id": "288c83a7",
   "metadata": {},
   "source": [
    "# Three-Dimensional Plotting in Matplotlib"
   ]
  },
  {
   "cell_type": "markdown",
   "id": "13e432cb",
   "metadata": {},
   "source": [
    "Matplotlib was initially designed with only two-dimensional printing in mind.\n",
    "Three-dimensional plots are enabled by importing the ``mplot3d`` toolkit, included with the main Matplotlib installation:"
   ]
  },
  {
   "cell_type": "code",
   "execution_count": null,
   "id": "1b82ecaa",
   "metadata": {
    "tags": []
   },
   "outputs": [],
   "source": [
    "from mpl_toolkits import mplot3d"
   ]
  },
  {
   "cell_type": "code",
   "execution_count": null,
   "id": "a890f05d",
   "metadata": {
    "tags": []
   },
   "outputs": [],
   "source": [
    "fig = plt.figure()\n",
    "ax = plt.axes(projection='3d')"
   ]
  },
  {
   "cell_type": "markdown",
   "id": "749151ee",
   "metadata": {},
   "source": [
    "## Three-dimensional points and lines\n",
    "\n",
    "The most basic three-dimensional graph is a line or collection of scatter plots created from sets of triples (x, y, z).\n",
    "In analogy with the more common two-dimensional plots discussed above, these can be created using the ``ax.plot3D`` and ``ax.scatter3D`` functions.\n",
    "\n",
    "Let's try drawing a trigonometric spiral, along with some points drawn randomly near the line:"
   ]
  },
  {
   "cell_type": "code",
   "execution_count": null,
   "id": "7bbe34d3",
   "metadata": {
    "tags": []
   },
   "outputs": [],
   "source": [
    "plt.figure(figsize=(10,10))\n",
    "\n",
    "ax = plt.axes(projection='3d')\n",
    "\n",
    "# Data for a three-dimensional line\n",
    "zline = np.linspace(0, 15, 1000)\n",
    "xline = np.sin(zline)\n",
    "yline = np.cos(zline)\n",
    "ax.plot3D(xline, yline, zline, 'gray')\n",
    "\n",
    "# Data for three-dimensional scattered points\n",
    "zdata = 15 * np.random.random(100)\n",
    "xdata = np.sin(zdata) + 0.1 * np.random.randn(100)\n",
    "ydata = np.cos(zdata) + 0.1 * np.random.randn(100)\n",
    "ax.scatter3D(xdata, ydata, zdata, c=zdata, cmap='Greens');"
   ]
  },
  {
   "cell_type": "markdown",
   "id": "6fc15b48",
   "metadata": {},
   "source": [
    "Note that by default, scatter points have their transparency adjusted to give a sense of depth to the page.\n",
    "While the three-dimensional effect is sometimes difficult to see within a static image, an interactive view can lead to some nice intuition about the arrangement of dots."
   ]
  },
  {
   "cell_type": "code",
   "execution_count": null,
   "id": "a774fc3b",
   "metadata": {
    "tags": []
   },
   "outputs": [],
   "source": [
    "def f(x, y):\n",
    "    return np.sin(np.sqrt(x ** 2 + y ** 2))\n",
    "\n",
    "x = np.linspace(-6, 6, 30)\n",
    "y = np.linspace(-6, 6, 30)\n",
    "\n",
    "X, Y = np.meshgrid(x, y)\n",
    "Z = f(X, Y)"
   ]
  },
  {
   "cell_type": "code",
   "execution_count": null,
   "id": "17c98c1d",
   "metadata": {},
   "outputs": [],
   "source": [
    "# %matplotlib inline\n",
    "# %matplotlib notebook\n"
   ]
  },
  {
   "cell_type": "code",
   "execution_count": null,
   "id": "628c8b8c",
   "metadata": {
    "tags": []
   },
   "outputs": [],
   "source": [
    "%matplotlib inline\n",
    "fig = plt.figure()\n",
    "#plt.figure(figsize=(10,10))\n",
    "ax = plt.axes(projection='3d')\n",
    "ax.contour3D(X, Y, Z, 50, cmap='viridis')\n",
    "ax.set_xlabel('x')\n",
    "ax.set_ylabel('y')\n",
    "ax.set_zlabel('z');"
   ]
  },
  {
   "cell_type": "markdown",
   "id": "8a763eff",
   "metadata": {},
   "source": [
    "Sometimes the default viewing angle is not optimal, in which case we can use the view_init method to set the elevation and azimuth angles. In the following example, we will use an elevation of 60 degrees (i.e. 60 degrees above the x-y plane) and an azimuth of 35 degrees (i.e. rotated 35 degrees counterclockwise from the z-axis):"
   ]
  },
  {
   "cell_type": "markdown",
   "id": "11bdcb23",
   "metadata": {},
   "source": [
    "# Density and Contour Plots"
   ]
  },
  {
   "cell_type": "code",
   "execution_count": null,
   "id": "7591a88c",
   "metadata": {
    "tags": []
   },
   "outputs": [],
   "source": [
    "def f(x, y):\n",
    "    return np.sin(x) ** 10 + np.cos(10 + y * x) * np.cos(x)"
   ]
  },
  {
   "cell_type": "code",
   "execution_count": null,
   "id": "17753f50",
   "metadata": {
    "tags": []
   },
   "outputs": [],
   "source": [
    "x = np.linspace(0, 5, 50)\n",
    "y = np.linspace(0, 5, 40)\n",
    "\n",
    "X, Y = np.meshgrid(x, y)\n",
    "Z = f(X, Y)"
   ]
  },
  {
   "cell_type": "code",
   "execution_count": null,
   "id": "cedbdf07",
   "metadata": {
    "tags": []
   },
   "outputs": [],
   "source": [
    "plt.figure(figsize=(10,10))\n",
    "ax = plt.axes(projection='3d')\n",
    "ax.plot_surface(X, Y, Z, rstride=1, cstride=1,\n",
    "                cmap='ocean', edgecolor='none')\n",
    "ax.set_title('surface');"
   ]
  },
  {
   "cell_type": "markdown",
   "id": "a42ef3c5",
   "metadata": {},
   "source": [
    "A contour plot can be created with the ``plt.contour`` function.\n",
    "It takes three arguments: a grid of *x* values, a grid of *y* values, and a grid of *z* values.\n",
    "The *x* and *y* values represent the positions on the graph and the *z* values will be represented by the contour levels.\n",
    "The simplest way to prepare such data is to use the ``np.meshgrid`` function, which constructs two-dimensional grids from one-dimensional arrays:"
   ]
  },
  {
   "cell_type": "code",
   "execution_count": null,
   "id": "676e3c00",
   "metadata": {
    "tags": []
   },
   "outputs": [],
   "source": [
    "plt.contour(X, Y, Z, colors='black');"
   ]
  },
  {
   "cell_type": "code",
   "execution_count": null,
   "id": "478ffa4f",
   "metadata": {
    "tags": []
   },
   "outputs": [],
   "source": [
    "plt.contour(X, Y, Z, 20, cmap='RdGy');"
   ]
  },
  {
   "cell_type": "markdown",
   "id": "dcf37761",
   "metadata": {},
   "source": [
    "The color bar makes it clear that the black regions are \"peaks\", while the red regions are \"valleys\"."
   ]
  },
  {
   "cell_type": "code",
   "execution_count": null,
   "id": "528bb70f-b54c-44e4-bc2d-145e4a1c0ce2",
   "metadata": {},
   "outputs": [],
   "source": []
  },
  {
   "cell_type": "markdown",
   "id": "023ead58-c039-47ee-b6a3-143c43268d2b",
   "metadata": {},
   "source": [
    "# INTRODUCING TO STATISTICAL TOOLS"
   ]
  },
  {
   "cell_type": "code",
   "execution_count": null,
   "id": "8b9073a5-2b86-41f0-8b7a-dbb2f3f4ef42",
   "metadata": {},
   "outputs": [],
   "source": []
  },
  {
   "cell_type": "code",
   "execution_count": null,
   "id": "ef83c872-cd83-4488-a3f7-589a8a9b17b6",
   "metadata": {},
   "outputs": [],
   "source": [
    "url = 'https://raw.githubusercontent.com/pal-dev-labs/Python-for-Economic-Applications-2024-2025/refs/heads/main/Data/Advertising.csv'\n",
    "advertising = pd.read_csv(url, usecols=[1,2,3,4])\n",
    "advertising.info()"
   ]
  },
  {
   "cell_type": "code",
   "execution_count": null,
   "id": "71576e8e-640f-4ef7-a32a-9acb43d2080d",
   "metadata": {},
   "outputs": [],
   "source": [
    "advertising"
   ]
  },
  {
   "cell_type": "markdown",
   "id": "464b5a41-8582-4f04-9137-c6f15cd40be1",
   "metadata": {},
   "source": [
    "The **Advertising data set** consists of the **sales** of that product in 200 different markets, along with **advertising budgets** for the product in each of those markets for three different media: **TV, radio, and newspaper**.  \n",
    "\n",
    "We would like to have a prediction for **Sales** based on the 3 predictors **TV, Radio, and Newspaper** budgets"
   ]
  },
  {
   "cell_type": "markdown",
   "id": "9a308d7f-ea82-46bb-a8ae-860c30a2a7ab",
   "metadata": {},
   "source": [
    "Let's try to have an understanding of the potential relations between Sales and predictors"
   ]
  },
  {
   "cell_type": "code",
   "execution_count": null,
   "id": "6ab2d8f7-c648-4a13-a864-d2f17acb0898",
   "metadata": {},
   "outputs": [],
   "source": [
    "plt.figure(figsize=(6,4))\n",
    "plt.scatter(advertising['TV'].values, advertising['Sales'].values)\n",
    "plt.xlabel(\"TV (x1000€)\")\n",
    "plt.ylabel(\"Sales (x1000 Unit)\")\n",
    "plt.title('Sales vs investment in TV advertising')"
   ]
  },
  {
   "cell_type": "code",
   "execution_count": null,
   "id": "76d85d11-71be-43fd-9330-d89adb377975",
   "metadata": {},
   "outputs": [],
   "source": []
  },
  {
   "cell_type": "code",
   "execution_count": null,
   "id": "4b492441-35da-465c-b00c-f9979b65620f",
   "metadata": {},
   "outputs": [],
   "source": [
    "plt.figure(figsize=(6,4))\n",
    "plt.scatter(advertising['Radio'].values, advertising['Sales'].values)\n",
    "plt.xlabel(\"Radio (x1000€)\")\n",
    "plt.ylabel(\"Sales (x1000 Unit)\")\n",
    "plt.title('Sales vs investment in Radio advertising')"
   ]
  },
  {
   "cell_type": "code",
   "execution_count": null,
   "id": "5eb21e6f-1474-4749-899a-b507dfd6f17a",
   "metadata": {},
   "outputs": [],
   "source": []
  },
  {
   "cell_type": "code",
   "execution_count": null,
   "id": "28b86367-6496-42cc-86d7-472b2b602c86",
   "metadata": {},
   "outputs": [],
   "source": [
    "plt.figure(figsize=(6,4))\n",
    "plt.scatter(advertising['Newspaper'].values, advertising['Sales'].values)\n",
    "plt.xlabel(\"Newspaper (x1000€)\")\n",
    "plt.ylabel(\"Sales (x1000 Unit)\")\n",
    "plt.title('Sales vs investment in Newspaper advertising')"
   ]
  },
  {
   "cell_type": "markdown",
   "id": "ed1c476c-57c1-47f3-826d-03919f82c900",
   "metadata": {},
   "source": [
    "## We can also use Seaborn Library\n",
    "Seaborn is a Python data visualization library based on matplotlib. It provides a high-level interface for drawing attractive and informative statistical graphics."
   ]
  },
  {
   "cell_type": "code",
   "execution_count": null,
   "id": "ba424d17-572c-471d-b48d-3cd0ebcecc4f",
   "metadata": {},
   "outputs": [],
   "source": [
    "import seaborn as sns\n",
    "# Seaborn is a Python data visualization library based on matplotlib. \n",
    "# It provides a high-level interface for drawing attractive and informative statistical graphics.\n",
    "sns.set_theme()"
   ]
  },
  {
   "cell_type": "code",
   "execution_count": null,
   "id": "f3b1c395-8f3e-436e-b368-91ba6ccb2418",
   "metadata": {},
   "outputs": [],
   "source": [
    "\n",
    "# let's have a look a the data first...\n",
    "sns.pairplot(advertising, height=1.5);"
   ]
  },
  {
   "cell_type": "markdown",
   "id": "235668b1-004c-440e-a10f-b33f3c170833",
   "metadata": {},
   "source": [
    "We would like to use a **Statistical Learning Algorithm** to identify a nice predictor.\n",
    "\n",
    "It means that, if we identify Sales with variable $Y$ and predictors with variable $X$\n",
    "technically speaking, we are looking for a function $h: X → Y$."
   ]
  },
  {
   "cell_type": "markdown",
   "id": "1f68af1a-da60-46e9-8694-c846f246fe95",
   "metadata": {},
   "source": [
    "We can start with the function\n",
    "$h(x) = y = w_0 + w_1 x$\n",
    "\n",
    "Our model is so a LINEAR REGRESSION model with parameters $w_0, w_1$"
   ]
  },
  {
   "cell_type": "markdown",
   "id": "7126aebe-588a-4142-9430-240ba035b789",
   "metadata": {},
   "source": [
    "Let's identify the TRAINING SET"
   ]
  },
  {
   "cell_type": "code",
   "execution_count": null,
   "id": "f4f0cf45-c234-401a-a407-5dd5f22b47b1",
   "metadata": {},
   "outputs": [],
   "source": [
    "x_train = advertising['TV'].values\n",
    "x_train =x_train.reshape(-1,1)\n",
    "# target\n",
    "y_train = advertising['Sales'].values\n",
    "y_train =y_train.reshape(-1,1)"
   ]
  },
  {
   "cell_type": "code",
   "execution_count": null,
   "id": "d6925f24-199e-4469-beb1-a4475a0303a9",
   "metadata": {},
   "outputs": [],
   "source": [
    "y_train[0:10]"
   ]
  },
  {
   "cell_type": "code",
   "execution_count": null,
   "id": "e59ba058-3934-41b9-99f4-ea1dbe60eac6",
   "metadata": {},
   "outputs": [],
   "source": [
    "print(x_train.shape, y_train.shape)"
   ]
  },
  {
   "cell_type": "markdown",
   "id": "39192923-0e3e-41e8-91ff-d42b6a26a740",
   "metadata": {},
   "source": [
    "Let's import the **LinearRegression** class from the **sklearn** module"
   ]
  },
  {
   "cell_type": "code",
   "execution_count": null,
   "id": "886df506-f827-4d2a-9460-55b7506e538d",
   "metadata": {},
   "outputs": [],
   "source": [
    "from sklearn.linear_model import LinearRegression\n"
   ]
  },
  {
   "cell_type": "markdown",
   "id": "df23b9e2-1fb7-4e65-8d4b-17344b9e5670",
   "metadata": {},
   "source": [
    "Create the model"
   ]
  },
  {
   "cell_type": "code",
   "execution_count": null,
   "id": "d53be0c2-a950-4150-8d2e-938b5e2601ed",
   "metadata": {},
   "outputs": [],
   "source": [
    "model = LinearRegression()"
   ]
  },
  {
   "cell_type": "markdown",
   "id": "93242d57-2eec-4e20-8fe1-f252e5a18c84",
   "metadata": {},
   "source": [
    "Training phase"
   ]
  },
  {
   "cell_type": "code",
   "execution_count": null,
   "id": "8101dd63-7ec4-4aad-9da5-461320434eb3",
   "metadata": {},
   "outputs": [],
   "source": [
    "model.fit(x_train, y_train)"
   ]
  },
  {
   "cell_type": "markdown",
   "id": "6bf554ea-52d9-42d4-b99d-ea84c3aa1836",
   "metadata": {},
   "source": [
    "Let's print the values of the coefficients"
   ]
  },
  {
   "cell_type": "code",
   "execution_count": null,
   "id": "82f47954-747d-4b13-9c4d-b63362e7f1f8",
   "metadata": {},
   "outputs": [],
   "source": [
    "w0 = model.intercept_[0]\n",
    "w1 = model.coef_[0][0]\n",
    "\n",
    "print('Il valore di w0 è: ',w0)\n",
    "print('Il valore di w1 è: ',w1)\n"
   ]
  },
  {
   "cell_type": "code",
   "execution_count": null,
   "id": "3d175392-f56d-4234-ac8c-c91a946d855f",
   "metadata": {},
   "outputs": [],
   "source": [
    "def h(x, w0, w1):\n",
    "    return w0+w1*x"
   ]
  },
  {
   "cell_type": "code",
   "execution_count": null,
   "id": "2784e6e7-67a9-4f2d-aa7b-a28fe3c06eac",
   "metadata": {},
   "outputs": [],
   "source": [
    "p2"
   ]
  },
  {
   "cell_type": "code",
   "execution_count": null,
   "id": "8aef8bfd-1ae6-43ff-8b28-8cceeb86700d",
   "metadata": {},
   "outputs": [],
   "source": [
    "### plt.figure(figsize=(8,5))\n",
    "plt.scatter(advertising['TV'].values, advertising['Sales'].values)\n",
    "plt.xlabel(\"TV (x1000€)\")\n",
    "plt.ylabel(\"Sales (x1000 Unit)\")\n",
    "plt.title('Sales vs investment in TV advertising')\n",
    "# punti x \n",
    "x0 = 0; x1 = 300\n",
    "\n",
    "p1 = np.array([x0,x1])  # punto (x0, x1)\n",
    "p2 = np.array([h(x0,w0,w1),h(x1,w0,w1)]) # punto (h(x0), h(x1))\n",
    "\n",
    "plt.plot(p1,p2, '-r', lw=2, label='h(x)='+str(w0)+' +'+str(w1)+'x')\n",
    "plt.legend();"
   ]
  },
  {
   "cell_type": "code",
   "execution_count": null,
   "id": "89e11ad2-935a-4853-b891-fcad69bf01a0",
   "metadata": {},
   "outputs": [],
   "source": []
  },
  {
   "cell_type": "markdown",
   "id": "a0910637-f15b-4452-826c-59bd65490ade",
   "metadata": {},
   "source": [
    "Let's try to make some **PREDICTIONS**\n",
    "\n",
    "How many sales can I make if I invest €134,000 in TV advertising? And if I invest €230,000?"
   ]
  },
  {
   "cell_type": "code",
   "execution_count": null,
   "id": "b06d24f4-085a-4ee2-b52e-f49fa9f41722",
   "metadata": {},
   "outputs": [],
   "source": [
    "xp = np.array([134,230]).reshape(-1,1)\n",
    "yp = model.predict(xp)"
   ]
  },
  {
   "cell_type": "code",
   "execution_count": null,
   "id": "086f5076-78be-4590-b6aa-bd1cd36ef820",
   "metadata": {},
   "outputs": [],
   "source": [
    "yp"
   ]
  },
  {
   "cell_type": "code",
   "execution_count": null,
   "id": "cf906ef3-ea19-4200-8107-cf42bf690ed4",
   "metadata": {},
   "outputs": [],
   "source": []
  },
  {
   "cell_type": "code",
   "execution_count": null,
   "id": "ce2a2928-94bc-4ff1-bc48-471270b07666",
   "metadata": {},
   "outputs": [],
   "source": [
    "plt.figure(figsize=(8,5))\n",
    "plt.scatter(advertising['TV'].values, advertising['Sales'].values)\n",
    "plt.xlabel(\"TV (x1000€)\")\n",
    "plt.ylabel(\"Sales (x1000 Unit)\")\n",
    "plt.title('Sales vs investment in TV advertising')\n",
    "# punti x \n",
    "x0 = 0; x1 = 300\n",
    "\n",
    "p1 = np.array([x0,x1])  # punto (x0, x1)\n",
    "p2 = np.array([h(x0,w0,w1),h(x1,w0,w1)]) # punto (h(x0), h(x1))\n",
    "\n",
    "plt.plot(p1,p2, '-r', lw=2, label='h(x)='+str(w0)+' +'+str(w1)+'x')\n",
    "\n",
    "\n",
    "plt.plot(xp,yp, 'o', color='purple', ms=11)\n",
    "\n",
    "plt.legend();\n"
   ]
  },
  {
   "cell_type": "code",
   "execution_count": null,
   "id": "d58ec99d-fe2f-4288-ae1a-562c4837265e",
   "metadata": {},
   "outputs": [],
   "source": []
  },
  {
   "cell_type": "markdown",
   "id": "8f63ef63-5cd1-456b-b9be-b00a879860cc",
   "metadata": {},
   "source": [
    "# NOW YOU TRY.\n",
    "- How many units can I sell with an investment of €20,000 in radio?\n",
    "- How many units can I sell with an investment of €62,000 in newspaper?"
   ]
  },
  {
   "cell_type": "code",
   "execution_count": null,
   "id": "157c10ca-7751-45a0-b7ab-d01ba2151634",
   "metadata": {},
   "outputs": [],
   "source": []
  },
  {
   "cell_type": "code",
   "execution_count": null,
   "id": "fe010abe-cfe8-43ec-926d-782b1c76954b",
   "metadata": {},
   "outputs": [],
   "source": []
  }
 ],
 "metadata": {
  "hide_input": false,
  "kernelspec": {
   "display_name": "Python 3 (ipykernel)",
   "language": "python",
   "name": "python3"
  },
  "language_info": {
   "codemirror_mode": {
    "name": "ipython",
    "version": 3
   },
   "file_extension": ".py",
   "mimetype": "text/x-python",
   "name": "python",
   "nbconvert_exporter": "python",
   "pygments_lexer": "ipython3",
   "version": "3.12.4"
  },
  "varInspector": {
   "cols": {
    "lenName": 16,
    "lenType": 16,
    "lenVar": 40
   },
   "kernels_config": {
    "python": {
     "delete_cmd_postfix": "",
     "delete_cmd_prefix": "del ",
     "library": "var_list.py",
     "varRefreshCmd": "print(var_dic_list())"
    },
    "r": {
     "delete_cmd_postfix": ") ",
     "delete_cmd_prefix": "rm(",
     "library": "var_list.r",
     "varRefreshCmd": "cat(var_dic_list()) "
    }
   },
   "types_to_exclude": [
    "module",
    "function",
    "builtin_function_or_method",
    "instance",
    "_Feature"
   ],
   "window_display": false
  }
 },
 "nbformat": 4,
 "nbformat_minor": 5
}
