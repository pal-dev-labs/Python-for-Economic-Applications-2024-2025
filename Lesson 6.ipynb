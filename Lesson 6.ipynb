{
 "cells": [
  {
   "cell_type": "markdown",
   "id": "c32bd314",
   "metadata": {},
   "source": [
    "# We now introduce a library for data visualization (plotting): MATPLOTLIB"
   ]
  },
  {
   "cell_type": "code",
   "execution_count": null,
   "id": "7e36176e",
   "metadata": {
    "tags": []
   },
   "outputs": [],
   "source": [
    "import matplotlib.pyplot as plt\n",
    "# define a style\n",
    "plt.style.use('seaborn-whitegrid')\n"
   ]
  },
  {
   "cell_type": "code",
   "execution_count": null,
   "id": "0d1ff75b",
   "metadata": {
    "tags": []
   },
   "outputs": [],
   "source": [
    "import numpy as np\n",
    "x = np.linspace(0, 10, 100)\n",
    "\n",
    "fig = plt.figure()   # create a container that host the picture\n",
    "\n",
    "plt.plot(x, np.sin(x), '-')\n",
    "plt.plot(x, np.cos(x), '--');"
   ]
  },
  {
   "cell_type": "code",
   "execution_count": null,
   "id": "dce6cb24",
   "metadata": {},
   "outputs": [],
   "source": []
  },
  {
   "cell_type": "code",
   "execution_count": null,
   "id": "10a76280",
   "metadata": {
    "tags": []
   },
   "outputs": [],
   "source": [
    "# save fig\n",
    "fig.savefig('my_figure.png')"
   ]
  },
  {
   "cell_type": "code",
   "execution_count": null,
   "id": "4b681afc",
   "metadata": {
    "tags": []
   },
   "outputs": [],
   "source": [
    "!ls -lh my_figure.png"
   ]
  },
  {
   "cell_type": "code",
   "execution_count": null,
   "id": "1847e12d",
   "metadata": {
    "tags": []
   },
   "outputs": [],
   "source": [
    "!pwd"
   ]
  },
  {
   "cell_type": "markdown",
   "id": "877f1a7f",
   "metadata": {},
   "source": [
    "we can import an image"
   ]
  },
  {
   "cell_type": "code",
   "execution_count": null,
   "id": "dfdc3d97",
   "metadata": {
    "tags": []
   },
   "outputs": [],
   "source": [
    "from IPython.display import Image\n",
    "Image('my_figure.png')"
   ]
  },
  {
   "cell_type": "markdown",
   "id": "6dba6dbb",
   "metadata": {},
   "source": [
    "we can change colors"
   ]
  },
  {
   "cell_type": "code",
   "execution_count": null,
   "id": "8fd2ecd9",
   "metadata": {
    "tags": []
   },
   "outputs": [],
   "source": [
    "plt.plot(x, x + 0, linestyle='solid')\n",
    "plt.plot(x, x + 1, linestyle='dashed')\n",
    "plt.plot(x, x + 2, linestyle='dashdot')\n",
    "plt.plot(x, x + 3, linestyle='dotted');\n",
    "\n",
    "# For short, you can use the following codes:\n",
    "plt.plot(x, x + 4, linestyle='-')  # solid\n",
    "plt.plot(x, x + 5, linestyle='--') # dashed\n",
    "plt.plot(x, x + 6, linestyle='-.') # dashdot\n",
    "plt.plot(x, x + 7, linestyle=':');  # dotted"
   ]
  },
  {
   "cell_type": "code",
   "execution_count": null,
   "id": "14a4fa95",
   "metadata": {},
   "outputs": [],
   "source": []
  },
  {
   "cell_type": "code",
   "execution_count": null,
   "id": "d2ba7f0f",
   "metadata": {
    "tags": []
   },
   "outputs": [],
   "source": [
    "plt.plot(x, np.sin(x - 0), linestyle='dashed',color='blue')        # specify color by name\n",
    "plt.plot(x, np.sin(x - 1), color='g')           # short color code (rgbcmyk)\n",
    "plt.plot(x, np.sin(x - 2), color='0.75')        # Grayscale between 0 and 1\n",
    "plt.plot(x, np.sin(x - 3), color='#FFDD44')     # Hex code (RRGGBB from 00 to FF)\n",
    "plt.plot(x, np.sin(x - 4), color=(1.0,0.2,0.3)) # RGB tuple, values 0 to 1\n",
    "plt.plot(x, np.sin(x - 5), color='chartreuse'); # all HTML color names supported"
   ]
  },
  {
   "cell_type": "markdown",
   "id": "8da4c35b",
   "metadata": {},
   "source": [
    "combine"
   ]
  },
  {
   "cell_type": "code",
   "execution_count": null,
   "id": "e655f7d3",
   "metadata": {
    "tags": []
   },
   "outputs": [],
   "source": [
    "plt.plot(x, x + 0, '-g')  # solid green\n",
    "plt.plot(x, x + 1, '--c') # dashed cyan\n",
    "plt.plot(x, x + 2, '-.k') # dashdot black\n",
    "plt.plot(x, x + 3, ':r');  # dotted red"
   ]
  },
  {
   "cell_type": "code",
   "execution_count": null,
   "id": "c58db2e6",
   "metadata": {},
   "outputs": [],
   "source": []
  },
  {
   "cell_type": "code",
   "execution_count": null,
   "id": "d55e8a5d",
   "metadata": {
    "tags": []
   },
   "outputs": [],
   "source": [
    "# set xlim and ylim<\n",
    "\n",
    "\n",
    "plt.plot(x, np.sin(x))\n",
    "\n",
    "plt.xlim(-10, 11)\n",
    "plt.ylim(-10, 10);"
   ]
  },
  {
   "cell_type": "markdown",
   "id": "78c87186",
   "metadata": {},
   "source": [
    "Another useful method is ``plt.axis()`` (be careful about possible confusion between *axes* with an *e*, and *axis* with an *i*).\n",
    "The ``plt.axis()`` method allows you to set the ``x`` and ``y`` limits with a single call, passing a list specifying ``[xmin, xmax, ymin, ymax] `` :"
   ]
  },
  {
   "cell_type": "code",
   "execution_count": null,
   "id": "f8020dab",
   "metadata": {},
   "outputs": [],
   "source": [
    "plt.plot(x, np.sin(x))\n",
    "plt.axis([-1, 11, -1.5, 1.5]);"
   ]
  },
  {
   "cell_type": "markdown",
   "id": "c42dcd37",
   "metadata": {},
   "source": [
    "Let's see how to plot information on Cartesian axes"
   ]
  },
  {
   "cell_type": "code",
   "execution_count": null,
   "id": "74461355",
   "metadata": {
    "tags": []
   },
   "outputs": [],
   "source": [
    "plt.plot(x, np.sin(x))\n",
    "plt.title(\"Spring motion\")\n",
    "plt.xlabel(\"Time (s)\")\n",
    "plt.ylabel(\"Space(m)\");"
   ]
  },
  {
   "cell_type": "markdown",
   "id": "bbe80768",
   "metadata": {},
   "source": [
    "When multiple lines are displayed, it may be helpful to create a chart legend that labels each line type.\n",
    "Again, Matplotlib has a built-in way to quickly create such a legend.\n",
    "It is done via the ``plt.legend()`` method.\n",
    "While there are several valid ways to use it, I find it easiest to specify the label of each row using the plot function's ``label`` keyword:"
   ]
  },
  {
   "cell_type": "code",
   "execution_count": null,
   "id": "bf0779d4",
   "metadata": {
    "tags": []
   },
   "outputs": [],
   "source": [
    "plt.plot(x, np.sin(x), '-g', label='sin(x)')\n",
    "plt.plot(x, np.cos(x), ':b', label='cos(x)')\n",
    "\n",
    "#plt.legend();\n",
    "plt.legend(loc='lower right', fontsize=8)"
   ]
  },
  {
   "cell_type": "code",
   "execution_count": null,
   "id": "92ad844a",
   "metadata": {},
   "outputs": [],
   "source": []
  },
  {
   "cell_type": "markdown",
   "id": "641e2533",
   "metadata": {},
   "source": [
    "# SOME OTHER EXAMPLE"
   ]
  },
  {
   "cell_type": "code",
   "execution_count": null,
   "id": "8efdc303",
   "metadata": {
    "tags": []
   },
   "outputs": [],
   "source": [
    "x = np.linspace(0,15,30)\n",
    "y = np.sin(x) + 0.1*np.random.randn(len(x))"
   ]
  },
  {
   "cell_type": "code",
   "execution_count": null,
   "id": "d8461b35",
   "metadata": {
    "tags": []
   },
   "outputs": [],
   "source": [
    "# lw and ms parameters are used to control the line width and marker size, respectively, in plots.\n",
    "\n",
    "plt.plot(x,y, 'o--', color='purple', lw=2, ms=8)"
   ]
  },
  {
   "cell_type": "markdown",
   "id": "77dcfde5",
   "metadata": {},
   "source": [
    "Figure size"
   ]
  },
  {
   "cell_type": "code",
   "execution_count": null,
   "id": "0b75e820",
   "metadata": {
    "tags": []
   },
   "outputs": [],
   "source": [
    "# resize image\n",
    "plt.figure(figsize=(11,10))\n",
    "plt.plot(x,y)"
   ]
  },
  {
   "cell_type": "code",
   "execution_count": null,
   "id": "28b7d633",
   "metadata": {
    "tags": []
   },
   "outputs": [],
   "source": [
    "plt.figure(figsize=(8,3))\n",
    "plt.plot(x,y, label='Component 1')\n",
    "plt.xlabel('Time [s]', fontsize=16)\n",
    "plt.ylabel('Voltage [V]')\n",
    "plt.title('Voltage in 3rd Electrode')\n",
    "plt.legend(loc='lower right', fontsize=12)\n",
    "plt.show()"
   ]
  },
  {
   "cell_type": "code",
   "execution_count": null,
   "id": "57156b75",
   "metadata": {},
   "outputs": [],
   "source": []
  },
  {
   "cell_type": "markdown",
   "id": "1245a9d1",
   "metadata": {},
   "source": [
    "# Let's try on some data on the export of commodities"
   ]
  },
  {
   "cell_type": "code",
   "execution_count": null,
   "id": "8307ee6d",
   "metadata": {
    "tags": []
   },
   "outputs": [],
   "source": [
    "import pandas as pd"
   ]
  },
  {
   "cell_type": "code",
   "execution_count": null,
   "id": "8c9912d1",
   "metadata": {
    "tags": []
   },
   "outputs": [],
   "source": [
    "url_value = 'https://raw.githubusercontent.com/giandopal/Artificial-Intelligence-with-Python/main/data/Europe_Value.csv'\n",
    "export_value=pd.read_csv(url_value)"
   ]
  },
  {
   "cell_type": "code",
   "execution_count": null,
   "id": "825a3a47",
   "metadata": {
    "tags": []
   },
   "outputs": [],
   "source": [
    "export_value"
   ]
  },
  {
   "cell_type": "code",
   "execution_count": null,
   "id": "d726b67a",
   "metadata": {
    "tags": []
   },
   "outputs": [],
   "source": [
    "export_value.info()"
   ]
  },
  {
   "cell_type": "code",
   "execution_count": null,
   "id": "cd9cce04-06de-4c8c-887f-5a9beafc69f8",
   "metadata": {},
   "outputs": [],
   "source": [
    "# Extract data about Italy"
   ]
  },
  {
   "cell_type": "code",
   "execution_count": null,
   "id": "be078f1a",
   "metadata": {
    "tags": []
   },
   "outputs": [],
   "source": [
    "export_value=export_value.dropna(axis=1)"
   ]
  },
  {
   "cell_type": "code",
   "execution_count": null,
   "id": "3862b888",
   "metadata": {
    "tags": []
   },
   "outputs": [],
   "source": [
    "export_value"
   ]
  },
  {
   "cell_type": "code",
   "execution_count": null,
   "id": "ef579693",
   "metadata": {
    "tags": []
   },
   "outputs": [],
   "source": [
    "export_value[ export_value['Land Area']=='Italy']"
   ]
  },
  {
   "cell_type": "code",
   "execution_count": null,
   "id": "b85de8b6",
   "metadata": {
    "tags": []
   },
   "outputs": [],
   "source": [
    "filter_italy=export_value['Land Area']=='Italy'\n",
    "export_italy=export_value[filter_italy]\n",
    "export_italy"
   ]
  },
  {
   "cell_type": "code",
   "execution_count": null,
   "id": "52f2726c",
   "metadata": {
    "tags": []
   },
   "outputs": [],
   "source": [
    "\n",
    "export_italy.iloc[1,3:].values"
   ]
  },
  {
   "cell_type": "code",
   "execution_count": null,
   "id": "3bb83a61",
   "metadata": {
    "tags": []
   },
   "outputs": [],
   "source": [
    "exp_fish = export_italy.iloc[1,3:].values\n",
    "exp_crustaceans=export_italy.iloc[0,3:].values"
   ]
  },
  {
   "cell_type": "code",
   "execution_count": null,
   "id": "7bd12c82",
   "metadata": {
    "tags": []
   },
   "outputs": [],
   "source": [
    "exp_crustaceans"
   ]
  },
  {
   "cell_type": "code",
   "execution_count": null,
   "id": "ed55a971",
   "metadata": {
    "tags": []
   },
   "outputs": [],
   "source": [
    "plt.figure(figsize=(6,6))\n",
    "plt.title('Italy exports')\n",
    "plt.xlabel('Year')\n",
    "plt.ylabel('Value (Thousand Euro)')\n",
    "plt.plot(exp_fish, 'o-', label='Fish')\n",
    "plt.plot(exp_crustaceans, 'o-', label='Crustaceans')\n",
    "plt.legend()"
   ]
  },
  {
   "cell_type": "markdown",
   "id": "5fd4ef96",
   "metadata": {},
   "source": [
    "How do I fix the abscissa? I create a list of years ad hoc"
   ]
  },
  {
   "cell_type": "code",
   "execution_count": null,
   "id": "3e407a58",
   "metadata": {
    "tags": []
   },
   "outputs": [],
   "source": [
    "exp_fish.shape[0]"
   ]
  },
  {
   "cell_type": "code",
   "execution_count": null,
   "id": "fbf7bfac",
   "metadata": {
    "tags": []
   },
   "outputs": [],
   "source": [
    "num_value = exp_fish.shape[0]\n",
    "years = np.arange(2000,2000+num_value)"
   ]
  },
  {
   "cell_type": "code",
   "execution_count": null,
   "id": "1bfe11aa",
   "metadata": {
    "tags": []
   },
   "outputs": [],
   "source": [
    "years"
   ]
  },
  {
   "cell_type": "code",
   "execution_count": null,
   "id": "8f43233b",
   "metadata": {
    "tags": []
   },
   "outputs": [],
   "source": [
    "plt.title('Italy exports')\n",
    "plt.xlabel('Year')\n",
    "plt.ylabel('Value (Millions Euro)')\n",
    "plt.plot(years,exp_fish, 'o-', label='Fish')\n",
    "plt.plot(years,exp_crustaceans, 'o-', label='Crustaceans')\n",
    "plt.legend()"
   ]
  },
  {
   "cell_type": "markdown",
   "id": "9aa47b93",
   "metadata": {},
   "source": [
    "# Exercise\n",
    "Plans the export of fish and shellfish for France and Spain"
   ]
  },
  {
   "cell_type": "code",
   "execution_count": null,
   "id": "6c9cd84c",
   "metadata": {},
   "outputs": [],
   "source": []
  },
  {
   "cell_type": "markdown",
   "id": "e3f22b00",
   "metadata": {},
   "source": [
    "# I now want to plot the export of fish for all EU countries"
   ]
  },
  {
   "cell_type": "code",
   "execution_count": null,
   "id": "54af3f56",
   "metadata": {
    "tags": []
   },
   "outputs": [],
   "source": [
    "export_value.head(10)"
   ]
  },
  {
   "cell_type": "code",
   "execution_count": null,
   "id": "ac8747f5",
   "metadata": {
    "tags": []
   },
   "outputs": [],
   "source": [
    "fish_filter = export_value['Commodity']=='Fish'\n",
    "trade_filter = export_value['Trade flow']=='Export'\n",
    "tot_filter = fish_filter & trade_filter\n",
    "export_value_fish = export_value[tot_filter]"
   ]
  },
  {
   "cell_type": "code",
   "execution_count": null,
   "id": "0bbadcbc",
   "metadata": {
    "tags": []
   },
   "outputs": [],
   "source": [
    "export_value_fish.info"
   ]
  },
  {
   "cell_type": "markdown",
   "id": "7e66a2ac",
   "metadata": {},
   "source": [
    "I want to plot the top 10 exporters\n",
    "\n",
    "How do I select them? I have to identify a criterion. I first consider the average export between 2000 and 2015 and then select the top 10 countries with the highest average export\n"
   ]
  },
  {
   "cell_type": "code",
   "execution_count": null,
   "id": "43848f39",
   "metadata": {
    "tags": []
   },
   "outputs": [],
   "source": [
    "export_value_fish.iloc[:, 3:].mean(axis=1)"
   ]
  },
  {
   "cell_type": "code",
   "execution_count": null,
   "id": "35683efc",
   "metadata": {
    "tags": []
   },
   "outputs": [],
   "source": [
    "export_value_fish['Mean']=export_value_fish.iloc[:, 3:].mean(axis=1)"
   ]
  },
  {
   "cell_type": "code",
   "execution_count": null,
   "id": "d3c29e2c",
   "metadata": {
    "tags": []
   },
   "outputs": [],
   "source": [
    "export_value_fish"
   ]
  },
  {
   "cell_type": "code",
   "execution_count": null,
   "id": "d6db8ef0",
   "metadata": {
    "tags": []
   },
   "outputs": [],
   "source": [
    "exp_sor = export_value_fish.sort_values('Mean', ascending=False)"
   ]
  },
  {
   "cell_type": "code",
   "execution_count": null,
   "id": "7e1d9a47",
   "metadata": {
    "tags": []
   },
   "outputs": [],
   "source": [
    "exp_sor"
   ]
  },
  {
   "cell_type": "code",
   "execution_count": null,
   "id": "5f2faf38",
   "metadata": {
    "tags": []
   },
   "outputs": [],
   "source": [
    "exp_sor_final = exp_sor.iloc[0:10,:]\n",
    "exp_sor_final"
   ]
  },
  {
   "cell_type": "markdown",
   "id": "a4649ca6",
   "metadata": {},
   "source": [
    "How do I plot them? Let's see the first one"
   ]
  },
  {
   "cell_type": "code",
   "execution_count": null,
   "id": "a4a865d1",
   "metadata": {},
   "outputs": [],
   "source": []
  },
  {
   "cell_type": "code",
   "execution_count": null,
   "id": "d0eef752",
   "metadata": {
    "tags": []
   },
   "outputs": [],
   "source": [
    "plt.plot(years,exp_sor_final.iloc[0,3:19])"
   ]
  },
  {
   "cell_type": "markdown",
   "id": "9d9049dc",
   "metadata": {},
   "source": [
    "I want to plot them all"
   ]
  },
  {
   "cell_type": "code",
   "execution_count": null,
   "id": "1a54ac07",
   "metadata": {
    "tags": []
   },
   "outputs": [],
   "source": [
    "countries = exp_sor_final['Land Area'].values\n",
    "countries"
   ]
  },
  {
   "cell_type": "code",
   "execution_count": null,
   "id": "8c820f6f",
   "metadata": {
    "tags": []
   },
   "outputs": [],
   "source": [
    "index = 0\n",
    "for i in countries:\n",
    "    plt.plot(years,exp_sor_final.iloc[index,3:19])\n",
    "    index += 1"
   ]
  },
  {
   "cell_type": "markdown",
   "id": "c76b8514",
   "metadata": {},
   "source": [
    "Let's be a little nicer"
   ]
  },
  {
   "cell_type": "code",
   "execution_count": null,
   "id": "84cb67e6",
   "metadata": {
    "tags": []
   },
   "outputs": [],
   "source": [
    "plt.figure(figsize=(13,10))\n",
    "index = 0\n",
    "for i in countries:\n",
    "    plt.plot(years,exp_sor_final.iloc[index,3:19], 'o-', label=i)\n",
    "    index += 1\n",
    "plt.title('Top 10 European exports')\n",
    "plt.xlabel('Year')\n",
    "plt.ylabel('Value (Millions Euro)')\n",
    "plt.legend()"
   ]
  },
  {
   "cell_type": "code",
   "execution_count": null,
   "id": "ff50a209",
   "metadata": {},
   "outputs": [],
   "source": []
  },
  {
   "cell_type": "markdown",
   "id": "ae1dbb63",
   "metadata": {},
   "source": [
    "# SCATTER PLOT"
   ]
  },
  {
   "cell_type": "markdown",
   "id": "0cbcf779",
   "metadata": {},
   "source": [
    "Another commonly used type of graph is the SCATTER PLOT. Instead of points joined by line segments, here the points are represented individually with a dot, circle, or other shape."
   ]
  },
  {
   "cell_type": "markdown",
   "id": "5965b4b1",
   "metadata": {},
   "source": [
    "# SCATTER PLOT CON ``plt.plot``"
   ]
  },
  {
   "cell_type": "code",
   "execution_count": null,
   "id": "14c95225",
   "metadata": {
    "tags": []
   },
   "outputs": [],
   "source": [
    "x = np.linspace(0, 10, 30)\n",
    "y = np.sin(x)\n",
    "\n",
    "plt.plot(x, y, 'o', color='black');"
   ]
  },
  {
   "cell_type": "markdown",
   "id": "58f4fd01",
   "metadata": {},
   "source": [
    "Let's see the possible markers"
   ]
  },
  {
   "cell_type": "code",
   "execution_count": null,
   "id": "45924700",
   "metadata": {
    "tags": []
   },
   "outputs": [],
   "source": [
    "rng = np.random.RandomState(0)\n",
    "for marker in ['o', '.', ',', 'x', '+', 'v', '^', '<', '>', 's', 'd']:\n",
    "    plt.plot(rng.rand(5), rng.rand(5), marker,\n",
    "             label=\"marker='{0}'\".format(marker))\n",
    "plt.legend(numpoints=1)\n",
    "plt.xlim(0, 1.8);"
   ]
  },
  {
   "cell_type": "markdown",
   "id": "8744cdc9",
   "metadata": {},
   "source": [
    "More commands"
   ]
  },
  {
   "cell_type": "code",
   "execution_count": null,
   "id": "de2a075f",
   "metadata": {
    "tags": []
   },
   "outputs": [],
   "source": [
    "plt.plot(x, y, '-p', color='gray',\n",
    "         markersize=11, linewidth=4,\n",
    "         markerfacecolor='white',\n",
    "         markeredgecolor='blue',\n",
    "         markeredgewidth=2)\n",
    "plt.ylim(-1.2, 1.2);"
   ]
  },
  {
   "cell_type": "markdown",
   "id": "bf527f96",
   "metadata": {},
   "source": [
    "## Scatter Plots with ``plt.scatter``"
   ]
  },
  {
   "cell_type": "code",
   "execution_count": null,
   "id": "581223f6",
   "metadata": {
    "tags": []
   },
   "outputs": [],
   "source": [
    "plt.scatter(x, y, marker='o');"
   ]
  },
  {
   "cell_type": "markdown",
   "id": "d0d1ddbe",
   "metadata": {},
   "source": [
    "The main difference between ``plt.scatter`` and ``plt.plot`` is that the former can be used to create scatter plots where the properties of each individual point (size, face color, edge color, etc. .) can be individually controlled or mapped to data.\n",
    "\n",
    "Let's see an example\n",
    "To better see the overlaid results, we will also use the ``alpha`` keyword to adjust the transparency level:"
   ]
  },
  {
   "cell_type": "code",
   "execution_count": null,
   "id": "797b6f97",
   "metadata": {
    "tags": []
   },
   "outputs": [],
   "source": [
    "rng.randn(100)"
   ]
  },
  {
   "cell_type": "code",
   "execution_count": null,
   "id": "345a55ff",
   "metadata": {
    "tags": []
   },
   "outputs": [],
   "source": [
    "rng = np.random.RandomState(0)\n",
    "x = rng.randn(100) # generate 100 random numbers between -1 and 1\n",
    "y = rng.randn(100)\n",
    "colors = rng.rand(100) # generate 100 random numbers betwee 0 and 1\n",
    "sizes = 1000 * rng.rand(100) # generate 100 random numbers betwee 0 and 1000\n",
    "\n",
    "plt.scatter(x, y, c=colors, s=sizes, alpha=0.2,\n",
    "            cmap='viridis')\n",
    "plt.colorbar();  # show color scale"
   ]
  },
  {
   "cell_type": "markdown",
   "id": "f0fe162e",
   "metadata": {},
   "source": [
    "Note that the color argument is automatically mapped to a color scale (shown here by the ``colorbar()`` command), and that the size argument is given in pixels.\n",
    "In this way, the color and size of the dots can be used to convey information in the visualization, in order to display multidimensional data.\n",
    "\n",
    "For example, we could use iris data from Scikit-Learn, where each sample is one of three types of flowers whose petal and sepal size has been carefully measured:"
   ]
  },
  {
   "cell_type": "code",
   "execution_count": null,
   "id": "5cd8e3e1",
   "metadata": {
    "tags": []
   },
   "outputs": [],
   "source": [
    "from sklearn.datasets import load_iris\n",
    "iris = load_iris()\n",
    "features = iris.data.T\n",
    "\n",
    "# Create a DataFrame with the target data and labels\n",
    "df = pd.DataFrame(data=iris.data, columns=iris.feature_names)\n",
    "df['target'] = iris.target\n",
    "# Add a \"species\" column that maps target numbers to their respective species\n",
    "df['species'] = df['target'].map({0: iris.target_names[0], 1: iris.target_names[1], 2: iris.target_names[2]})\n",
    "# Remove the target column, which is not needed\n",
    "df = df.drop('target', axis=1)\n",
    "\n",
    "df"
   ]
  },
  {
   "cell_type": "code",
   "execution_count": null,
   "id": "719c91f7",
   "metadata": {
    "tags": []
   },
   "outputs": [],
   "source": [
    "df['species'].unique()"
   ]
  },
  {
   "cell_type": "code",
   "execution_count": null,
   "id": "d4343d32",
   "metadata": {
    "tags": []
   },
   "outputs": [],
   "source": [
    "plt.scatter(features[0], features[1], alpha=0.4,\n",
    "            s=100*features[3], c=iris.target, cmap='viridis')\n",
    "plt.xlabel(iris.feature_names[0])\n",
    "plt.ylabel(iris.feature_names[1]);"
   ]
  },
  {
   "cell_type": "code",
   "execution_count": null,
   "id": "9d81d8af",
   "metadata": {},
   "outputs": [],
   "source": []
  },
  {
   "cell_type": "markdown",
   "id": "288c83a7",
   "metadata": {},
   "source": [
    "# Three-Dimensional Plotting in Matplotlib"
   ]
  },
  {
   "cell_type": "markdown",
   "id": "13e432cb",
   "metadata": {},
   "source": [
    "Matplotlib was initially designed with only two-dimensional printing in mind.\n",
    "Three-dimensional plots are enabled by importing the ``mplot3d`` toolkit, included with the main Matplotlib installation:"
   ]
  },
  {
   "cell_type": "code",
   "execution_count": null,
   "id": "1b82ecaa",
   "metadata": {
    "tags": []
   },
   "outputs": [],
   "source": [
    "from mpl_toolkits import mplot3d"
   ]
  },
  {
   "cell_type": "code",
   "execution_count": null,
   "id": "a890f05d",
   "metadata": {
    "tags": []
   },
   "outputs": [],
   "source": [
    "fig = plt.figure()\n",
    "ax = plt.axes(projection='3d')"
   ]
  },
  {
   "cell_type": "markdown",
   "id": "749151ee",
   "metadata": {},
   "source": [
    "## Three-dimensional points and lines\n",
    "\n",
    "The most basic three-dimensional graph is a line or collection of scatter plots created from sets of triples (x, y, z).\n",
    "In analogy with the more common two-dimensional plots discussed above, these can be created using the ``ax.plot3D`` and ``ax.scatter3D`` functions.\n",
    "\n",
    "Let's try drawing a trigonometric spiral, along with some points drawn randomly near the line:"
   ]
  },
  {
   "cell_type": "code",
   "execution_count": null,
   "id": "7bbe34d3",
   "metadata": {
    "tags": []
   },
   "outputs": [],
   "source": [
    "plt.figure(figsize=(10,10))\n",
    "\n",
    "ax = plt.axes(projection='3d')\n",
    "\n",
    "# Data for a three-dimensional line\n",
    "zline = np.linspace(0, 15, 1000)\n",
    "xline = np.sin(zline)\n",
    "yline = np.cos(zline)\n",
    "ax.plot3D(xline, yline, zline, 'gray')\n",
    "\n",
    "# Data for three-dimensional scattered points\n",
    "zdata = 15 * np.random.random(100)\n",
    "xdata = np.sin(zdata) + 0.1 * np.random.randn(100)\n",
    "ydata = np.cos(zdata) + 0.1 * np.random.randn(100)\n",
    "ax.scatter3D(xdata, ydata, zdata, c=zdata, cmap='Greens');"
   ]
  },
  {
   "cell_type": "markdown",
   "id": "6fc15b48",
   "metadata": {},
   "source": [
    "Note that by default, scatter points have their transparency adjusted to give a sense of depth to the page.\n",
    "While the three-dimensional effect is sometimes difficult to see within a static image, an interactive view can lead to some nice intuition about the arrangement of dots."
   ]
  },
  {
   "cell_type": "code",
   "execution_count": null,
   "id": "a774fc3b",
   "metadata": {
    "tags": []
   },
   "outputs": [],
   "source": [
    "def f(x, y):\n",
    "    return np.sin(np.sqrt(x ** 2 + y ** 2))\n",
    "\n",
    "x = np.linspace(-6, 6, 30)\n",
    "y = np.linspace(-6, 6, 30)\n",
    "\n",
    "X, Y = np.meshgrid(x, y)\n",
    "Z = f(X, Y)"
   ]
  },
  {
   "cell_type": "code",
   "execution_count": null,
   "id": "17c98c1d",
   "metadata": {},
   "outputs": [],
   "source": [
    "# %matplotlib inline\n",
    "# %matplotlib notebook\n"
   ]
  },
  {
   "cell_type": "code",
   "execution_count": null,
   "id": "628c8b8c",
   "metadata": {
    "tags": []
   },
   "outputs": [],
   "source": [
    "%matplotlib inline\n",
    "fig = plt.figure()\n",
    "#plt.figure(figsize=(10,10))\n",
    "ax = plt.axes(projection='3d')\n",
    "ax.contour3D(X, Y, Z, 50, cmap='viridis')\n",
    "ax.set_xlabel('x')\n",
    "ax.set_ylabel('y')\n",
    "ax.set_zlabel('z');"
   ]
  },
  {
   "cell_type": "markdown",
   "id": "8a763eff",
   "metadata": {},
   "source": [
    "Sometimes the default viewing angle is not optimal, in which case we can use the view_init method to set the elevation and azimuth angles. In the following example, we will use an elevation of 60 degrees (i.e. 60 degrees above the x-y plane) and an azimuth of 35 degrees (i.e. rotated 35 degrees counterclockwise from the z-axis):"
   ]
  },
  {
   "cell_type": "code",
   "execution_count": null,
   "id": "83471882",
   "metadata": {
    "tags": []
   },
   "outputs": [],
   "source": [
    "ax.view_init(15, 100)\n",
    "fig"
   ]
  },
  {
   "cell_type": "markdown",
   "id": "e92d248e",
   "metadata": {},
   "source": [
    "Again, note that this type of rotation can be accomplished interactively by clicking and dragging when using one of Matplotlib's interactive backends."
   ]
  },
  {
   "cell_type": "code",
   "execution_count": null,
   "id": "15b5a705",
   "metadata": {},
   "outputs": [],
   "source": []
  },
  {
   "cell_type": "code",
   "execution_count": null,
   "id": "9b23ad35",
   "metadata": {
    "tags": []
   },
   "outputs": [],
   "source": [
    "\n",
    "fig = plt.figure()\n",
    "plt.figure(figsize=(10,10))\n",
    "\n",
    "ax = plt.axes(projection='3d')\n",
    "ax.plot_wireframe(X, Y, Z, color='black')\n",
    "ax.set_title('wireframe');"
   ]
  },
  {
   "cell_type": "code",
   "execution_count": null,
   "id": "e9ea87f5",
   "metadata": {},
   "outputs": [],
   "source": []
  },
  {
   "cell_type": "code",
   "execution_count": null,
   "id": "10f8f687",
   "metadata": {
    "tags": []
   },
   "outputs": [],
   "source": [
    "plt.figure(figsize=(10,10))\n",
    "\n",
    "ax = plt.axes(projection='3d')\n",
    "ax.plot_surface(X, Y, Z, rstride=1, cstride=1,\n",
    "                cmap='viridis', edgecolor='none')\n",
    "ax.set_title('surface');"
   ]
  },
  {
   "cell_type": "code",
   "execution_count": null,
   "id": "bdbeb1a0",
   "metadata": {},
   "outputs": [],
   "source": []
  },
  {
   "cell_type": "code",
   "execution_count": null,
   "id": "f820f494",
   "metadata": {
    "tags": []
   },
   "outputs": [],
   "source": [
    "def f(x, y):\n",
    "    return x ** 2 + y ** 2\n",
    "\n",
    "x = np.linspace(-6, 6, 30)\n",
    "y = np.linspace(-6, 6, 30)\n",
    "\n",
    "X, Y = np.meshgrid(x, y)\n",
    "Z = f(X, Y)"
   ]
  },
  {
   "cell_type": "code",
   "execution_count": null,
   "id": "30ae298b",
   "metadata": {
    "tags": []
   },
   "outputs": [],
   "source": [
    "%matplotlib inline\n",
    "\n",
    "fig = plt.figure()\n",
    "plt.figure(figsize=(7,7))\n",
    "\n",
    "ax = plt.axes(projection='3d')\n",
    "ax.contour3D(X, Y, Z, 100, cmap='gnuplot')\n",
    "ax.set_xlabel('x')\n",
    "ax.set_ylabel('y')\n",
    "ax.set_zlabel('z');"
   ]
  },
  {
   "cell_type": "code",
   "execution_count": null,
   "id": "7f23f1c7",
   "metadata": {
    "tags": []
   },
   "outputs": [],
   "source": [
    "ax.view_init(10, 35)\n",
    "fig"
   ]
  },
  {
   "cell_type": "code",
   "execution_count": null,
   "id": "c03651c0",
   "metadata": {
    "tags": []
   },
   "outputs": [],
   "source": [
    "plt.figure(figsize=(10,10))\n",
    "\n",
    "ax = plt.axes(projection='3d')\n",
    "ax.plot_surface(X, Y, Z, rstride=1, cstride=1,\n",
    "                cmap='ocean', edgecolor='none')\n",
    "ax.set_title('surface');"
   ]
  },
  {
   "cell_type": "markdown",
   "id": "11bdcb23",
   "metadata": {},
   "source": [
    "# Density and Contour Plots"
   ]
  },
  {
   "cell_type": "code",
   "execution_count": null,
   "id": "1a04e0d0",
   "metadata": {
    "tags": []
   },
   "outputs": [],
   "source": [
    "plt.style.use('seaborn-white')\n",
    "import numpy as np"
   ]
  },
  {
   "cell_type": "code",
   "execution_count": null,
   "id": "7591a88c",
   "metadata": {
    "tags": []
   },
   "outputs": [],
   "source": [
    "def f(x, y):\n",
    "    return np.sin(x) ** 10 + np.cos(10 + y * x) * np.cos(x)"
   ]
  },
  {
   "cell_type": "code",
   "execution_count": null,
   "id": "17753f50",
   "metadata": {
    "tags": []
   },
   "outputs": [],
   "source": [
    "x = np.linspace(0, 5, 50)\n",
    "y = np.linspace(0, 5, 40)\n",
    "\n",
    "X, Y = np.meshgrid(x, y)\n",
    "Z = f(X, Y)"
   ]
  },
  {
   "cell_type": "code",
   "execution_count": null,
   "id": "cedbdf07",
   "metadata": {
    "tags": []
   },
   "outputs": [],
   "source": [
    "plt.figure(figsize=(10,10))\n",
    "ax = plt.axes(projection='3d')\n",
    "ax.plot_surface(X, Y, Z, rstride=1, cstride=1,\n",
    "                cmap='ocean', edgecolor='none')\n",
    "ax.set_title('surface');"
   ]
  },
  {
   "cell_type": "markdown",
   "id": "a42ef3c5",
   "metadata": {},
   "source": [
    "A contour plot can be created with the ``plt.contour`` function.\n",
    "It takes three arguments: a grid of *x* values, a grid of *y* values, and a grid of *z* values.\n",
    "The *x* and *y* values represent the positions on the graph and the *z* values will be represented by the contour levels.\n",
    "The simplest way to prepare such data is to use the ``np.meshgrid`` function, which constructs two-dimensional grids from one-dimensional arrays:"
   ]
  },
  {
   "cell_type": "code",
   "execution_count": null,
   "id": "676e3c00",
   "metadata": {
    "tags": []
   },
   "outputs": [],
   "source": [
    "plt.contour(X, Y, Z, colors='black');"
   ]
  },
  {
   "cell_type": "code",
   "execution_count": null,
   "id": "478ffa4f",
   "metadata": {
    "tags": []
   },
   "outputs": [],
   "source": [
    "plt.contour(X, Y, Z, 20, cmap='RdGy');"
   ]
  },
  {
   "cell_type": "code",
   "execution_count": null,
   "id": "d9b545e8",
   "metadata": {
    "tags": []
   },
   "outputs": [],
   "source": [
    "\n",
    "plt.contourf(X, Y, Z, 20, cmap='RdGy')\n",
    "plt.colorbar();"
   ]
  },
  {
   "cell_type": "markdown",
   "id": "dcf37761",
   "metadata": {},
   "source": [
    "The color bar makes it clear that the black regions are \"peaks\", while the red regions are \"valleys\"."
   ]
  },
  {
   "cell_type": "markdown",
   "id": "e4597ea3",
   "metadata": {},
   "source": [
    "Sometimes it can be useful to combine contour plots and image graphs. For example, here we use a partially transparent background image (with the transparency set via the alpha parameter) and overwrite the outlines with labels on the outlines themselves (using the plt.clabel() function):"
   ]
  },
  {
   "cell_type": "code",
   "execution_count": null,
   "id": "6a18afd0",
   "metadata": {
    "tags": []
   },
   "outputs": [],
   "source": [
    "contours = plt.contour(X, Y, Z, 3, colors='black')\n",
    "plt.clabel(contours, inline=True, fontsize=8)\n",
    "\n",
    "plt.imshow(Z, extent=[0, 5, 0, 5], origin='lower',\n",
    "           cmap='RdGy', alpha=0.5)\n",
    "plt.colorbar();"
   ]
  }
 ],
 "metadata": {
  "hide_input": false,
  "kernelspec": {
   "display_name": "Python 3 (ipykernel)",
   "language": "python",
   "name": "python3"
  },
  "language_info": {
   "codemirror_mode": {
    "name": "ipython",
    "version": 3
   },
   "file_extension": ".py",
   "mimetype": "text/x-python",
   "name": "python",
   "nbconvert_exporter": "python",
   "pygments_lexer": "ipython3",
   "version": "3.11.5"
  },
  "varInspector": {
   "cols": {
    "lenName": 16,
    "lenType": 16,
    "lenVar": 40
   },
   "kernels_config": {
    "python": {
     "delete_cmd_postfix": "",
     "delete_cmd_prefix": "del ",
     "library": "var_list.py",
     "varRefreshCmd": "print(var_dic_list())"
    },
    "r": {
     "delete_cmd_postfix": ") ",
     "delete_cmd_prefix": "rm(",
     "library": "var_list.r",
     "varRefreshCmd": "cat(var_dic_list()) "
    }
   },
   "types_to_exclude": [
    "module",
    "function",
    "builtin_function_or_method",
    "instance",
    "_Feature"
   ],
   "window_display": false
  }
 },
 "nbformat": 4,
 "nbformat_minor": 5
}
