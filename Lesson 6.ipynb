{
 "cells": [
  {
   "cell_type": "code",
   "execution_count": null,
   "id": "8b11383c-e046-4847-aa3b-641757a7df47",
   "metadata": {},
   "outputs": [],
   "source": []
  },
  {
   "cell_type": "code",
   "execution_count": null,
   "id": "f37ad30a-65db-4c47-ad6f-578e14e04c8f",
   "metadata": {
    "tags": []
   },
   "outputs": [],
   "source": [
    "# import macro-functions (libraries) to perform high level computation and funtions\n",
    "\n",
    "import pandas as pd   # to manage table\n",
    "\n",
    "import numpy as np    # to manage linear algebra\n",
    "\n",
    "import matplotlib.pyplot as plt      # to plot data\n",
    "\n",
    "import seaborn as sns                # to plot data\n",
    "#sns.set_theme();\n",
    "\n",
    "import statsmodels.api as sm         # to use statistical tools\n",
    "\n",
    "from sklearn.preprocessing import scale   # tools to preprocess data\n",
    "\n",
    "import warnings; warnings.filterwarnings('ignore') # \"default\" restore default mode \"ignore\" ignore"
   ]
  },
  {
   "cell_type": "markdown",
   "id": "3c78fca8-ff9b-4cca-a0ff-50d2f98c845d",
   "metadata": {
    "jp-MarkdownHeadingCollapsed": true
   },
   "source": [
    "## **SCENARIO**: You are working in the marketing department of a car seller. \n",
    "## Your boss gives you the latest sales data and assigns you the following tasks:\n",
    "1) To create a summary report on the total sales for each Manufacturer\n",
    "2) To identify what factors influence the sales\n",
    "3) To make a prediction about how many sales can be generated with an investment of 500k euro in TV Advertising\n",
    "4) To make a prediction about how many sales can be generated with an investment of 75k euro in Social Advertising\n",
    "5) To make a prediction for some new cars models about a chance to win the prestigious award \"Car of the Year\". Factors of success are Power performance and Fuel Efficiency. Data about these factors for the new cars will be provided by marketing dept.\n",
    "\n",
    "All data are in excel files provided by IT department. "
   ]
  },
  {
   "cell_type": "markdown",
   "id": "93cd3cf1-ee10-48d9-913b-83a2a8dfbe82",
   "metadata": {},
   "source": [
    "# Task 1: create a summary report on the total sales for each Manufacturer"
   ]
  },
  {
   "cell_type": "markdown",
   "id": "a23eaa5c-d7c3-48c9-ba09-4330c18a7911",
   "metadata": {},
   "source": [
    "First I load all the excel file directly in a table"
   ]
  },
  {
   "cell_type": "code",
   "execution_count": null,
   "id": "13f9b833-c4bd-449d-9124-f5b9f11a66f5",
   "metadata": {
    "tags": []
   },
   "outputs": [],
   "source": [
    "# ANACONDA NAVIGATOR -- UNCOMMENT HERE\n",
    "#sales_table = pd.read_csv('./Data/sales_data.csv') # Load a CSV file on a local table (dataframe)\n",
    "\n",
    "# GOOGLE COLAB - UNCOMMENT HERE\n",
    "\n",
    "url = 'https://raw.githubusercontent.com/pal-dev-labs/Python-for-Economic-Applications-2024-2025/refs/heads/main/Data/sales_data.csv'\n",
    "sales_table = pd.read_csv(url)"
   ]
  },
  {
   "cell_type": "code",
   "execution_count": null,
   "id": "f1475653-95a7-4170-97a8-c65ec95c6478",
   "metadata": {
    "tags": []
   },
   "outputs": [],
   "source": [
    "# print the dataframe info\n",
    "\n",
    "sales_table.info()"
   ]
  },
  {
   "cell_type": "code",
   "execution_count": null,
   "id": "449375e8-00d4-421b-a9b4-780c3e2771f0",
   "metadata": {
    "tags": []
   },
   "outputs": [],
   "source": [
    "# print the dataframe content\n",
    "\n",
    "sales_table"
   ]
  },
  {
   "cell_type": "code",
   "execution_count": null,
   "id": "fec993d4-c982-4837-9c2b-670d4f9d0041",
   "metadata": {},
   "outputs": [],
   "source": []
  },
  {
   "cell_type": "markdown",
   "id": "e89d5dbd-00f0-4cae-be9b-6fb273595e4c",
   "metadata": {
    "tags": []
   },
   "source": [
    "## DATA EXPLORATION"
   ]
  },
  {
   "cell_type": "markdown",
   "id": "01d48c54-f795-49ce-9bd2-3885bf0004ee",
   "metadata": {},
   "source": [
    "First let's see how many different models has each Manifacturer "
   ]
  },
  {
   "cell_type": "code",
   "execution_count": null,
   "id": "fa26d664-5d6a-49ff-8126-9a02e2be8c8a",
   "metadata": {
    "tags": []
   },
   "outputs": [],
   "source": [
    "# for each manufacturer group the models and plot a barplot\n",
    "sales_table['Manufacturer'].value_counts().plot.bar();"
   ]
  },
  {
   "cell_type": "markdown",
   "id": "513badc3-0ce8-494b-91f1-9ed58bde6e83",
   "metadata": {},
   "source": [
    "Let's save this image for the future report. I need a nicer chart"
   ]
  },
  {
   "cell_type": "code",
   "execution_count": null,
   "id": "69a59ef7-5c52-42a1-8d43-25ef0a748e57",
   "metadata": {
    "tags": []
   },
   "outputs": [],
   "source": [
    "sales_table['Manufacturer'].value_counts().plot.bar()\n",
    "\n",
    "# add some decorators\n",
    "plt.xlabel('Manufacturers')\n",
    "plt.ylabel('Number of Models')\n",
    "plt.title('Manufacturers different models')\n",
    "plt.legend()\n",
    "plt.savefig('manufacturer.png')  # this saves the figure i"
   ]
  },
  {
   "cell_type": "markdown",
   "id": "d3306f90-a24c-48a0-a2c1-61be08b71a6a",
   "metadata": {},
   "source": [
    "Let's extract total amount of sales for each manufacturer. I use a **pivot table**"
   ]
  },
  {
   "cell_type": "code",
   "execution_count": null,
   "id": "da89622b-715e-48ed-9088-1937a02d5ce5",
   "metadata": {
    "tags": []
   },
   "outputs": [],
   "source": [
    "total_sales = pd.pivot_table(sales_table, index=['Manufacturer'], values=['Sales_in_thousands'],aggfunc=[np.sum])\n",
    "total_sales"
   ]
  },
  {
   "cell_type": "markdown",
   "id": "96b7df48-59eb-4fdd-b555-0c4ec54cd2a6",
   "metadata": {},
   "source": [
    "Let's order a little bit"
   ]
  },
  {
   "cell_type": "code",
   "execution_count": null,
   "id": "dce26665-e2d5-4481-bba5-049e3b05cd7b",
   "metadata": {},
   "outputs": [],
   "source": []
  },
  {
   "cell_type": "code",
   "execution_count": null,
   "id": "81a66dcf-b288-47b1-82fe-ca23d4825d6d",
   "metadata": {
    "tags": []
   },
   "outputs": [],
   "source": [
    "total_sales = total_sales.sort_values(by=('sum', 'Sales_in_thousands'), ascending=False)\n",
    "total_sales"
   ]
  },
  {
   "cell_type": "code",
   "execution_count": null,
   "id": "27dc3dd1-4b47-46c3-9858-8737aa390b5d",
   "metadata": {},
   "outputs": [],
   "source": []
  },
  {
   "cell_type": "code",
   "execution_count": null,
   "id": "f3fefb90-ce62-4e54-a304-5e17f7e21f9a",
   "metadata": {
    "tags": []
   },
   "outputs": [],
   "source": [
    "total_sales.plot.bar(legend = False)\n",
    "plt.ylabel('Sales (€)');\n",
    "plt.xlabel('Manufacturers')\n",
    "plt.title('Summary of Manufacturers total sales')\n",
    "plt.legend()\n",
    "plt.savefig('manufacturer_total_sales.png')  # this saves the figure i"
   ]
  },
  {
   "cell_type": "code",
   "execution_count": null,
   "id": "c2352113-ceca-4da2-ba9e-7dcef134c98c",
   "metadata": {},
   "outputs": [],
   "source": []
  },
  {
   "cell_type": "code",
   "execution_count": null,
   "id": "0e50430e-08a2-4459-b728-0158076b9d4a",
   "metadata": {
    "tags": []
   },
   "outputs": [],
   "source": [
    "total_sales.iloc[0:15].plot.pie(subplots=True, legend= False, autopct=\"%1.1f%%\")\n",
    "plt.ylabel('');\n",
    "plt.xlabel('')\n",
    "plt.title('Manufacturers Total Sales (k€)')\n",
    "plt.savefig('manufacturer_total_sales2.png') "
   ]
  },
  {
   "cell_type": "code",
   "execution_count": null,
   "id": "393789e8-b522-4373-a5af-e3c7e7cecc37",
   "metadata": {},
   "outputs": [],
   "source": []
  },
  {
   "cell_type": "markdown",
   "id": "c8ee257f-8eff-4cb2-aafc-ca65b96701fd",
   "metadata": {},
   "source": [
    "# Task 2: identify what factors influence the sales"
   ]
  },
  {
   "cell_type": "markdown",
   "id": "8aa0d3e1-b78f-4e69-8bdc-bac80bc3cbac",
   "metadata": {},
   "source": [
    "### Let's see the the role of the price"
   ]
  },
  {
   "cell_type": "code",
   "execution_count": null,
   "id": "6c6725e7-bf5d-4f5f-995f-7ed58b75c29b",
   "metadata": {
    "tags": []
   },
   "outputs": [],
   "source": [
    "plt.scatter(sales_table['Price_in_thousands'].values, sales_table['Sales_in_thousands'].values)\n",
    "plt.xlabel(\"Price_in_thousands\");plt.ylabel(\"Sales_in_thousands\");"
   ]
  },
  {
   "cell_type": "markdown",
   "id": "2804a3e7-1ab3-4391-88d2-65574e5ab44f",
   "metadata": {},
   "source": [
    "## Let's try with more features"
   ]
  },
  {
   "cell_type": "code",
   "execution_count": null,
   "id": "06db2b7e-0c42-4989-ba47-a9e152423dfb",
   "metadata": {
    "tags": []
   },
   "outputs": [],
   "source": [
    "g = sns.pairplot(sales_table.iloc[:,[3,4,5,6,7,8]]);\n",
    "g.fig.suptitle(\"Factors that could influence the sales\", fontsize=25)\n",
    "plt.show()"
   ]
  },
  {
   "cell_type": "code",
   "execution_count": null,
   "id": "ee0bda1a-65f3-418e-9e95-d3bf96a7a325",
   "metadata": {},
   "outputs": [],
   "source": []
  },
  {
   "cell_type": "markdown",
   "id": "b26e8532-7454-41e4-a691-9c8680af140b",
   "metadata": {},
   "source": [
    "## Price, TV Advertising (very correlated) seems interesting"
   ]
  },
  {
   "cell_type": "markdown",
   "id": "a20239b2-8400-43aa-8801-e783cb867d0c",
   "metadata": {
    "tags": []
   },
   "source": [
    "## Let's try to calculate a correlation "
   ]
  },
  {
   "cell_type": "code",
   "execution_count": null,
   "id": "5fcbbf41-e2f5-4c15-aee1-679e458ab0ea",
   "metadata": {
    "tags": []
   },
   "outputs": [],
   "source": [
    "cor_tv = sales_table['Sales_in_thousands'].corr(sales_table['TV Advert (thousands)'])\n",
    "cor_price = sales_table['Sales_in_thousands'].corr(sales_table['Price_in_thousands'])\n",
    "print(\"Correlation between Sales and TV Advertising:\", cor_tv)\n",
    "print(\"Correlation between Sales and Price:\", cor_price)"
   ]
  },
  {
   "cell_type": "markdown",
   "id": "5886740c-5ff3-4ac3-9824-959791156dba",
   "metadata": {},
   "source": [
    "## TV Advertising seems to be very linearly correlated with Sales.\n",
    "\n",
    "## Could be interesting to perform a linear regression to have a predictor for sales\n",
    "\n",
    "$ Sales = \\beta_0 + \\beta_1 (TVAdv) + \\epsilon$\n",
    "\n",
    "$ y = X \\beta + \\epsilon$"
   ]
  },
  {
   "cell_type": "code",
   "execution_count": null,
   "id": "6760bf36-1d57-4685-9233-ce0c6f4f8932",
   "metadata": {
    "tags": []
   },
   "outputs": [],
   "source": [
    "# we use statsmodels mudule as sm for statistical tools\n",
    "\n",
    "\n",
    "# extract X training data from dataframe\n",
    "X_train = sales_table['TV Advert (thousands)'].values\n",
    "X_train = sm.add_constant(X_train)\n",
    "\n",
    "# extract y training data from dataframe\n",
    "y_train = sales_table['Sales_in_thousands'].values\n"
   ]
  },
  {
   "cell_type": "code",
   "execution_count": null,
   "id": "20f7e3f2-4194-4aa8-965e-962138c108d3",
   "metadata": {},
   "outputs": [],
   "source": []
  },
  {
   "cell_type": "code",
   "execution_count": null,
   "id": "830b87f7-7522-4d62-9fe2-1fe9186c3bc4",
   "metadata": {},
   "outputs": [],
   "source": []
  },
  {
   "cell_type": "code",
   "execution_count": null,
   "id": "8111eee0-5ddc-4a20-ab8b-b3b704c76066",
   "metadata": {
    "tags": []
   },
   "outputs": [],
   "source": [
    "X_train[0:20]"
   ]
  },
  {
   "cell_type": "code",
   "execution_count": null,
   "id": "d23cdfb3-5e52-4173-839d-b81537534ca1",
   "metadata": {
    "tags": []
   },
   "outputs": [],
   "source": [
    "# set simple linear regression model\n",
    "model = sm.OLS(y_train,X_train)    # create the OLS model\n",
    "\n",
    "# train the model\n",
    "results= model.fit()   # train the model\n",
    "\n",
    "# Print the model summary\n",
    "print(results.summary())"
   ]
  },
  {
   "cell_type": "code",
   "execution_count": null,
   "id": "bf818a7f-d47f-4afe-b51e-6fe6a7c7917f",
   "metadata": {},
   "outputs": [],
   "source": []
  },
  {
   "cell_type": "code",
   "execution_count": null,
   "id": "283cf477-2d6c-4896-8d68-3e58e9ea88d3",
   "metadata": {
    "tags": []
   },
   "outputs": [],
   "source": [
    "print(\"Coefficients: \", results.params)\n",
    "print(\"R2: \", results.rsquared)"
   ]
  },
  {
   "cell_type": "code",
   "execution_count": null,
   "id": "b6f99adf-173b-44fc-a94a-3fbfad507687",
   "metadata": {},
   "outputs": [],
   "source": []
  },
  {
   "cell_type": "markdown",
   "id": "d028cb11-9062-4e33-a3a5-db87e1e43860",
   "metadata": {
    "tags": []
   },
   "source": [
    "## Let's try to visualize the regression line "
   ]
  },
  {
   "cell_type": "code",
   "execution_count": null,
   "id": "2cefd3f3-edbc-4177-9abc-b0344eef4173",
   "metadata": {
    "tags": []
   },
   "outputs": [],
   "source": [
    "# ------------------------------------\n",
    "# calculate predictions\n",
    "pred_ols = results.get_prediction()\n",
    "\n",
    "#-------------------------------------\n",
    "# Confidence intervals\n",
    "iv_l = pred_ols.summary_frame()[\"obs_ci_lower\"]\n",
    "iv_u = pred_ols.summary_frame()[\"obs_ci_upper\"]\n",
    "\n",
    "#--------------------------------------\n",
    "# plotting\n",
    "fig, ax = plt.subplots(figsize=(8, 6))\n",
    "ax.plot(X_train[:,1], y_train, \"o\", label=\"data\")   # plot original data\n",
    "ax.plot(X_train[:,1], results.fittedvalues, \"r--.\", label=\"OLS\")  # plot fitted data\n",
    "ax.plot(X_train[:,1], iv_u, \"r--\", c='g')   # plot upper confident interval\n",
    "ax.plot(X_train[:,1], iv_l, \"r--\", c='g')   # plot lower confident interval\n",
    "\n",
    "#---------------------------------------\n",
    "# figure decorator\n",
    "ax.legend(loc=\"best\")\n",
    "plt.xlim(0,600)\n",
    "plt.ylim(0,70)\n",
    "plt.xlabel('TV Advertising (k euros)')\n",
    "plt.ylabel('Sales (k)')\n",
    "plt.show()"
   ]
  },
  {
   "cell_type": "code",
   "execution_count": null,
   "id": "35673c2f-b3b8-4fd7-9abe-f626c690ceb5",
   "metadata": {},
   "outputs": [],
   "source": []
  },
  {
   "cell_type": "markdown",
   "id": "efc7d60e-8bc3-487c-85e1-3adb97cfe759",
   "metadata": {},
   "source": [
    "# TASK 3: \n",
    "## Make a prediction about how many sales can be generated with an investment of 500k euro in TV Advertising"
   ]
  },
  {
   "cell_type": "markdown",
   "id": "e8ad789f-392f-4ea8-b72c-6621853efb6c",
   "metadata": {},
   "source": [
    "## Having a statistical model for TV Advertising we can estimate sales "
   ]
  },
  {
   "cell_type": "code",
   "execution_count": null,
   "id": "2053432f-98f4-4c80-8635-e0ab7f14b0d7",
   "metadata": {
    "tags": []
   },
   "outputs": [],
   "source": [
    "inv = 500\n",
    "β1 = results.params[0]  # estimated parameter\n",
    "β2 = results.params[1]  # estimated parameter\n",
    "y_pred = β1 + β2 * inv\n",
    "print(\"Estimated amount of sales with investment of\",inv,\"k euros is\",y_pred, \"k units\")"
   ]
  },
  {
   "cell_type": "markdown",
   "id": "b5ab3486-d9bb-4c59-a87a-f547f1931cda",
   "metadata": {},
   "source": [
    "# TASK 4: \n",
    "## Make a prediction about how many sales can be generated with an investment of 75k euro in Social Advertising"
   ]
  },
  {
   "cell_type": "markdown",
   "id": "b8400297-ae9c-43b6-b134-de3f4ebe72d3",
   "metadata": {
    "tags": []
   },
   "source": [
    "### Let's picture the relationship betweeen Social Adv and Sales"
   ]
  },
  {
   "cell_type": "code",
   "execution_count": null,
   "id": "85b6660c-8282-4bf5-bbb7-3946a1ee8dee",
   "metadata": {},
   "outputs": [],
   "source": [
    "plt.scatter(sales_table['Social Advert'].values, sales_table['Sales_in_thousands'].values)\n",
    "plt.xlabel(\"Social Advert\")\n",
    "plt.ylabel(\"Sales_in_thousands\");\n"
   ]
  },
  {
   "cell_type": "markdown",
   "id": "3d895498-116a-4358-8110-4a6e4e60672b",
   "metadata": {},
   "source": [
    "It looks not properly linear..."
   ]
  },
  {
   "cell_type": "code",
   "execution_count": null,
   "id": "5f4bfc1f-5b3c-43f2-9acf-e076e36668f4",
   "metadata": {},
   "outputs": [],
   "source": []
  },
  {
   "cell_type": "markdown",
   "id": "e2a71b3c-46ef-45fc-903c-0be941b59861",
   "metadata": {
    "tags": []
   },
   "source": [
    "## Let's try to calculate a correlation "
   ]
  },
  {
   "cell_type": "code",
   "execution_count": null,
   "id": "ff97a996-4c68-4322-bcbf-6f3dbce4e03a",
   "metadata": {
    "tags": []
   },
   "outputs": [],
   "source": [
    "cor_sol = sales_table['Sales_in_thousands'].corr(sales_table['Social Advert'])\n",
    "print(\"Correlation between Sales and Social Advertising:\", cor_sol)\n"
   ]
  },
  {
   "cell_type": "markdown",
   "id": "dc2e6d9c-af87-481c-898a-920c8d8cba15",
   "metadata": {},
   "source": [
    "It's very poor...."
   ]
  },
  {
   "cell_type": "markdown",
   "id": "cedeeda4-ab70-4cd5-866e-5581707fdee2",
   "metadata": {},
   "source": [
    "Let's try with the statistical tool for linear regressio"
   ]
  },
  {
   "cell_type": "code",
   "execution_count": null,
   "id": "9efb9464-45df-4730-b72b-bf387f11db12",
   "metadata": {
    "tags": []
   },
   "outputs": [],
   "source": [
    "X_train_social = sales_table['Social Advert'].values"
   ]
  },
  {
   "cell_type": "code",
   "execution_count": null,
   "id": "1603db5b-61ae-4334-bea4-c9c39b1503ee",
   "metadata": {
    "tags": []
   },
   "outputs": [],
   "source": [
    "# train the model\n",
    "\n",
    "model1 = sm.OLS(y_train,X_train_social)    # create the OLS model\n",
    "results1 = model1.fit()   # train the model\n",
    "\n",
    "# Print the model summary\n",
    "print(results1.summary())"
   ]
  },
  {
   "cell_type": "markdown",
   "id": "98357886-d385-4b05-8080-5c97cb1775f5",
   "metadata": {
    "tags": []
   },
   "source": [
    "## We got poor results. \n",
    "## Let's try with a different (non linear) estimator: "
   ]
  },
  {
   "cell_type": "markdown",
   "id": "37e6c8cf-ecd0-4d07-8f0b-819536463776",
   "metadata": {},
   "source": [
    "# k-nearest neighbors \n",
    "(https://en.wikipedia.org/wiki/K-nearest_neighbors_algorithm)  \n",
    "In statistics, the **k-nearest neighbors algorithm (k-NN)** is a **non-parametric supervised learning method**.\n",
    "\n",
    "The k-NN algorithm can also be generalized for **regression**. In k-NN regression, also known as **nearest neighbor smoothing**, the output is the property value for the object. This **value is the average of the values of k nearest neighbors**. If k = 1, then the output is simply assigned to the value of that single nearest neighbor, also known as nearest neighbor interpolation.\n",
    "\n",
    "In python the algorithm is implemented in **sklearn** Module with the name of **KNeighborsRegressor** (https://scikit-learn.org/1.5/modules/generated/sklearn.neighbors.KNeighborsRegressor.html)"
   ]
  },
  {
   "cell_type": "code",
   "execution_count": null,
   "id": "2fd19900-140f-4dc0-ab32-49463b8aa2c3",
   "metadata": {},
   "outputs": [],
   "source": []
  },
  {
   "cell_type": "code",
   "execution_count": null,
   "id": "403ee060-9ef1-410a-86ae-47f4b9230e38",
   "metadata": {},
   "outputs": [],
   "source": [
    "# extract data from original sales dataframe\n",
    "X_social = sales_table['Social Advert'].values\n",
    "y = sales_table['Sales_in_thousands'].values"
   ]
  },
  {
   "cell_type": "code",
   "execution_count": null,
   "id": "52b46cfc-a30a-4cb4-a9ab-bf0fe60c4704",
   "metadata": {
    "tags": []
   },
   "outputs": [],
   "source": [
    "# import the libraries\n",
    "from sklearn import neighbors   # to import the model\n"
   ]
  },
  {
   "cell_type": "code",
   "execution_count": null,
   "id": "2df62f8d-6d4b-47dc-89ad-0c06e835cb1f",
   "metadata": {},
   "outputs": [],
   "source": [
    "# preprocess inputs for the model\n",
    "from sklearn.preprocessing import scale   # to preprocess the input\n",
    "X_social_prep = scale(X_social, with_mean=False, with_std=False)\n",
    "X_social_prep = X_social_prep.reshape(-1,1)\n",
    "X_social_prep[0:10]"
   ]
  },
  {
   "cell_type": "markdown",
   "id": "bf4b4f8e-1589-4754-8c86-c1006b098678",
   "metadata": {},
   "source": [
    "The **scale function** from sklearn.preprocessing **standardizes the input data**, typically by **removing the mean and scaling to unit variance**. However, the parameters with_mean=False and with_std=False modify its behavior.  \n",
    "- with_mean=False: The function does not center the data by subtracting the mean.\n",
    "- with_std=False: The function does not scale the data by dividing by the standard deviation.\n",
    "  \n",
    "In this case, no actual scaling or centering is performed. The data will remain unchanged, but the call to scale maintains compatibility with a preprocessing pipeline.\n",
    "\n"
   ]
  },
  {
   "cell_type": "markdown",
   "id": "3dcf14e8-bb0f-4f63-baf8-1a4cd394d497",
   "metadata": {},
   "source": [
    "### Let's split the data into a training set (used to fit the model) and a test set (to check the accuracy of the model)"
   ]
  },
  {
   "cell_type": "code",
   "execution_count": null,
   "id": "9402e814-6568-4beb-8ce2-6ebb3c154760",
   "metadata": {},
   "outputs": [],
   "source": [
    "\n",
    "# split train test and test test to check accuracy of the model\n",
    "from sklearn.model_selection import train_test_split\n",
    "X_train, X_test, y_train, y_test = train_test_split(X_social_prep, y, test_size=0.25)\n"
   ]
  },
  {
   "cell_type": "code",
   "execution_count": null,
   "id": "ae769481-e696-4ed8-a836-c21817505aa6",
   "metadata": {},
   "outputs": [],
   "source": []
  },
  {
   "cell_type": "markdown",
   "id": "ac6337fe-61ba-4c29-ad20-e2e5d700bd56",
   "metadata": {},
   "source": [
    "### Model fitting (we have 1 hyperparameter)"
   ]
  },
  {
   "cell_type": "code",
   "execution_count": null,
   "id": "7d5f3d58-443a-401a-8e04-47511a7a811e",
   "metadata": {},
   "outputs": [],
   "source": []
  },
  {
   "cell_type": "code",
   "execution_count": null,
   "id": "c4ea136b-82fd-4297-b778-883ac4a38203",
   "metadata": {},
   "outputs": [],
   "source": [
    "# set model hyperparameters\n",
    "n_neighbors = 20\n",
    "\n",
    "# set the model with hyperparameter\n",
    "knn = neighbors.KNeighborsRegressor(n_neighbors)\n",
    "\n",
    "# fit the model\n",
    "results = knn.fit(X_train, y_train)"
   ]
  },
  {
   "cell_type": "code",
   "execution_count": null,
   "id": "9d3eed03-fa7c-4ae8-9f11-67beb0dfc1f4",
   "metadata": {},
   "outputs": [],
   "source": []
  },
  {
   "cell_type": "code",
   "execution_count": null,
   "id": "5d5be675-ffcd-42e7-8272-401b61b5bc78",
   "metadata": {},
   "outputs": [],
   "source": []
  },
  {
   "cell_type": "code",
   "execution_count": null,
   "id": "80da4517-b7e8-4500-8bf4-608700818b5f",
   "metadata": {},
   "outputs": [],
   "source": []
  },
  {
   "cell_type": "markdown",
   "id": "d12afa93-546b-4d84-ba6a-676eb3e9e57a",
   "metadata": {},
   "source": [
    "### Check the accuracy of the model with Mean Square Error (MSE)\n",
    "If a vector of **$n$ predictions** is generated from a sample of **$n$ data points** on all variables, and $Y$ **is the vector of observed values** of the variable being predicted, with $\\hat {Y}$ being the **predicted values** (e.g. as from a least-squares fit), then the within-sample MSE of the predictor is computed as\n",
    "\n",
    "$\n",
    "\\text{MSE} = \\frac{1}{n} \\sum_{i=1}^{n} (Y_i - \\hat{Y}_i)^2\n",
    "$\n",
    "\n",
    "### How to use the MSE?\n",
    "We will compare the **training MSE** and **test MSE** in order to check if we have a good model.\n",
    "\n",
    "### a) Compare the train and test MSE Values\n",
    "- **Low MSE for both train and test sets** indicates that the **model fits well** and generalizes effectively.\n",
    "- **Low MSE for train but high MSE for test** suggests **overfitting** (the model fits the training data too closely but fails to generalize).\n",
    "- **High MSE for both train and test** indicates **underfitting** (the model is too simple to capture patterns in the data).\n"
   ]
  },
  {
   "cell_type": "code",
   "execution_count": null,
   "id": "8741a3a8-2632-400d-a1c9-0f338a783036",
   "metadata": {},
   "outputs": [],
   "source": []
  },
  {
   "cell_type": "code",
   "execution_count": null,
   "id": "006f8613-a719-4973-b6cd-3a72fc29104c",
   "metadata": {},
   "outputs": [],
   "source": []
  },
  {
   "cell_type": "code",
   "execution_count": null,
   "id": "9f1cac61-3138-4618-9c4c-d5c91cac216c",
   "metadata": {
    "tags": []
   },
   "outputs": [],
   "source": [
    "# Calculate the mean squared error (MSE)\n",
    "def mse(y_true, y_hat):\n",
    "  return np.mean((y_true - y_hat) ** 2)/len(y_true)\n",
    "\n",
    "# Calculate the predicted Y from train set\n",
    "y_hat_train = results.predict(X_train)\n",
    "\n",
    "# Calculate the train MSE\n",
    "mse_value_train = mse(y_train, y_hat_train)\n",
    "\n",
    "# Calculate the predicted Y from test set\n",
    "y_hat_test = results.predict(X_test)\n",
    "\n",
    "# Calculate the test MSE\n",
    "mse_value_test = mse(y_test, y_hat_test)\n",
    "\n",
    "# Print the MSE\n",
    "print(\"MSE train:\",mse_value_train)\n",
    "print(\"MSE test:\",mse_value_test)"
   ]
  },
  {
   "cell_type": "markdown",
   "id": "787b269b-8cf0-4ef6-a06c-c06c54849d38",
   "metadata": {},
   "source": [
    "## Note that if we repeat the shuffle between train and set the MSE change"
   ]
  },
  {
   "cell_type": "markdown",
   "id": "a70382ca-861b-4b2a-9fe4-d9fbdfc31195",
   "metadata": {},
   "source": [
    "Let's assume the values tell us that the model is accurate enough. Let's have a look of the prediction\n"
   ]
  },
  {
   "cell_type": "code",
   "execution_count": null,
   "id": "76a7322d-a7b1-497e-acac-32293a71dc86",
   "metadata": {},
   "outputs": [],
   "source": [
    "y_hat = results.predict(X_social.reshape(-1,1))\n",
    "\n",
    "plt.scatter(X_social, y, color='darkorange', label='data')\n",
    "plt.scatter(X_social, y_hat, color='navy', label='prediction')\n",
    "plt.legend()\n",
    "plt.title(\"KNeighborsRegressor (k = %i)\" % (n_neighbors))\n",
    "\n",
    "plt.tight_layout()\n",
    "plt.xlim(0,200000)\n",
    "plt.ylim(0,400)\n",
    "plt.xlabel(\"Social Advertising investment (euros)\")\n",
    "plt.ylabel(\"Sales (k units)\")\n",
    "\n",
    "plt.show()"
   ]
  },
  {
   "cell_type": "markdown",
   "id": "bb50136f-a7f6-45cc-883f-d1dcfedd72c2",
   "metadata": {},
   "source": [
    "## Let's assume instead that the 2 values not good and our model not accurate"
   ]
  },
  {
   "cell_type": "code",
   "execution_count": null,
   "id": "d11079d3-830b-40a9-aac9-187ad6973ac1",
   "metadata": {},
   "outputs": [],
   "source": []
  },
  {
   "cell_type": "markdown",
   "id": "5f7a8064-7e02-463b-90fe-e5ec03a8b86f",
   "metadata": {},
   "source": [
    "## Do we have the best model? We can change the hyperparameters **n_neighbors** and check MSE"
   ]
  },
  {
   "cell_type": "code",
   "execution_count": null,
   "id": "70e8722a-89f4-4ab3-bbec-b05ccf63d63c",
   "metadata": {},
   "outputs": [],
   "source": [
    "X_train, X_test, y_train, y_test = train_test_split(X_social_prep, y, test_size=0.25)"
   ]
  },
  {
   "cell_type": "code",
   "execution_count": null,
   "id": "03b4a6f7-c086-4b2b-bcb4-a36d40162c79",
   "metadata": {
    "tags": []
   },
   "outputs": [],
   "source": [
    "# split train test and test test to check accuracy of the model\n",
    "X_train, X_test, y_train, y_test = train_test_split(X_social_prep, y, test_size=0.25)\n",
    "\n",
    "# we will use the SAME set to train the model with different hyperparameters\n",
    "mse_value_train = []\n",
    "mse_value_test = []\n",
    "\n",
    "for i in range(1,100):\n",
    "    n_neighbors = i\n",
    "    knn = neighbors.KNeighborsRegressor(n_neighbors)\n",
    "    results = knn.fit(X_train, y_train)\n",
    "    # Calculate the test MSE\n",
    "    y_hat_train = results.predict(X_train)\n",
    "    mse_value_train.append(mse(y_train, y_hat_train))\n",
    "    # Calculate the test MSE\n",
    "    y_hat_test = results.predict(X_test)\n",
    "    mse_value_test.append(mse(y_test, y_hat_test))"
   ]
  },
  {
   "cell_type": "code",
   "execution_count": null,
   "id": "2b3ce1e9-2903-4c3a-b793-ef7918051687",
   "metadata": {
    "tags": []
   },
   "outputs": [],
   "source": [
    "plt.plot(mse_value_train, label='Train MSE')\n",
    "plt.plot(mse_value_test, label='Test MSE')\n",
    "plt.legend()\n",
    "plt.xlabel('Neighbors')\n",
    "plt.ylabel('MSE')"
   ]
  },
  {
   "cell_type": "markdown",
   "id": "20d72350-27cc-46f5-b8b2-c1e52b3ef75e",
   "metadata": {},
   "source": [
    "## we can take neighbors = 50 as best hyperparameter and make a prediction for the investment of 75k euro in Social Advertising\n"
   ]
  },
  {
   "cell_type": "code",
   "execution_count": null,
   "id": "6a9c6088-6edb-4e35-8f7a-b5fa74d16df5",
   "metadata": {
    "tags": []
   },
   "outputs": [],
   "source": [
    "## we can take neighbors = 50 as best hyperparameter and prediction about and make a prediction for the investment of 75k euro in Social Advertising\n",
    "n_neighbors = 50\n",
    "\n",
    "knn = neighbors.KNeighborsRegressor(n_neighbors)\n",
    "results = knn.fit(X_train, y_train)\n",
    "y_hat = results.predict(np.array([75000]).reshape(-1,1))\n",
    "\n",
    "print('An investment of 75k euro in Social Advertising generates ',y_hat[0], 'units of sale')"
   ]
  },
  {
   "cell_type": "markdown",
   "id": "a6dd2888-2b06-4448-8148-e29fe378bc7b",
   "metadata": {},
   "source": [
    "# TASK 5: \n",
    "make a prediction for some new cars models about a chance to win the prestigious award \"Car of the Year\". Factors of success are Power performance and Fuel Efficiency. Data about these factors for the new cars will be provided"
   ]
  },
  {
   "cell_type": "markdown",
   "id": "cc9429b3-eaf6-4acc-ade0-8d7fa153f310",
   "metadata": {},
   "source": [
    "## Last question: The award\n",
    "\n",
    "### We have to make a prediction for three new cars models about a chance to win the prestigious award \"Car of the Year\".\n",
    "\n",
    "### Factors of success are Power performance and Fuel Efficiency. "
   ]
  },
  {
   "cell_type": "code",
   "execution_count": null,
   "id": "68c7c635-f5c0-4878-9248-743faa101591",
   "metadata": {
    "tags": []
   },
   "outputs": [],
   "source": [
    "sales_table[['Manufacturer','Model','Fuel_efficiency','Power_perf_factor','Awarded']]"
   ]
  },
  {
   "cell_type": "code",
   "execution_count": null,
   "id": "42a71ea5-92b4-4a27-a779-d450252e9927",
   "metadata": {},
   "outputs": [],
   "source": []
  },
  {
   "cell_type": "markdown",
   "id": "89723a4f-28de-47d0-acc7-e45299299578",
   "metadata": {},
   "source": [
    "### We note that the column \"Awarded\" has 0 for NOT win and 1 for WIN.\n",
    "\n",
    "### We have to build a standard classifier with 2 predictors: \"Fuel_efficiency\" and \"Power_perf_factor\""
   ]
  },
  {
   "cell_type": "markdown",
   "id": "b7f003ff-4d1c-4458-8e8a-b569f5e3f7e5",
   "metadata": {},
   "source": [
    "## Let's load the file provided by marketing dep containing the new cars "
   ]
  },
  {
   "cell_type": "code",
   "execution_count": null,
   "id": "3e456410-4474-41d0-b849-be8eab192626",
   "metadata": {
    "tags": []
   },
   "outputs": [],
   "source": [
    "# Load the CSV file provided by IT on a local table (dataframe)\n",
    "award_factors = pd.read_csv('https://raw.githubusercontent.com/pal-dev-labs/Python-for-Economic-Applications-2024-2025/refs/heads/main/Data/award-factors.csv')"
   ]
  },
  {
   "cell_type": "code",
   "execution_count": null,
   "id": "abba4075-7c93-4747-ad47-9fe50bb6ccc6",
   "metadata": {},
   "outputs": [],
   "source": []
  },
  {
   "cell_type": "code",
   "execution_count": null,
   "id": "fc8dd904-9f1f-4fd0-ae70-7196b59de449",
   "metadata": {
    "tags": []
   },
   "outputs": [],
   "source": [
    "award_factors"
   ]
  },
  {
   "cell_type": "code",
   "execution_count": null,
   "id": "e9a2602b-bf07-4401-90c7-ee1763952a07",
   "metadata": {},
   "outputs": [],
   "source": []
  },
  {
   "cell_type": "markdown",
   "id": "c17be2e0-ace2-4add-b7d5-94896397e73c",
   "metadata": {
    "tags": []
   },
   "source": [
    "## We will use a Neural Network as a classifier. We will use 2 preditors 'Fuel_efficiency' and 'Power_perf_factor'"
   ]
  },
  {
   "cell_type": "code",
   "execution_count": null,
   "id": "1562af3e-a0ba-4048-b378-5d56774d0f20",
   "metadata": {
    "tags": []
   },
   "outputs": [],
   "source": [
    "# Split the data into features and target\n",
    "X = sales_table[['Fuel_efficiency', 'Power_perf_factor']]\n",
    "y = sales_table['Awarded']\n",
    "\n",
    "# Split the data into training and testing sets\n",
    "X_train, X_test, y_train, y_test = train_test_split(X, y, test_size=0.25, random_state=42)\n"
   ]
  },
  {
   "cell_type": "code",
   "execution_count": null,
   "id": "445eb316-1755-4384-b878-b6b14d0c3dce",
   "metadata": {
    "tags": []
   },
   "outputs": [],
   "source": [
    "from tensorflow import keras\n",
    "\n",
    "# Define the model\n",
    "model = keras.Sequential([\n",
    "  keras.layers.Dense(16, activation='relu', input_shape=(2,)),\n",
    "  keras.layers.Dense(32, activation='relu'),\n",
    "  keras.layers.Dense(1, activation='sigmoid')\n",
    "])"
   ]
  },
  {
   "cell_type": "code",
   "execution_count": null,
   "id": "8d71a945-f9a0-4d60-a917-13d2e1feace2",
   "metadata": {
    "tags": []
   },
   "outputs": [],
   "source": [
    "# Compile the model\n",
    "model.compile(loss='binary_crossentropy', optimizer='adam', metrics=['accuracy'])"
   ]
  },
  {
   "cell_type": "code",
   "execution_count": null,
   "id": "c33f9749-97f8-4bb5-9b0a-364548522ae3",
   "metadata": {
    "scrolled": true,
    "tags": []
   },
   "outputs": [],
   "source": [
    "# Train the model on the training set\n",
    "model.fit(X_train, y_train, epochs=100);"
   ]
  },
  {
   "cell_type": "code",
   "execution_count": null,
   "id": "0eb8bd57-be68-4e01-89aa-3380ec55f3ba",
   "metadata": {
    "tags": []
   },
   "outputs": [],
   "source": [
    "# Evaluate the model on the testing set\n",
    "loss, accuracy = model.evaluate(X_test, y_test)\n",
    "\n",
    "# Print the loss and accuracy\n",
    "print('Loss:', loss)\n",
    "print('Accuracy:', accuracy)"
   ]
  },
  {
   "cell_type": "markdown",
   "id": "08169e87-bdee-47d9-adc7-e203dfb95b57",
   "metadata": {
    "tags": []
   },
   "source": [
    "## Make predictions on new cars\n"
   ]
  },
  {
   "cell_type": "code",
   "execution_count": null,
   "id": "936a4d86-a36d-4326-9cea-3169950f58f6",
   "metadata": {
    "tags": []
   },
   "outputs": [],
   "source": [
    "# Make predictions on new data\n",
    "\n",
    "predictions = model.predict(award_factors[['Fuel_efficiency', 'Power_perf_factor']])\n",
    "award_factors['Probability to Win (%)']=np.around(predictions*100,2)\n",
    "\n",
    "award_factors"
   ]
  },
  {
   "cell_type": "code",
   "execution_count": null,
   "id": "da4e71d8-51af-4d6d-8ba1-a90a916980c0",
   "metadata": {},
   "outputs": [],
   "source": []
  }
 ],
 "metadata": {
  "kernelspec": {
   "display_name": "Python 3 (ipykernel)",
   "language": "python",
   "name": "python3"
  },
  "language_info": {
   "codemirror_mode": {
    "name": "ipython",
    "version": 3
   },
   "file_extension": ".py",
   "mimetype": "text/x-python",
   "name": "python",
   "nbconvert_exporter": "python",
   "pygments_lexer": "ipython3",
   "version": "3.12.4"
  }
 },
 "nbformat": 4,
 "nbformat_minor": 5
}
