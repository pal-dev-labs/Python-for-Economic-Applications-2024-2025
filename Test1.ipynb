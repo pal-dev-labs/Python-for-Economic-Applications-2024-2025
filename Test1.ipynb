{
 "cells": [
  {
   "cell_type": "markdown",
   "id": "6d8901a8-8bc0-4ff7-b725-d2a415dffd37",
   "metadata": {},
   "source": [
    "# PYTHON FOR ECONOMIC APPLICATION - PYTHON LANGUAGE INTERMEDIATE TEST\n",
    "## INSTRUCTIONS\n",
    "- You have 50 minutes to complete the below exercise\n",
    "- After building the code, run the cells in order to verify the required output\n",
    "- At the end of the test, download locally the notebook (click on File-Download) and send it as attachment to giando.palumbo2@gmail.com "
   ]
  },
  {
   "cell_type": "markdown",
   "id": "d10ef0fc-0a1a-4ede-a21e-ee3712b960be",
   "metadata": {},
   "source": [
    "\n",
    "## Exercise 1: Calculate Average Price\n",
    "Write a function `average_price(prices)` that:\n",
    "1. Takes a list of item prices as input.\n",
    "2. Uses a `for` loop to calculate the total sum of the prices.\n",
    "3. Returns the average price (total sum divided by the number of items).\n",
    "\n",
    "Example:\n",
    "Input: prices = [10, 20, 30]\n",
    "Output: 20.0\n",
    "\n"
   ]
  },
  {
   "cell_type": "code",
   "execution_count": null,
   "id": "de369928-dcde-45c6-bcf2-4ae5f25ebb63",
   "metadata": {},
   "outputs": [],
   "source": []
  },
  {
   "cell_type": "markdown",
   "id": "78024646-5d45-4720-8a54-6ffa17b0f113",
   "metadata": {},
   "source": [
    "\n",
    "## Exercise 2: Filter Expenses Above Budget\n",
    "Write a function `filter_expenses(expenses, budget)` that:\n",
    "1. Takes two inputs: `expenses` (list of expense amounts) and `budget` (a maximum allowed value).\n",
    "2. Uses a `for` loop and `if` statements to create a new list with only the expenses that exceed the budget.\n",
    "3. Returns the new list.\n",
    "\n",
    "Example:\n",
    "Input: expenses = [100, 150, 50, 200], budget = 120\n",
    "Output: [150, 200]\n",
    "\n"
   ]
  },
  {
   "cell_type": "code",
   "execution_count": null,
   "id": "6c7bf625-c661-4a05-ae26-b7cc1c87c43a",
   "metadata": {},
   "outputs": [],
   "source": []
  },
  {
   "cell_type": "markdown",
   "id": "5d1eb433-2c1d-4fa6-afe7-09f7440907db",
   "metadata": {},
   "source": [
    "## Exercise 3: Calculate Compound Interest\n",
    "Write a function `compound_interest(principal, rate, years)` that:\n",
    "1. Takes three inputs: `principal` (initial investment), `rate` (annual interest rate in percentage), and `years` (number of years).\n",
    "2. Uses a `for` loop to calculate the compound interest for each year.\n",
    "3. Returns a list of the investment value at the end of each year.\n",
    "\n",
    "Example:\n",
    "Input: principal = 1000, rate = 5, years = 3\n",
    "Output: [1050.0, 1102.5, 1157.625]\n",
    "\n"
   ]
  },
  {
   "cell_type": "code",
   "execution_count": null,
   "id": "aae62f48-7914-4aaa-95ac-f91fe0a1fae8",
   "metadata": {},
   "outputs": [],
   "source": []
  },
  {
   "cell_type": "markdown",
   "id": "30983955-3e8e-4f8b-88d6-cb0e9d218421",
   "metadata": {},
   "source": [
    "## Exercise 4: Calculate Total Payroll\n",
    "Write a function `calculate_payroll(hours_worked, hourly_rate)` that:\n",
    "1. Takes two inputs: `hours_worked` (list of hours worked by employees) and `hourly_rate` (the hourly wage).\n",
    "2. Uses a `for` loop to calculate the total pay for each employee (hours worked * hourly rate).\n",
    "3. Returns a list of total pay amounts.\n",
    "\n",
    "Example:\n",
    "Input: hours_worked = [40, 35, 30], hourly_rate = 15\n",
    "Output: [600, 525, 450]\n",
    "\n"
   ]
  },
  {
   "cell_type": "code",
   "execution_count": null,
   "id": "37677fb9-ec20-40e0-83f8-d2b9eb548165",
   "metadata": {},
   "outputs": [],
   "source": []
  },
  {
   "cell_type": "markdown",
   "id": "4291b65e-52f7-4d8a-8b4d-9de9f352e08d",
   "metadata": {},
   "source": [
    "## Exercise 5: Identify Top Sellers\n",
    "Write a function `top_sellers(sales, threshold)` that:\n",
    "1. Takes two inputs: `sales` (list of sales amounts for each employee) and `threshold` (a minimum sales amount to be considered a top seller).\n",
    "2. Uses a `for` loop and `if` statements to identify which employees are top sellers.\n",
    "3. Returns a list of indexes (positions) of employees who are top sellers.\n",
    "\n",
    "Example:\n",
    "Input: sales = [500, 1200, 800, 1500], threshold = 1000\n",
    "Output: [1, 3]\n"
   ]
  },
  {
   "cell_type": "code",
   "execution_count": null,
   "id": "a7002dc4-1923-4019-b6e7-5e56967a67a0",
   "metadata": {},
   "outputs": [],
   "source": []
  },
  {
   "cell_type": "markdown",
   "id": "b222ad49-1ee5-4849-986e-41035d4e8224",
   "metadata": {},
   "source": [
    "## Exercise 6: Calculate Total Inventory Value\n",
    "Write a function `inventory_value(inventory)` that:\n",
    "1. Takes a dictionary `inventory` where keys are item names and values are dictionaries with `price` and `quantity`.\n",
    "2. Uses a list comprehension to calculate the total value for each item (`price * quantity`).\n",
    "3. Returns a dictionary with the item names as keys and their total values as values.\n",
    "\n",
    "Example:\n",
    "Input: inventory = {\n",
    "    \"Apples\": {\"price\": 2, \"quantity\": 50},\n",
    "    \"Bananas\": {\"price\": 1, \"quantity\": 100},\n",
    "    \"Oranges\": {\"price\": 3, \"quantity\": 30}\n",
    "}\n",
    "Output: {\"Apples\": 100, \"Bananas\": 100, \"Oranges\": 90}\n"
   ]
  },
  {
   "cell_type": "code",
   "execution_count": null,
   "id": "fd221d8d-eaee-4eda-8cda-52f3270be55b",
   "metadata": {},
   "outputs": [],
   "source": []
  },
  {
   "cell_type": "markdown",
   "id": "45b6ca2a-88ea-47bc-937e-5b29cf93e541",
   "metadata": {},
   "source": [
    "## Exercise 7: Update Stock Quantities\n",
    "Write a function `update_stock(stock, sold)` that:\n",
    "1. Takes two dictionaries: `stock` (current quantities of items) and `sold` (quantities sold for each item).\n",
    "2. Uses a `while` loop to update the stock by subtracting the sold quantities.\n",
    "3. Returns the updated stock dictionary.\n",
    "\n",
    "Example:\n",
    "Input: \n",
    "stock = {\"Apples\": 50, \"Bananas\": 100, \"Oranges\": 30}\n",
    "sold = {\"Apples\": 10, \"Bananas\": 20, \"Oranges\": 5}\n",
    "Output: {\"Apples\": 40, \"Bananas\": 80, \"Oranges\": 25}\n"
   ]
  },
  {
   "cell_type": "code",
   "execution_count": null,
   "id": "00d829af-1fc1-451d-bc7a-18388b76d43b",
   "metadata": {},
   "outputs": [],
   "source": []
  },
  {
   "cell_type": "markdown",
   "id": "75fcbee1-41a9-4813-af79-0035da76fd20",
   "metadata": {},
   "source": [
    "\n",
    "## Exercise 8: Analyze Sales Performance\n",
    "Write a function `sales_performance(sales, target)` that:\n",
    "1. Takes a dictionary `sales` where keys are employee names and values are their sales amounts, and a `target` sales amount.\n",
    "2. Uses a dictionary comprehension to classify each employee as `\"Above Target\"` or `\"Below Target\"`.\n",
    "3. Returns a dictionary with the employee names as keys and their classification as values.\n",
    "\n",
    "Example:\n",
    "Input: \n",
    "sales = {\"Alice\": 1200, \"Bob\": 800, \"Charlie\": 1500}\n",
    "target = 1000\n",
    "Output: {\"Alice\": \"Above Target\", \"Bob\": \"Below Target\", \"Charlie\": \"Above Target\"}\n"
   ]
  },
  {
   "cell_type": "code",
   "execution_count": null,
   "id": "103a03cc-1c82-48ee-8e37-f083006d6b5c",
   "metadata": {},
   "outputs": [],
   "source": []
  },
  {
   "cell_type": "markdown",
   "id": "3fef40f1-7cb8-4dfd-aff3-67ff4d15cb9b",
   "metadata": {},
   "source": [
    "\n",
    "## Exercise 9: Analyze Sales Performance\n",
    "Write a function `sales_performance(sales, target)` that:\n",
    "1. Takes a dictionary `sales` where keys are employee names and values are their sales amounts, and a `target` sales amount.\n",
    "2. Uses a dictionary comprehension to classify each employee as `\"Above Target\"` or `\"Below Target\"`.\n",
    "3. Returns a dictionary with the employee names as keys and their classification as values.\n",
    "\n",
    "Example:\n",
    "Input: \n",
    "sales = {\"Alice\": 1200, \"Bob\": 800, \"Charlie\": 1500}\n",
    "target = 1000\n",
    "Output: {\"Alice\": \"Above Target\", \"Bob\": \"Below Target\", \"Charlie\": \"Above Target\"}\n",
    "\n"
   ]
  },
  {
   "cell_type": "code",
   "execution_count": null,
   "id": "d1eab9c2-7045-4399-8813-b57b85ac22f8",
   "metadata": {},
   "outputs": [],
   "source": []
  }
 ],
 "metadata": {
  "kernelspec": {
   "display_name": "Python 3 (ipykernel)",
   "language": "python",
   "name": "python3"
  },
  "language_info": {
   "codemirror_mode": {
    "name": "ipython",
    "version": 3
   },
   "file_extension": ".py",
   "mimetype": "text/x-python",
   "name": "python",
   "nbconvert_exporter": "python",
   "pygments_lexer": "ipython3",
   "version": "3.12.4"
  }
 },
 "nbformat": 4,
 "nbformat_minor": 5
}
